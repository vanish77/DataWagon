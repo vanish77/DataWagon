{
 "cells": [
  {
   "cell_type": "code",
   "execution_count": 1,
   "id": "b5b2186c",
   "metadata": {},
   "outputs": [],
   "source": [
    "import pandas as pd"
   ]
  },
  {
   "cell_type": "code",
   "execution_count": 2,
   "id": "629d183b",
   "metadata": {},
   "outputs": [],
   "source": [
    "import numpy as np"
   ]
  },
  {
   "cell_type": "markdown",
   "id": "376834ba",
   "metadata": {},
   "source": [
    "### Основные идеи:\n",
    "\n",
    "1) Сильными признаками оказались временные признаки: возраст вагона, время, оставшееся до планового ремонта, время, оставшееся до истечения срока службы\n",
    "\n",
    "2) Признаки, связанные с номером станции, на которой в последний раз был вагон, также внесло сильный вклад в решение. Мы связавыем это с тем, что с определенных станций вагоны отправляются в депо раньше остальных (например, потому что ремонт там стоит дешевле)\n",
    "\n",
    "3) Статистки за последний месяц помогают определить интенсивность нагрузки на вагон и являются сильной фичей\n",
    "\n",
    "4) В качестве модели использовать градиентный бустинг из библиотеки LightGBM\n",
    "\n"
   ]
  },
  {
   "cell_type": "markdown",
   "id": "5aadbec6",
   "metadata": {},
   "source": [
    "#### Считываем данные"
   ]
  },
  {
   "cell_type": "code",
   "execution_count": 349,
   "id": "d0a7c190",
   "metadata": {},
   "outputs": [],
   "source": [
    "test = pd.read_csv('target/y_predict.csv')\n",
    "test.month = pd.to_datetime(test.month)"
   ]
  },
  {
   "cell_type": "code",
   "execution_count": 313,
   "id": "beac2978",
   "metadata": {},
   "outputs": [],
   "source": [
    "def load_dislok():\n",
    "    dislok = pd.read_parquet('dislok_wagons.parquet').convert_dtypes()\n",
    "    feb = pd.read_parquet('test/dislok_wagons.parquet').convert_dtypes()\n",
    "    dislok = pd.concat([dislok, feb]).reset_index()\n",
    "    dislok.plan_date = pd.to_datetime(dislok.plan_date)\n",
    "    return dislok\n",
    "\n",
    "def load_targs():\n",
    "    train = pd.read_csv('target/y_train.csv')\n",
    "    feb = pd.read_csv('test/target/y_test.csv')\n",
    "    train = pd.concat([train, feb]).reset_index()\n",
    "    return train\n",
    "\n",
    "def load_pr_rems():\n",
    "    pr_rem1 = pd.read_parquet('./pr_rems.parquet').convert_dtypes()\n",
    "    pr_rem2 = pd.read_parquet('./test/pr_rems.parquet').convert_dtypes()\n",
    "    return pd.concat([pr_rem1, pr_rem2])\n",
    "\n",
    "def load_tr_rems():\n",
    "    tr_rem1 = pd.read_parquet('./tr_rems.parquet').convert_dtypes()\n",
    "    tr_rem2 = pd.read_parquet('./test/tr_rems.parquet').convert_dtypes()\n",
    "    return pd.concat([tr_rem1, tr_rem2]).reset_index()"
   ]
  },
  {
   "cell_type": "markdown",
   "id": "afb238f4",
   "metadata": {},
   "source": [
    "#### Функция Считает статистики за предыдущий месяц. Достаем инфу из dislok в словарь, разворачиваем на таргет"
   ]
  },
  {
   "cell_type": "code",
   "execution_count": 314,
   "id": "70496798",
   "metadata": {},
   "outputs": [],
   "source": [
    "from sklearn.base import BaseEstimator, TransformerMixin\n",
    "from tqdm.notebook import tqdm as tqdm\n",
    "\n",
    "def process_ost_prob(accum, load_accum):\n",
    "    \n",
    "    \n",
    "    accum = np.array(accum)\n",
    "    load_accum = np.array(load_accum)\n",
    "    \n",
    "    \n",
    "    if(np.isnan(accum).any()):\n",
    "        return np.array([-1, -1, -1, -1, -1, -1])\n",
    "    \n",
    "    mask = accum != 160000\n",
    "    accum = accum[mask]\n",
    "    lam = load_accum[mask]\n",
    "    \n",
    "    if(len(accum) == 0):\n",
    "        return np.array([0, 0, 0, 0, 0, 0])\n",
    "    \n",
    "    path = 0\n",
    "    \n",
    "    val_acc = []\n",
    "    \n",
    "    under_load = 0\n",
    "    \n",
    "    for i in range(len(accum) - 1):\n",
    "        if(accum[i] < accum[i + 1]):\n",
    "            pass\n",
    "        else:\n",
    "            val_acc.append(accum[i] - accum[i + 1])\n",
    "            if(lam[i] == 1):\n",
    "                under_load += accum[i] - accum[i + 1]\n",
    "            \n",
    "    return np.array([sum(val_acc), np.mean(val_acc), np.std(val_acc), sum(load_accum), under_load, under_load/(sum(val_acc)+1e-7)])\n",
    "\n",
    "def unfold_stats_applyer(d, x):\n",
    "    m = x[\"month\"]\n",
    "    cm = int(m[5:7])\n",
    "    wn = x[\"wagnum\"]\n",
    "    if((wn, cm - 1) in d):\n",
    "        ans = d[(wn, (cm - 1)%12 )]\n",
    "    else:\n",
    "        ans = np.array([np.nan, np.nan, np.nan, np.nan, np.nan, np.nan])\n",
    "    \n",
    "    return pd.Series(data=ans, index=[\"last_month_run\", \"last_month_mean\", \"last_month_std\", \"under_load_days\", \"under_load_dist\", \"under_load_percent\"])\n",
    "\n",
    "\n",
    "class DislokStatExctractor(BaseEstimator, TransformerMixin):\n",
    "    def __init__(self, dislok):\n",
    "        dislok_sorted = dislok.sort_values([\"wagnum\", \"plan_date\"])\n",
    "        \n",
    "        plandat = dislok_sorted.plan_date.dt.month.values.copy()\n",
    "        wagons = dislok_sorted.wagnum.values.copy()\n",
    "        ost_prob = dislok_sorted.ost_prob.values.copy()\n",
    "\n",
    "        is_load = dislok_sorted.isload.values.copy()\n",
    "        \n",
    "        del dislok_sorted\n",
    "        \n",
    "        accum = []\n",
    "        load_accum = []\n",
    "\n",
    "        d = {}\n",
    "        for i in tqdm(range(len(plandat) - 1)):\n",
    "            cm = plandat[i]\n",
    "            nm = plandat[i + 1]\n",
    "            wn = wagons[i]\n",
    "            nwn = wagons[i + 1]\n",
    "\n",
    "            if(ost_prob[i] is pd.NA):\n",
    "                accum.append(np.nan)\n",
    "            else:\n",
    "                accum.append(ost_prob[i])\n",
    "            load_accum.append(is_load[i])\n",
    "\n",
    "            if(cm == nm)and(wn == nwn):\n",
    "                pass\n",
    "            else:\n",
    "                d[(wn, cm%12)] = process_ost_prob(accum, load_accum)\n",
    "                accum = []\n",
    "                load_accum = []\n",
    "                \n",
    "        self.d_stats = d\n",
    "    \n",
    "    def fit(self, X, y = None):\n",
    "        return self\n",
    "    \n",
    "    def transform(self, X, y = None):\n",
    "        return X.apply(lambda x: unfold_stats_applyer(self.d_stats, x), axis=1)"
   ]
  },
  {
   "cell_type": "markdown",
   "id": "48f8613a",
   "metadata": {},
   "source": [
    "#### Время до ближайшего планового ремонта. Сохраняем все времена из таблицы по ключу вагона, затем для каждого вагона из taget ищим минимальную полжительную разницу в словаре."
   ]
  },
  {
   "cell_type": "code",
   "execution_count": 315,
   "id": "fa869683",
   "metadata": {},
   "outputs": [],
   "source": [
    "class NearestRepair(BaseEstimator, TransformerMixin):\n",
    "  def __init__(self, base_date_name=\"month\", repair_date_name=\"date_pl_rem\"):\n",
    "    self.base_date_name = base_date_name\n",
    "    self.repair_date_name = repair_date_name\n",
    "    self.wagnum = \"wagnum\"\n",
    "    self.bound_date = pd.to_datetime('2022-01-01')\n",
    "\n",
    "  def fit(self, dislok):\n",
    "    rep_dates = {}\n",
    "    for idx, data in tqdm(dislok[[self.wagnum, self.repair_date_name]].groupby(self.wagnum)):\n",
    "      rep_dates[idx] = np.array((pd.to_datetime(data[self.repair_date_name].unique()) - self.bound_date).total_seconds(), dtype=np.int64)\n",
    "    self.rep_dates = rep_dates\n",
    "    return self\n",
    "\n",
    "  def transform(self, wagons):\n",
    "    wagons[\"nearrepair\"] = pd.Series((wagons[self.base_date_name] - self.bound_date).dt.total_seconds(), dtype=np.int64)\n",
    "    wagons = wagons.reset_index()\n",
    "    for i, row in tqdm(wagons.iterrows()):\n",
    "        if row[self.wagnum] in self.rep_dates:\n",
    "            seconds = self.rep_dates[row[self.wagnum]] - row[\"nearrepair\"]\n",
    "            seconds = seconds[seconds >= 0]\n",
    "            if len(seconds):\n",
    "                seconds = min(seconds)\n",
    "            else:\n",
    "                seconds = pd.NA\n",
    "        else:\n",
    "            seconds = pd.NA\n",
    "        wagons.loc[i, \"nearrepair\"] = seconds\n",
    "    return wagons"
   ]
  },
  {
   "cell_type": "markdown",
   "id": "278c09b4",
   "metadata": {},
   "source": [
    "#### Далее мы обрабатываем таблицу Dislok, и добавляем фичи из нее, на какой станции остановился поезд в первое число каждого месяца, остановился ли он у станции, у которых часто происходят ремонтные работы, сколько пробега у него осталось на первое число каждого месяца и сколько у него времени осталось до планового ремонта, а также код ремонта"
   ]
  },
  {
   "cell_type": "code",
   "execution_count": 316,
   "id": "631c53be",
   "metadata": {},
   "outputs": [],
   "source": [
    "from sklearn.base import BaseEstimator, TransformerMixin\n",
    "from collections import Counter \n",
    "\n",
    "class DislokTransformer(BaseEstimator, TransformerMixin):\n",
    "    def __init__(self, times, ids, stat_remont):\n",
    "        dislok = pd.read_parquet('dislok_wagons.parquet').convert_dtypes()\n",
    "        feb = pd.read_parquet('test/dislok_wagons.parquet').convert_dtypes()\n",
    "        self.dislok = pd.concat([dislok, feb])\n",
    "        self.dislok = self.dislok[['plan_date', 'wagnum', 'ost_prob', 'kod_vrab', 'date_pl_rem', 'isload', 'distance', 'st_id_send', 'st_id_dest']]\n",
    "        self.dislok.plan_date = pd.to_datetime(self.dislok.plan_date)\n",
    "        self.dislok.st_id_send = self.dislok.st_id_send.apply(hash)\n",
    "        self.dislok.st_id_dest = self.dislok.st_id_dest.apply(hash)\n",
    "        self.dislok = self.dislok.sort_values(by=['wagnum', 'plan_date']).reset_index()\n",
    "        self.stat_remont = stat_remont\n",
    "        self.times = times\n",
    "        self.ids = ids\n",
    "        self.wagon_probeg = {}\n",
    "        self.wagon_kod_remont = {}\n",
    "        self.time_remont = {}\n",
    "        self.stat_remont = {}\n",
    "        self.cur_st_send = {}\n",
    "        self.cur_st_dest = {}\n",
    "        \n",
    "    def fit(self, train):\n",
    "        index_train = 0\n",
    "        for train_id in tqdm(self.ids):\n",
    "            while self.dislok.loc[index_train, 'wagnum'] != train_id:\n",
    "                index_train += 1\n",
    "            self.wagon_kod_remont[train_id] = self.dislok.loc[index_train, 'kod_vrab']\n",
    "            self.time_remont[train_id] = self.dislok.loc[index_train, 'date_pl_rem']\n",
    "            for index, train_time in enumerate(self.times):\n",
    "                while self.dislok.loc[index_train, 'plan_date'] < train_time and self.dislok.loc[index_train, 'wagnum'] == train_id:\n",
    "                    index_train += 1\n",
    "                if not index:\n",
    "                    if self.dislok.loc[index_train, 'plan_date'] == train_time and self.dislok.loc[index_train, 'wagnum'] == train_id:\n",
    "                        self.wagon_probeg[train_id] = [self.dislok.loc[index_train, 'ost_prob']]\n",
    "                        self.stat_remont[train_id] = [self.dislok.loc[index_train, 'st_id_send'] in self.stat_remont or self.dislok.loc[index_train, 'st_id_dest'] in self.stat_remont]\n",
    "                        self.cur_st_send[train_id] = [self.dislok.loc[index_train, 'st_id_send']]\n",
    "                        self.cur_st_dest[train_id] = [self.dislok.loc[index_train, 'st_id_dest']]\n",
    "                    else:\n",
    "                        self.wagon_probeg[train_id] = [pd.NA]\n",
    "                        self.stat_remont[train_id] = [pd.NA]\n",
    "                        self.cur_st_send[train_id] = [pd.NA]\n",
    "                        self.cur_st_dest[train_id] = [pd.NA]\n",
    "                else:\n",
    "                    if self.dislok.loc[index_train, 'plan_date'] == train_time and self.dislok.loc[index_train, 'wagnum'] == train_id:\n",
    "                        self.wagon_probeg[train_id].append(self.dislok.loc[index_train, 'ost_prob'])\n",
    "                        self.stat_remont[train_id].append(self.dislok.loc[index_train, 'st_id_send'] in self.stat_remont or self.dislok.loc[index_train, 'st_id_dest'] in self.stat_remont)\n",
    "                        self.cur_st_send[train_id].append(self.dislok.loc[index_train, 'st_id_send'])\n",
    "                        self.cur_st_dest[train_id].append(self.dislok.loc[index_train, 'st_id_dest'])\n",
    "                    else:\n",
    "                        self.wagon_probeg[train_id].append(pd.NA)\n",
    "                        self.stat_remont[train_id].append(pd.NA)\n",
    "                        self.cur_st_send[train_id].append(pd.NA)\n",
    "                        self.cur_st_dest[train_id].append(pd.NA)\n",
    "        return self\n",
    "        \n",
    "    def transform(self, test):\n",
    "        test = test.copy()\n",
    "        test['probeg'] = 0\n",
    "        test['kod_remont'] = 0\n",
    "        test['time_before_remont'] = 0\n",
    "        test['stat_remont'] = 0\n",
    "        test['cur_st_send'] = 0\n",
    "        test['cur_st_dest'] = 0\n",
    "        for i, row in tqdm(test.iterrows()):\n",
    "            if row['month'].month >= 8:\n",
    "                month = row['month'].month - 8\n",
    "            else:\n",
    "                month = row['month'].month + 4\n",
    "            test.loc[i, 'probeg'] = self.wagon_probeg[row['wagnum']][month]\n",
    "            test.loc[i, 'stat_remont'] = self.stat_remont[row['wagnum']][month]\n",
    "            test.loc[i, 'cur_st_send'] = self.cur_st_send[row['wagnum']][month]\n",
    "            test.loc[i, 'cur_st_dest'] = self.cur_st_dest[row['wagnum']][month]\n",
    "            test.loc[i, 'kod_remont'] = self.wagon_kod_remont[row['wagnum']]\n",
    "            test.loc[i, 'time_before_remont'] = (self.time_remont[row['wagnum']] - row['month']).days\n",
    "        test.stat_remont = test.stat_remont.fillna(-1).astype(int)\n",
    "        return test\n",
    "    "
   ]
  },
  {
   "cell_type": "markdown",
   "id": "8bd3b64e",
   "metadata": {},
   "source": [
    "#### Добавляем фичи возраста вагона (из фичи года постройки вагона), времени до истечения срока службы и количество ремонтов"
   ]
  },
  {
   "cell_type": "code",
   "execution_count": null,
   "id": "14b40d25",
   "metadata": {},
   "outputs": [],
   "source": [
    "class WagParamsTransformer(BaseEstimator, TransformerMixin):\n",
    "    def __init__(self):\n",
    "        self.wag_params = pd.read_parquet('wag_params.parquet').convert_dtypes().sort_values(by=['wagnum']).reset_index()\n",
    "        self.wag_params.date_build = pd.to_datetime(self.wag_params.date_build)\n",
    "        self.wag_params.srok_sl = pd.to_datetime(self.wag_params.srok_sl)\n",
    "        self.srok_sl = {}\n",
    "        self.age = {}\n",
    "        for i, row in self.wag_params.iterrows():\n",
    "            self.srok_sl[i] = row['srok_sl']\n",
    "            self.age[i] = row['date_build']\n",
    "        \n",
    "        tr_rems = pd.read_parquet('tr_rems.parquet').convert_dtypes()\n",
    "        feb = pd.read_parquet('test/tr_rems.parquet').convert_dtypes()\n",
    "        self.tr_rems = pd.concat([tr_rems, feb]).sort_values(by=['wagnum']).reset_index()\n",
    "        self.tr_rems = self.tr_rems.groupby('wagnum', as_index= False).kod_vrab.count()\n",
    "        self.tr_rems = dict(zip(self.tr_rems.wagnum.to_list(), self.tr_rems.kod_vrab.to_list()))\n",
    "        \n",
    "    def fit(self, train):\n",
    "        return self\n",
    "\n",
    "    def transform(self, test):\n",
    "        test = test.copy()\n",
    "        test['time_before_srok_sl'] = -10000\n",
    "        test['age'] = -10000\n",
    "        test['kod_vrab_tr_rems'] = -10000\n",
    "        for i, row in test.iterrows():\n",
    "            test.loc[i, 'time_before_srok_sl'] = (self.srok_sl[row['wagnum']] - row['month']).days\n",
    "            test.loc[i, 'age'] = (row['month'] - self.age[row['wagnum']]).days\n",
    "            if row['wagnum'] in self.tr_rems:\n",
    "                test.loc[i, 'kod_vrab_tr_rems'] = self.tr_rems[row['wagnum']]\n",
    "        return test"
   ]
  },
  {
   "cell_type": "markdown",
   "id": "35c42777",
   "metadata": {},
   "source": [
    "#### Проходим по owner_ship и извлекаем manage_type и rod_id(значение одно и тоже для всех записей относящихся к конкретному вагону). rod_id дяльше не участвует т.к берется из другой таблицы."
   ]
  },
  {
   "cell_type": "code",
   "execution_count": 317,
   "id": "4de473da",
   "metadata": {},
   "outputs": [],
   "source": [
    "class OwnerShipExtracor(BaseEstimator, TransformerMixin):\n",
    "    def __init__(self, wagprob):\n",
    "        tables = {}\n",
    "\n",
    "        for col in [\"manage_type\", \"rod_id\"]:\n",
    "            d = {}\n",
    "\n",
    "            for w, day in tqdm(zip(wag_prob.wagnum, wag_prob[col])):\n",
    "                if(w in d):\n",
    "                    if not(day in d[w]):\n",
    "                        d[w].add(day)\n",
    "                else:\n",
    "                    d[w] = set([day])\n",
    "\n",
    "            dd = {\"wagnum\":[], col:[]}\n",
    "\n",
    "            for k, v in d.items():\n",
    "                assert len(v) == 1\n",
    "                for x in v:\n",
    "                    break\n",
    "                dd[\"wagnum\"].append(k)\n",
    "                dd[col].append(x)\n",
    "            print(col) \n",
    "            tables[col] = pd.DataFrame.from_dict(dd) #.rod_id.value_counts()\n",
    "        \n",
    "        tb = tables[\"manage_type\"].copy()\n",
    "        self.tables = (tb.merge(tables[\"rod_id\"].copy(), how=\"left\", on=\"wagnum\")).copy()\n",
    "        \n",
    "    def fit(self, X, y = None):\n",
    "        return self\n",
    "    \n",
    "    def transform(self, X, y = None):\n",
    "        return (X.merge(self.tables.copy(), how=\"left\", on=\"wagnum\")).copy()\n",
    "        "
   ]
  },
  {
   "cell_type": "markdown",
   "id": "1c445362",
   "metadata": {},
   "source": [
    "#### Время до ближайшего ремонта, который был. Принцип генерации точно такой же как и ближайшего запланированного, тролько теперь рассматриваем противоположенные по знаку разницы"
   ]
  },
  {
   "cell_type": "code",
   "execution_count": 318,
   "id": "61c21e68",
   "metadata": {},
   "outputs": [],
   "source": [
    "class LastRepair(BaseEstimator, TransformerMixin):\n",
    "  def __init__(self):\n",
    "    self.bound_date = pd.to_datetime('2022-01-01')\n",
    "    self.prev_repairs = {}\n",
    "\n",
    "  #pr_rems\n",
    "  def fit(self, train):\n",
    "    rep_dates = {}\n",
    "    for idx, data in tqdm(train[[\"wagnum\", \"rem_month\"]].groupby(\"wagnum\")):\n",
    "      rep_dates[idx] = pd.Series((pd.to_datetime(data[\"rem_month\"].unique()) - self.bound_date).total_seconds(), dtype=np.int64)\n",
    "    self.rep_dates = rep_dates\n",
    "    return self\n",
    "\n",
    "  #target\n",
    "  def transform(self, test):\n",
    "    test[\"lastrepair\"] = pd.Series((pd.to_datetime(test[\"month\"]) - self.bound_date).dt.total_seconds(), dtype=np.int64)\n",
    "    for i, row in tqdm(test.iterrows()):\n",
    "        if row[\"wagnum\"] in self.rep_dates:\n",
    "            seconds = self.rep_dates[row[\"wagnum\"]] - row[\"lastrepair\"]\n",
    "            seconds = -seconds[seconds <= 0]\n",
    "            cnt_repairs = len(seconds)\n",
    "            if len(seconds):\n",
    "                seconds = min(seconds)\n",
    "            else:\n",
    "                seconds = -1\n",
    "        else:\n",
    "            seconds = -1\n",
    "            cnt_repairs = 0\n",
    "        test.loc[i, \"cnt_repairs\"] = cnt_repairs\n",
    "        test.loc[i, \"lastrepair\"] = seconds\n",
    "    return test"
   ]
  },
  {
   "cell_type": "code",
   "execution_count": 353,
   "id": "2cd7408b",
   "metadata": {},
   "outputs": [],
   "source": [
    "dislok = load_dislok()\n",
    "targs = load_targs()"
   ]
  },
  {
   "cell_type": "code",
   "execution_count": 320,
   "id": "35bd744f",
   "metadata": {},
   "outputs": [],
   "source": [
    "targs_copy = targs.copy() \n",
    "#pd.to_datetime(dislok.plan_date)\n",
    "targs_copy.month = pd.to_datetime(targs_copy.month)"
   ]
  },
  {
   "cell_type": "code",
   "execution_count": 322,
   "id": "9f5b2b1a",
   "metadata": {},
   "outputs": [
    {
     "data": {
      "application/vnd.jupyter.widget-view+json": {
       "model_id": "1f07c3709f0d46fb9dd560bc390afe38",
       "version_major": 2,
       "version_minor": 0
      },
      "text/plain": [
       "  0%|          | 0/33977 [00:00<?, ?it/s]"
      ]
     },
     "metadata": {},
     "output_type": "display_data"
    },
    {
     "data": {
      "application/vnd.jupyter.widget-view+json": {
       "model_id": "4bad6ee6464a4b5b8f9ca855840bfb6f",
       "version_major": 2,
       "version_minor": 0
      },
      "text/plain": [
       "0it [00:00, ?it/s]"
      ]
     },
     "metadata": {},
     "output_type": "display_data"
    }
   ],
   "source": [
    "test = pd.read_csv('target/y_predict.csv')\n",
    "test.month = pd.to_datetime(test.month)\n",
    "train_times = sorted(list(set(pd.concat([targs_copy, test])['month'].to_list())))\n",
    "train_id = sorted(list(set(targs_copy['wagnum'].to_list())))\n",
    "tr_rem = pd.read_parquet('tr_rems.parquet').convert_dtypes()\n",
    "feb = pd.read_parquet('test/tr_rems.parquet').convert_dtypes()\n",
    "tr_rem = pd.concat([tr_rem, feb]).sort_values(by=['wagnum']).reset_index()\n",
    "stat_remont = Counter(tr_rem.st_id_send.to_list()).most_common(11)\n",
    "stat_remont = [i[0] for i in stat_remont]\n",
    "transformer = DislokTransformer(train_times, train_id, stat_remont)\n",
    "transformer.fit(targs_copy)\n",
    "new_train = transformer.transform(targs_copy)"
   ]
  },
  {
   "cell_type": "code",
   "execution_count": 324,
   "id": "f92e9d04",
   "metadata": {},
   "outputs": [
    {
     "data": {
      "application/vnd.jupyter.widget-view+json": {
       "model_id": "5d193db4816b43839245649a36f9ec3c",
       "version_major": 2,
       "version_minor": 0
      },
      "text/plain": [
       "0it [00:00, ?it/s]"
      ]
     },
     "metadata": {},
     "output_type": "display_data"
    }
   ],
   "source": [
    "ef_test = transformer.transform(test.copy())"
   ]
  },
  {
   "cell_type": "code",
   "execution_count": 326,
   "id": "81ee2bde",
   "metadata": {},
   "outputs": [],
   "source": [
    "ef_test = ef_test[[\"probeg\", \"kod_remont\", \"time_before_remont\", \"stat_remont\", \"cur_st_send\", \"cur_st_dest\"]].copy()\n",
    "ef_test.probeg = ef_test.probeg.fillna(-10000)"
   ]
  },
  {
   "cell_type": "code",
   "execution_count": 55,
   "id": "73909ca8",
   "metadata": {},
   "outputs": [],
   "source": [
    "ef = new_train[[\"probeg\", \"kod_remont\", \"time_before_remont\", \"stat_remont\", \"cur_st_send\", \"cur_st_dest\"]].copy()"
   ]
  },
  {
   "cell_type": "code",
   "execution_count": 56,
   "id": "15778dac",
   "metadata": {},
   "outputs": [],
   "source": [
    "ef.probeg = ef.probeg.fillna(-10000)"
   ]
  },
  {
   "cell_type": "code",
   "execution_count": 328,
   "id": "f650d226",
   "metadata": {},
   "outputs": [],
   "source": [
    "transformer = WagParamsTransformer()\n",
    "eff = transformer.transform(new_train)\n",
    "eff = eff[['time_before_srok_sl', 'age', 'kod_vrab_tr_rems']].copy()"
   ]
  },
  {
   "cell_type": "code",
   "execution_count": 329,
   "id": "f4838804",
   "metadata": {},
   "outputs": [],
   "source": [
    "cat_feat = np.array(['cur_st_dest', 'cur_st_send', 'stat_remont', 'kod_remont'])\n",
    "for p in cat_feat:\n",
    "    ef[p] = ef[p].astype('category')\n",
    "eff['kod_vrab_tr_rems'] = eff['kod_vrab_tr_rems'].astype('category')"
   ]
  },
  {
   "cell_type": "code",
   "execution_count": 330,
   "id": "6f8b9eda",
   "metadata": {},
   "outputs": [],
   "source": [
    "eff_test = transformer.transform(test.copy())"
   ]
  },
  {
   "cell_type": "code",
   "execution_count": 332,
   "id": "7492e6b7",
   "metadata": {},
   "outputs": [],
   "source": [
    "eff_test = eff_test[['time_before_srok_sl', 'age', 'kod_vrab_tr_rems']].copy()\n",
    "for p in cat_feat:\n",
    "    ef_test[p] = ef_test[p].astype('category')\n",
    "eff_test['kod_vrab_tr_rems'] = eff_test['kod_vrab_tr_rems'].astype('category')"
   ]
  },
  {
   "cell_type": "code",
   "execution_count": null,
   "id": "94838331",
   "metadata": {},
   "outputs": [],
   "source": []
  },
  {
   "cell_type": "code",
   "execution_count": 333,
   "id": "0484daeb",
   "metadata": {},
   "outputs": [],
   "source": [
    "NR = NearestRepair()"
   ]
  },
  {
   "cell_type": "code",
   "execution_count": 334,
   "id": "cd7cfc6b",
   "metadata": {},
   "outputs": [
    {
     "data": {
      "application/vnd.jupyter.widget-view+json": {
       "model_id": "6193215b471b424485e73bbcd9d964e7",
       "version_major": 2,
       "version_minor": 0
      },
      "text/plain": [
       "  0%|          | 0/33977 [00:00<?, ?it/s]"
      ]
     },
     "metadata": {},
     "output_type": "display_data"
    },
    {
     "data": {
      "text/html": [
       "<style>#sk-container-id-21 {color: black;background-color: white;}#sk-container-id-21 pre{padding: 0;}#sk-container-id-21 div.sk-toggleable {background-color: white;}#sk-container-id-21 label.sk-toggleable__label {cursor: pointer;display: block;width: 100%;margin-bottom: 0;padding: 0.3em;box-sizing: border-box;text-align: center;}#sk-container-id-21 label.sk-toggleable__label-arrow:before {content: \"▸\";float: left;margin-right: 0.25em;color: #696969;}#sk-container-id-21 label.sk-toggleable__label-arrow:hover:before {color: black;}#sk-container-id-21 div.sk-estimator:hover label.sk-toggleable__label-arrow:before {color: black;}#sk-container-id-21 div.sk-toggleable__content {max-height: 0;max-width: 0;overflow: hidden;text-align: left;background-color: #f0f8ff;}#sk-container-id-21 div.sk-toggleable__content pre {margin: 0.2em;color: black;border-radius: 0.25em;background-color: #f0f8ff;}#sk-container-id-21 input.sk-toggleable__control:checked~div.sk-toggleable__content {max-height: 200px;max-width: 100%;overflow: auto;}#sk-container-id-21 input.sk-toggleable__control:checked~label.sk-toggleable__label-arrow:before {content: \"▾\";}#sk-container-id-21 div.sk-estimator input.sk-toggleable__control:checked~label.sk-toggleable__label {background-color: #d4ebff;}#sk-container-id-21 div.sk-label input.sk-toggleable__control:checked~label.sk-toggleable__label {background-color: #d4ebff;}#sk-container-id-21 input.sk-hidden--visually {border: 0;clip: rect(1px 1px 1px 1px);clip: rect(1px, 1px, 1px, 1px);height: 1px;margin: -1px;overflow: hidden;padding: 0;position: absolute;width: 1px;}#sk-container-id-21 div.sk-estimator {font-family: monospace;background-color: #f0f8ff;border: 1px dotted black;border-radius: 0.25em;box-sizing: border-box;margin-bottom: 0.5em;}#sk-container-id-21 div.sk-estimator:hover {background-color: #d4ebff;}#sk-container-id-21 div.sk-parallel-item::after {content: \"\";width: 100%;border-bottom: 1px solid gray;flex-grow: 1;}#sk-container-id-21 div.sk-label:hover label.sk-toggleable__label {background-color: #d4ebff;}#sk-container-id-21 div.sk-serial::before {content: \"\";position: absolute;border-left: 1px solid gray;box-sizing: border-box;top: 0;bottom: 0;left: 50%;z-index: 0;}#sk-container-id-21 div.sk-serial {display: flex;flex-direction: column;align-items: center;background-color: white;padding-right: 0.2em;padding-left: 0.2em;position: relative;}#sk-container-id-21 div.sk-item {position: relative;z-index: 1;}#sk-container-id-21 div.sk-parallel {display: flex;align-items: stretch;justify-content: center;background-color: white;position: relative;}#sk-container-id-21 div.sk-item::before, #sk-container-id-21 div.sk-parallel-item::before {content: \"\";position: absolute;border-left: 1px solid gray;box-sizing: border-box;top: 0;bottom: 0;left: 50%;z-index: -1;}#sk-container-id-21 div.sk-parallel-item {display: flex;flex-direction: column;z-index: 1;position: relative;background-color: white;}#sk-container-id-21 div.sk-parallel-item:first-child::after {align-self: flex-end;width: 50%;}#sk-container-id-21 div.sk-parallel-item:last-child::after {align-self: flex-start;width: 50%;}#sk-container-id-21 div.sk-parallel-item:only-child::after {width: 0;}#sk-container-id-21 div.sk-dashed-wrapped {border: 1px dashed gray;margin: 0 0.4em 0.5em 0.4em;box-sizing: border-box;padding-bottom: 0.4em;background-color: white;}#sk-container-id-21 div.sk-label label {font-family: monospace;font-weight: bold;display: inline-block;line-height: 1.2em;}#sk-container-id-21 div.sk-label-container {text-align: center;}#sk-container-id-21 div.sk-container {/* jupyter's `normalize.less` sets `[hidden] { display: none; }` but bootstrap.min.css set `[hidden] { display: none !important; }` so we also need the `!important` here to be able to override the default hidden behavior on the sphinx rendered scikit-learn.org. See: https://github.com/scikit-learn/scikit-learn/issues/21755 */display: inline-block !important;position: relative;}#sk-container-id-21 div.sk-text-repr-fallback {display: none;}</style><div id=\"sk-container-id-21\" class=\"sk-top-container\"><div class=\"sk-text-repr-fallback\"><pre>NearestRepair()</pre><b>In a Jupyter environment, please rerun this cell to show the HTML representation or trust the notebook. <br />On GitHub, the HTML representation is unable to render, please try loading this page with nbviewer.org.</b></div><div class=\"sk-container\" hidden><div class=\"sk-item\"><div class=\"sk-estimator sk-toggleable\"><input class=\"sk-toggleable__control sk-hidden--visually\" id=\"sk-estimator-id-21\" type=\"checkbox\" checked><label for=\"sk-estimator-id-21\" class=\"sk-toggleable__label sk-toggleable__label-arrow\">NearestRepair</label><div class=\"sk-toggleable__content\"><pre>NearestRepair()</pre></div></div></div></div></div>"
      ],
      "text/plain": [
       "NearestRepair()"
      ]
     },
     "execution_count": 334,
     "metadata": {},
     "output_type": "execute_result"
    }
   ],
   "source": [
    "NR.fit(dislok)"
   ]
  },
  {
   "cell_type": "code",
   "execution_count": 335,
   "id": "ed333d20",
   "metadata": {},
   "outputs": [
    {
     "data": {
      "application/vnd.jupyter.widget-view+json": {
       "model_id": "fe266dd0b6a148f7937ec67143bb005b",
       "version_major": 2,
       "version_minor": 0
      },
      "text/plain": [
       "0it [00:00, ?it/s]"
      ]
     },
     "metadata": {},
     "output_type": "display_data"
    }
   ],
   "source": [
    "nerep = NR.transform(targs_copy)[[\"nearrepair\"]]"
   ]
  },
  {
   "cell_type": "code",
   "execution_count": 336,
   "id": "2a632f89",
   "metadata": {},
   "outputs": [],
   "source": [
    "nerep.nearrepair = nerep.nearrepair.fillna(-1)"
   ]
  },
  {
   "cell_type": "code",
   "execution_count": 337,
   "id": "c11c6281",
   "metadata": {},
   "outputs": [
    {
     "data": {
      "application/vnd.jupyter.widget-view+json": {
       "model_id": "f0ccea91bc7b4436aa7f4836c603d933",
       "version_major": 2,
       "version_minor": 0
      },
      "text/plain": [
       "0it [00:00, ?it/s]"
      ]
     },
     "metadata": {},
     "output_type": "display_data"
    }
   ],
   "source": [
    "nerep_test = NR.transform(test.copy())[[\"nearrepair\"]]\n",
    "nerep_test.nearrepair = nerep_test.nearrepair.fillna(-1)"
   ]
  },
  {
   "cell_type": "code",
   "execution_count": null,
   "id": "066c1cbc",
   "metadata": {},
   "outputs": [],
   "source": []
  },
  {
   "cell_type": "code",
   "execution_count": 350,
   "id": "c8732841",
   "metadata": {},
   "outputs": [
    {
     "data": {
      "application/vnd.jupyter.widget-view+json": {
       "model_id": "496e6ea40df4437fbbebbecaf58ee0cd",
       "version_major": 2,
       "version_minor": 0
      },
      "text/plain": [
       "  0%|          | 0/7228236 [00:00<?, ?it/s]"
      ]
     },
     "metadata": {},
     "output_type": "display_data"
    },
    {
     "name": "stderr",
     "output_type": "stream",
     "text": [
      "C:\\Users\\Егор\\AppData\\Roaming\\Python\\Python39\\site-packages\\numpy\\core\\fromnumeric.py:3474: RuntimeWarning: Mean of empty slice.\n",
      "  return _methods._mean(a, axis=axis, dtype=dtype,\n",
      "C:\\Users\\Егор\\AppData\\Roaming\\Python\\Python39\\site-packages\\numpy\\core\\_methods.py:189: RuntimeWarning: invalid value encountered in double_scalars\n",
      "  ret = ret.dtype.type(ret / rcount)\n",
      "C:\\Users\\Егор\\AppData\\Roaming\\Python\\Python39\\site-packages\\numpy\\core\\_methods.py:264: RuntimeWarning: Degrees of freedom <= 0 for slice\n",
      "  ret = _var(a, axis=axis, dtype=dtype, out=out, ddof=ddof,\n",
      "C:\\Users\\Егор\\AppData\\Roaming\\Python\\Python39\\site-packages\\numpy\\core\\_methods.py:222: RuntimeWarning: invalid value encountered in true_divide\n",
      "  arrmean = um.true_divide(arrmean, div, out=arrmean, casting='unsafe',\n",
      "C:\\Users\\Егор\\AppData\\Roaming\\Python\\Python39\\site-packages\\numpy\\core\\_methods.py:256: RuntimeWarning: invalid value encountered in double_scalars\n",
      "  ret = ret.dtype.type(ret / rcount)\n"
     ]
    }
   ],
   "source": [
    "dislok = pd.read_parquet('dislok_wagons.parquet').convert_dtypes()\n",
    "feb = pd.read_parquet('test/dislok_wagons.parquet').convert_dtypes()\n",
    "dislok = pd.concat([dislok, feb]).reset_index()\n",
    "de = DislokStatExctractor(dislok)"
   ]
  },
  {
   "cell_type": "code",
   "execution_count": null,
   "id": "888b268f",
   "metadata": {},
   "outputs": [],
   "source": []
  },
  {
   "cell_type": "code",
   "execution_count": 351,
   "id": "31e3b809",
   "metadata": {},
   "outputs": [],
   "source": [
    "test = pd.read_csv('target/y_predict.csv')\n",
    "#test.month = pd.to_datetime(test.month)\n",
    "\n",
    "mff = de.fit_transform(targs)\n",
    "mff_test = de.transform(test.copy())"
   ]
  },
  {
   "cell_type": "code",
   "execution_count": 354,
   "id": "bb751851",
   "metadata": {},
   "outputs": [
    {
     "data": {
      "text/html": [
       "<div>\n",
       "<style scoped>\n",
       "    .dataframe tbody tr th:only-of-type {\n",
       "        vertical-align: middle;\n",
       "    }\n",
       "\n",
       "    .dataframe tbody tr th {\n",
       "        vertical-align: top;\n",
       "    }\n",
       "\n",
       "    .dataframe thead th {\n",
       "        text-align: right;\n",
       "    }\n",
       "</style>\n",
       "<table border=\"1\" class=\"dataframe\">\n",
       "  <thead>\n",
       "    <tr style=\"text-align: right;\">\n",
       "      <th></th>\n",
       "      <th>last_month_run</th>\n",
       "      <th>last_month_mean</th>\n",
       "      <th>last_month_std</th>\n",
       "      <th>under_load_days</th>\n",
       "      <th>under_load_dist</th>\n",
       "      <th>under_load_percent</th>\n",
       "    </tr>\n",
       "  </thead>\n",
       "  <tbody>\n",
       "    <tr>\n",
       "      <th>0</th>\n",
       "      <td>10000.0</td>\n",
       "      <td>370.370370</td>\n",
       "      <td>380.690031</td>\n",
       "      <td>21.0</td>\n",
       "      <td>9815.0</td>\n",
       "      <td>0.981500</td>\n",
       "    </tr>\n",
       "    <tr>\n",
       "      <th>1</th>\n",
       "      <td>4241.0</td>\n",
       "      <td>157.074074</td>\n",
       "      <td>300.058010</td>\n",
       "      <td>11.0</td>\n",
       "      <td>4112.0</td>\n",
       "      <td>0.969583</td>\n",
       "    </tr>\n",
       "    <tr>\n",
       "      <th>2</th>\n",
       "      <td>4338.0</td>\n",
       "      <td>160.666667</td>\n",
       "      <td>262.711361</td>\n",
       "      <td>9.0</td>\n",
       "      <td>4019.0</td>\n",
       "      <td>0.926464</td>\n",
       "    </tr>\n",
       "    <tr>\n",
       "      <th>3</th>\n",
       "      <td>9939.0</td>\n",
       "      <td>368.111111</td>\n",
       "      <td>270.018426</td>\n",
       "      <td>14.0</td>\n",
       "      <td>5058.0</td>\n",
       "      <td>0.508904</td>\n",
       "    </tr>\n",
       "    <tr>\n",
       "      <th>4</th>\n",
       "      <td>4590.0</td>\n",
       "      <td>170.000000</td>\n",
       "      <td>227.684642</td>\n",
       "      <td>11.0</td>\n",
       "      <td>2524.0</td>\n",
       "      <td>0.549891</td>\n",
       "    </tr>\n",
       "    <tr>\n",
       "      <th>...</th>\n",
       "      <td>...</td>\n",
       "      <td>...</td>\n",
       "      <td>...</td>\n",
       "      <td>...</td>\n",
       "      <td>...</td>\n",
       "      <td>...</td>\n",
       "    </tr>\n",
       "    <tr>\n",
       "      <th>33702</th>\n",
       "      <td>4561.0</td>\n",
       "      <td>168.925926</td>\n",
       "      <td>232.270903</td>\n",
       "      <td>12.0</td>\n",
       "      <td>3049.0</td>\n",
       "      <td>0.668494</td>\n",
       "    </tr>\n",
       "    <tr>\n",
       "      <th>33703</th>\n",
       "      <td>3661.0</td>\n",
       "      <td>135.592593</td>\n",
       "      <td>228.671244</td>\n",
       "      <td>9.0</td>\n",
       "      <td>1345.0</td>\n",
       "      <td>0.367386</td>\n",
       "    </tr>\n",
       "    <tr>\n",
       "      <th>33704</th>\n",
       "      <td>3434.0</td>\n",
       "      <td>127.185185</td>\n",
       "      <td>220.613125</td>\n",
       "      <td>6.0</td>\n",
       "      <td>1960.0</td>\n",
       "      <td>0.570763</td>\n",
       "    </tr>\n",
       "    <tr>\n",
       "      <th>33705</th>\n",
       "      <td>5872.0</td>\n",
       "      <td>217.481481</td>\n",
       "      <td>268.502896</td>\n",
       "      <td>19.0</td>\n",
       "      <td>5626.0</td>\n",
       "      <td>0.958106</td>\n",
       "    </tr>\n",
       "    <tr>\n",
       "      <th>33706</th>\n",
       "      <td>100.0</td>\n",
       "      <td>3.703704</td>\n",
       "      <td>17.028984</td>\n",
       "      <td>0.0</td>\n",
       "      <td>0.0</td>\n",
       "      <td>0.000000</td>\n",
       "    </tr>\n",
       "  </tbody>\n",
       "</table>\n",
       "<p>33707 rows × 6 columns</p>\n",
       "</div>"
      ],
      "text/plain": [
       "       last_month_run  last_month_mean  last_month_std  under_load_days  \\\n",
       "0             10000.0       370.370370      380.690031             21.0   \n",
       "1              4241.0       157.074074      300.058010             11.0   \n",
       "2              4338.0       160.666667      262.711361              9.0   \n",
       "3              9939.0       368.111111      270.018426             14.0   \n",
       "4              4590.0       170.000000      227.684642             11.0   \n",
       "...               ...              ...             ...              ...   \n",
       "33702          4561.0       168.925926      232.270903             12.0   \n",
       "33703          3661.0       135.592593      228.671244              9.0   \n",
       "33704          3434.0       127.185185      220.613125              6.0   \n",
       "33705          5872.0       217.481481      268.502896             19.0   \n",
       "33706           100.0         3.703704       17.028984              0.0   \n",
       "\n",
       "       under_load_dist  under_load_percent  \n",
       "0               9815.0            0.981500  \n",
       "1               4112.0            0.969583  \n",
       "2               4019.0            0.926464  \n",
       "3               5058.0            0.508904  \n",
       "4               2524.0            0.549891  \n",
       "...                ...                 ...  \n",
       "33702           3049.0            0.668494  \n",
       "33703           1345.0            0.367386  \n",
       "33704           1960.0            0.570763  \n",
       "33705           5626.0            0.958106  \n",
       "33706              0.0            0.000000  \n",
       "\n",
       "[33707 rows x 6 columns]"
      ]
     },
     "execution_count": 354,
     "metadata": {},
     "output_type": "execute_result"
    }
   ],
   "source": [
    "test = pd.read_csv('target/y_predict.csv')\n",
    "test.month = pd.to_datetime(test.month)\n",
    "\n",
    "mff_test"
   ]
  },
  {
   "cell_type": "code",
   "execution_count": null,
   "id": "cb13488c",
   "metadata": {},
   "outputs": [],
   "source": []
  },
  {
   "cell_type": "code",
   "execution_count": null,
   "id": "16e8137d",
   "metadata": {},
   "outputs": [],
   "source": []
  },
  {
   "cell_type": "code",
   "execution_count": 355,
   "id": "561f05a0",
   "metadata": {},
   "outputs": [
    {
     "data": {
      "application/vnd.jupyter.widget-view+json": {
       "model_id": "554bc4c2110a4a6eae05eed8853ae2d0",
       "version_major": 2,
       "version_minor": 0
      },
      "text/plain": [
       "0it [00:00, ?it/s]"
      ]
     },
     "metadata": {},
     "output_type": "display_data"
    },
    {
     "name": "stdout",
     "output_type": "stream",
     "text": [
      "manage_type\n"
     ]
    },
    {
     "data": {
      "application/vnd.jupyter.widget-view+json": {
       "model_id": "c6cc7f66443f4d06acf82f0796577baf",
       "version_major": 2,
       "version_minor": 0
      },
      "text/plain": [
       "0it [00:00, ?it/s]"
      ]
     },
     "metadata": {},
     "output_type": "display_data"
    },
    {
     "name": "stdout",
     "output_type": "stream",
     "text": [
      "rod_id\n"
     ]
    }
   ],
   "source": [
    "\n",
    "wag_prob = pd.read_parquet('./wagons_probeg_ownersip.parquet').convert_dtypes()\n",
    "\n",
    "oe = OwnerShipExtracor(wag_prob)\n",
    "\n",
    "oe.fit(targs)\n",
    "\n",
    "own_feat = (oe.transform(targs)[[\"manage_type\"]]).copy()\n",
    "\n",
    "for p in [\"manage_type\"]:\n",
    "    own_feat[p] = own_feat[p].astype('category')"
   ]
  },
  {
   "cell_type": "code",
   "execution_count": 356,
   "id": "3ba27478",
   "metadata": {},
   "outputs": [],
   "source": [
    "own_feat_test = (oe.transform(test.copy())[[\"manage_type\"]]).copy()\n",
    "for p in [\"manage_type\"]:\n",
    "    own_feat_test[p] = own_feat_test[p].astype('category')"
   ]
  },
  {
   "cell_type": "code",
   "execution_count": 357,
   "id": "f45028f7",
   "metadata": {},
   "outputs": [
    {
     "data": {
      "text/html": [
       "<div>\n",
       "<style scoped>\n",
       "    .dataframe tbody tr th:only-of-type {\n",
       "        vertical-align: middle;\n",
       "    }\n",
       "\n",
       "    .dataframe tbody tr th {\n",
       "        vertical-align: top;\n",
       "    }\n",
       "\n",
       "    .dataframe thead th {\n",
       "        text-align: right;\n",
       "    }\n",
       "</style>\n",
       "<table border=\"1\" class=\"dataframe\">\n",
       "  <thead>\n",
       "    <tr style=\"text-align: right;\">\n",
       "      <th></th>\n",
       "      <th>manage_type</th>\n",
       "    </tr>\n",
       "  </thead>\n",
       "  <tbody>\n",
       "    <tr>\n",
       "      <th>0</th>\n",
       "      <td>0</td>\n",
       "    </tr>\n",
       "    <tr>\n",
       "      <th>1</th>\n",
       "      <td>0</td>\n",
       "    </tr>\n",
       "    <tr>\n",
       "      <th>2</th>\n",
       "      <td>0</td>\n",
       "    </tr>\n",
       "    <tr>\n",
       "      <th>3</th>\n",
       "      <td>0</td>\n",
       "    </tr>\n",
       "    <tr>\n",
       "      <th>4</th>\n",
       "      <td>0</td>\n",
       "    </tr>\n",
       "    <tr>\n",
       "      <th>...</th>\n",
       "      <td>...</td>\n",
       "    </tr>\n",
       "    <tr>\n",
       "      <th>33702</th>\n",
       "      <td>0</td>\n",
       "    </tr>\n",
       "    <tr>\n",
       "      <th>33703</th>\n",
       "      <td>0</td>\n",
       "    </tr>\n",
       "    <tr>\n",
       "      <th>33704</th>\n",
       "      <td>0</td>\n",
       "    </tr>\n",
       "    <tr>\n",
       "      <th>33705</th>\n",
       "      <td>0</td>\n",
       "    </tr>\n",
       "    <tr>\n",
       "      <th>33706</th>\n",
       "      <td>0</td>\n",
       "    </tr>\n",
       "  </tbody>\n",
       "</table>\n",
       "<p>33707 rows × 1 columns</p>\n",
       "</div>"
      ],
      "text/plain": [
       "      manage_type\n",
       "0               0\n",
       "1               0\n",
       "2               0\n",
       "3               0\n",
       "4               0\n",
       "...           ...\n",
       "33702           0\n",
       "33703           0\n",
       "33704           0\n",
       "33705           0\n",
       "33706           0\n",
       "\n",
       "[33707 rows x 1 columns]"
      ]
     },
     "execution_count": 357,
     "metadata": {},
     "output_type": "execute_result"
    }
   ],
   "source": [
    "own_feat_test"
   ]
  },
  {
   "cell_type": "code",
   "execution_count": null,
   "id": "e5961780",
   "metadata": {},
   "outputs": [],
   "source": []
  },
  {
   "cell_type": "code",
   "execution_count": 358,
   "id": "aed5ca9f",
   "metadata": {},
   "outputs": [
    {
     "data": {
      "application/vnd.jupyter.widget-view+json": {
       "model_id": "9e918f58d58a40978113b2f54666c3fe",
       "version_major": 2,
       "version_minor": 0
      },
      "text/plain": [
       "  0%|          | 0/11982 [00:00<?, ?it/s]"
      ]
     },
     "metadata": {},
     "output_type": "display_data"
    },
    {
     "data": {
      "application/vnd.jupyter.widget-view+json": {
       "model_id": "7cc8b3a8827349a69329becaf1d24e7a",
       "version_major": 2,
       "version_minor": 0
      },
      "text/plain": [
       "0it [00:00, ?it/s]"
      ]
     },
     "metadata": {},
     "output_type": "display_data"
    }
   ],
   "source": [
    "\n",
    "lastrep = LastRepair()\n",
    "\n",
    "pr_rem = load_pr_rems()\n",
    "\n",
    "lastrep.fit(pr_rem)\n",
    "\n",
    "lastreptab = lastrep.transform(targs)[[\"lastrepair\", \"cnt_repairs\"]]"
   ]
  },
  {
   "cell_type": "code",
   "execution_count": 359,
   "id": "ff620288",
   "metadata": {},
   "outputs": [
    {
     "data": {
      "application/vnd.jupyter.widget-view+json": {
       "model_id": "93a087253de149aa9316b47b285b8d88",
       "version_major": 2,
       "version_minor": 0
      },
      "text/plain": [
       "0it [00:00, ?it/s]"
      ]
     },
     "metadata": {},
     "output_type": "display_data"
    }
   ],
   "source": [
    "lastreptab_test = lastrep.transform(test.copy())[[\"lastrepair\", \"cnt_repairs\"]]"
   ]
  },
  {
   "cell_type": "code",
   "execution_count": 360,
   "id": "cbe04c0b",
   "metadata": {},
   "outputs": [
    {
     "data": {
      "text/html": [
       "<div>\n",
       "<style scoped>\n",
       "    .dataframe tbody tr th:only-of-type {\n",
       "        vertical-align: middle;\n",
       "    }\n",
       "\n",
       "    .dataframe tbody tr th {\n",
       "        vertical-align: top;\n",
       "    }\n",
       "\n",
       "    .dataframe thead th {\n",
       "        text-align: right;\n",
       "    }\n",
       "</style>\n",
       "<table border=\"1\" class=\"dataframe\">\n",
       "  <thead>\n",
       "    <tr style=\"text-align: right;\">\n",
       "      <th></th>\n",
       "      <th>lastrepair</th>\n",
       "      <th>cnt_repairs</th>\n",
       "    </tr>\n",
       "  </thead>\n",
       "  <tbody>\n",
       "    <tr>\n",
       "      <th>0</th>\n",
       "      <td>8640000</td>\n",
       "      <td>1.0</td>\n",
       "    </tr>\n",
       "    <tr>\n",
       "      <th>1</th>\n",
       "      <td>7171200</td>\n",
       "      <td>1.0</td>\n",
       "    </tr>\n",
       "    <tr>\n",
       "      <th>2</th>\n",
       "      <td>7516800</td>\n",
       "      <td>1.0</td>\n",
       "    </tr>\n",
       "    <tr>\n",
       "      <th>3</th>\n",
       "      <td>-1</td>\n",
       "      <td>0.0</td>\n",
       "    </tr>\n",
       "    <tr>\n",
       "      <th>4</th>\n",
       "      <td>12614400</td>\n",
       "      <td>1.0</td>\n",
       "    </tr>\n",
       "    <tr>\n",
       "      <th>...</th>\n",
       "      <td>...</td>\n",
       "      <td>...</td>\n",
       "    </tr>\n",
       "    <tr>\n",
       "      <th>33702</th>\n",
       "      <td>-1</td>\n",
       "      <td>0.0</td>\n",
       "    </tr>\n",
       "    <tr>\n",
       "      <th>33703</th>\n",
       "      <td>14169600</td>\n",
       "      <td>1.0</td>\n",
       "    </tr>\n",
       "    <tr>\n",
       "      <th>33704</th>\n",
       "      <td>11577600</td>\n",
       "      <td>1.0</td>\n",
       "    </tr>\n",
       "    <tr>\n",
       "      <th>33705</th>\n",
       "      <td>15379200</td>\n",
       "      <td>1.0</td>\n",
       "    </tr>\n",
       "    <tr>\n",
       "      <th>33706</th>\n",
       "      <td>14083200</td>\n",
       "      <td>1.0</td>\n",
       "    </tr>\n",
       "  </tbody>\n",
       "</table>\n",
       "<p>33707 rows × 2 columns</p>\n",
       "</div>"
      ],
      "text/plain": [
       "       lastrepair  cnt_repairs\n",
       "0         8640000          1.0\n",
       "1         7171200          1.0\n",
       "2         7516800          1.0\n",
       "3              -1          0.0\n",
       "4        12614400          1.0\n",
       "...           ...          ...\n",
       "33702          -1          0.0\n",
       "33703    14169600          1.0\n",
       "33704    11577600          1.0\n",
       "33705    15379200          1.0\n",
       "33706    14083200          1.0\n",
       "\n",
       "[33707 rows x 2 columns]"
      ]
     },
     "execution_count": 360,
     "metadata": {},
     "output_type": "execute_result"
    }
   ],
   "source": [
    "lastreptab_test"
   ]
  },
  {
   "cell_type": "markdown",
   "id": "7ec9d8ac",
   "metadata": {},
   "source": [
    "#### Достаем из таблицы tr_rem количество ремонтов до нужного месяца. Подражали бэйзлайну не очень сильная фича. "
   ]
  },
  {
   "cell_type": "code",
   "execution_count": 361,
   "id": "06df2881",
   "metadata": {},
   "outputs": [],
   "source": [
    "\n",
    "def unfold_trem_applyer(rem_dict, x):\n",
    "    m = pd.to_datetime(x[\"month\"])\n",
    "    wn = x[\"wagnum\"]\n",
    "    \n",
    "    if(wn in rem_dict):\n",
    "        ans = np.array([rem_dict[wn].searchsorted(m, side=\"left\") ])\n",
    "    else:\n",
    "        ans = np.array([0])\n",
    "    \n",
    "    return pd.Series(data=ans, index=[\"num_small_repairs\"])\n",
    "\n",
    "\n",
    "class SmallRepairsExctractor(BaseEstimator, TransformerMixin):\n",
    "    def __init__(self, df):\n",
    "        df = df.sort_values([\"rem_month\"])\n",
    "        rem_dict = {}\n",
    "        \n",
    "        for x in tqdm(df.groupby(\"wagnum\")):\n",
    "            wg, ddf = x\n",
    "            rem_dict[wg] = ddf.rem_month\n",
    "        self.rem_dict = rem_dict\n",
    "    \n",
    "    def fit(self, X, y = None):\n",
    "        return self\n",
    "    \n",
    "    def transform(self, X, y = None):\n",
    "        return X.apply(lambda x: unfold_trem_applyer(self.rem_dict, x), axis=1)"
   ]
  },
  {
   "cell_type": "code",
   "execution_count": 362,
   "id": "44266595",
   "metadata": {},
   "outputs": [
    {
     "data": {
      "application/vnd.jupyter.widget-view+json": {
       "model_id": "5d9686b54d704312a8b3e8f0cc2b6048",
       "version_major": 2,
       "version_minor": 0
      },
      "text/plain": [
       "  0%|          | 0/19621 [00:00<?, ?it/s]"
      ]
     },
     "metadata": {},
     "output_type": "display_data"
    }
   ],
   "source": [
    "tr_rems = load_tr_rems()\n",
    "sre = SmallRepairsExctractor(tr_rems)\n",
    "trems_counts = sre.transform(targs)\n",
    "trems_counts.num_small_repairs = trems_counts.num_small_repairs.astype('category')"
   ]
  },
  {
   "cell_type": "code",
   "execution_count": 363,
   "id": "b8a9bc62",
   "metadata": {},
   "outputs": [],
   "source": [
    "trems_counts_test = sre.transform(test)\n",
    "trems_counts_test.num_small_repairs = trems_counts_test.num_small_repairs.astype('category')"
   ]
  },
  {
   "cell_type": "code",
   "execution_count": 364,
   "id": "377b4d5b",
   "metadata": {},
   "outputs": [
    {
     "data": {
      "text/html": [
       "<div>\n",
       "<style scoped>\n",
       "    .dataframe tbody tr th:only-of-type {\n",
       "        vertical-align: middle;\n",
       "    }\n",
       "\n",
       "    .dataframe tbody tr th {\n",
       "        vertical-align: top;\n",
       "    }\n",
       "\n",
       "    .dataframe thead th {\n",
       "        text-align: right;\n",
       "    }\n",
       "</style>\n",
       "<table border=\"1\" class=\"dataframe\">\n",
       "  <thead>\n",
       "    <tr style=\"text-align: right;\">\n",
       "      <th></th>\n",
       "      <th>num_small_repairs</th>\n",
       "    </tr>\n",
       "  </thead>\n",
       "  <tbody>\n",
       "    <tr>\n",
       "      <th>0</th>\n",
       "      <td>3</td>\n",
       "    </tr>\n",
       "    <tr>\n",
       "      <th>1</th>\n",
       "      <td>2</td>\n",
       "    </tr>\n",
       "    <tr>\n",
       "      <th>2</th>\n",
       "      <td>2</td>\n",
       "    </tr>\n",
       "    <tr>\n",
       "      <th>3</th>\n",
       "      <td>2</td>\n",
       "    </tr>\n",
       "    <tr>\n",
       "      <th>4</th>\n",
       "      <td>0</td>\n",
       "    </tr>\n",
       "    <tr>\n",
       "      <th>...</th>\n",
       "      <td>...</td>\n",
       "    </tr>\n",
       "    <tr>\n",
       "      <th>33702</th>\n",
       "      <td>0</td>\n",
       "    </tr>\n",
       "    <tr>\n",
       "      <th>33703</th>\n",
       "      <td>0</td>\n",
       "    </tr>\n",
       "    <tr>\n",
       "      <th>33704</th>\n",
       "      <td>4</td>\n",
       "    </tr>\n",
       "    <tr>\n",
       "      <th>33705</th>\n",
       "      <td>0</td>\n",
       "    </tr>\n",
       "    <tr>\n",
       "      <th>33706</th>\n",
       "      <td>0</td>\n",
       "    </tr>\n",
       "  </tbody>\n",
       "</table>\n",
       "<p>33707 rows × 1 columns</p>\n",
       "</div>"
      ],
      "text/plain": [
       "      num_small_repairs\n",
       "0                     3\n",
       "1                     2\n",
       "2                     2\n",
       "3                     2\n",
       "4                     0\n",
       "...                 ...\n",
       "33702                 0\n",
       "33703                 0\n",
       "33704                 4\n",
       "33705                 0\n",
       "33706                 0\n",
       "\n",
       "[33707 rows x 1 columns]"
      ]
     },
     "execution_count": 364,
     "metadata": {},
     "output_type": "execute_result"
    }
   ],
   "source": [
    "trems_counts_test"
   ]
  },
  {
   "cell_type": "code",
   "execution_count": null,
   "id": "e90cd8ae",
   "metadata": {},
   "outputs": [],
   "source": []
  },
  {
   "cell_type": "markdown",
   "id": "db5d3d85",
   "metadata": {},
   "source": [
    "#### Считаем статистики по грузам которые перевозил вагон до нужного месяца."
   ]
  },
  {
   "cell_type": "code",
   "execution_count": 365,
   "id": "92bb8512",
   "metadata": {},
   "outputs": [],
   "source": [
    "tqdm.pandas()\n",
    "\n",
    "def get_counts(wag_groups, wagnum, month):\n",
    "    count_names = {\n",
    "        0: \"zerostype\",\n",
    "        1: \"onestype\",\n",
    "        2: \"twostype\"\n",
    "    }\n",
    "    wag_slice = wag_groups[wagnum]\n",
    "    wag_slice = wag_slice[wag_slice.plan_date <= month]\n",
    "    wag_slice_loads = wag_slice[wag_slice.isload == 1]\n",
    "    counts = wag_slice_loads.fr_class.value_counts([0, 1, 2], dropna=True)\n",
    "    if len(wag_slice):\n",
    "        counts *= len(wag_slice_loads) / len(wag_slice)\n",
    "\n",
    "    if len(wag_slice_loads):\n",
    "        skoroport = float(wag_slice_loads.skoroport.sum(skipna=True)) / len(wag_slice_loads)\n",
    "        naval = float(wag_slice_loads.naval.sum(skipna=True)) / len(wag_slice_loads)\n",
    "        naliv = float(wag_slice_loads.naliv.sum(skipna=True)) / len(wag_slice_loads)\n",
    "    else:\n",
    "        skoroport = 0\n",
    "        naval = 0\n",
    "        naliv = 0\n",
    "    data_list = list(counts.values) + [skoroport, naval, naliv]\n",
    "\n",
    "    col_names = [count_names[idx] for idx in counts.index] + [\"skoroport_frac\", \"naval_frac\", \"naliv_frac\"]\n",
    "    return pd.Series(data=data_list, index=col_names)\n",
    "\n",
    "class CountsCargo(BaseEstimator, TransformerMixin):\n",
    "  def __init__(self):\n",
    "    self.wag_groups = {}\n",
    "\n",
    "  #dislok, freq_info\n",
    "  def fit(self, dislok, freq_info):\n",
    "    dislok_cargo = dislok[[\"plan_date\", \"wagnum\", \"isload\", \"fr_id\"]]\n",
    "    freq_cargo = freq_info[[\"fr_id\", \"fr_class\", \"skoroport\", \"naval\", \"naliv\"]]\n",
    "    dislok_cargo = dislok_cargo.merge(freq_cargo, how=\"left\", on=\"fr_id\")\n",
    "    for i, wag_slice in tqdm(dislok_cargo.groupby(\"wagnum\")):\n",
    "        self.wag_groups[wag_slice[\"wagnum\"].iloc[0]] = wag_slice\n",
    "    return self\n",
    "\n",
    "  #target\n",
    "  def transform(self, test):\n",
    "    counts_df = test.progress_apply(lambda x: get_counts(self.wag_groups, x[\"wagnum\"], x[\"month\"]), axis=1)\n",
    "    counts_df = pd.concat([test, counts_df], axis=1)\n",
    "    counts_df[[\"naliv_frac\", \"naval_frac\", \"onestype\", \"skoroport_frac\", \"twostype\", \"zerostype\"]] = \\\n",
    "      counts_df[[\"naliv_frac\", \"naval_frac\", \"onestype\", \"skoroport_frac\", \"twostype\", \"zerostype\"]].fillna(0.0)\n",
    "    return counts_df"
   ]
  },
  {
   "cell_type": "code",
   "execution_count": 366,
   "id": "b413fff2",
   "metadata": {},
   "outputs": [
    {
     "data": {
      "application/vnd.jupyter.widget-view+json": {
       "model_id": "f1140526aea14f7692ff55c3417f3850",
       "version_major": 2,
       "version_minor": 0
      },
      "text/plain": [
       "  0%|          | 0/33977 [00:00<?, ?it/s]"
      ]
     },
     "metadata": {},
     "output_type": "display_data"
    },
    {
     "data": {
      "application/vnd.jupyter.widget-view+json": {
       "model_id": "63e0a4f80f88411eb351fda15e6df42c",
       "version_major": 2,
       "version_minor": 0
      },
      "text/plain": [
       "  0%|          | 0/237561 [00:00<?, ?it/s]"
      ]
     },
     "metadata": {},
     "output_type": "display_data"
    }
   ],
   "source": [
    "dan_transformer = CountsCargo()\n",
    "freq_info = pd.read_parquet('./freight_info.parquet').convert_dtypes()\n",
    "dan_transformer.fit(dislok, freq_info)\n",
    "danf = dan_transformer.transform(targs)\n",
    "danf = danf[['naliv_frac', 'naval_frac', 'onestype', 'skoroport_frac', 'twostype', 'zerostype']]"
   ]
  },
  {
   "cell_type": "code",
   "execution_count": 367,
   "id": "86b4abf6",
   "metadata": {},
   "outputs": [
    {
     "data": {
      "application/vnd.jupyter.widget-view+json": {
       "model_id": "5a1c3253fd3445c68ab249dac62d6d36",
       "version_major": 2,
       "version_minor": 0
      },
      "text/plain": [
       "  0%|          | 0/33707 [00:00<?, ?it/s]"
      ]
     },
     "metadata": {},
     "output_type": "display_data"
    }
   ],
   "source": [
    "danf_test = dan_transformer.transform(test)\n",
    "danf_test = danf_test[['naliv_frac', 'naval_frac', 'onestype', 'skoroport_frac', 'twostype', 'zerostype']]"
   ]
  },
  {
   "cell_type": "code",
   "execution_count": 368,
   "id": "e9fcd691",
   "metadata": {},
   "outputs": [
    {
     "data": {
      "text/html": [
       "<div>\n",
       "<style scoped>\n",
       "    .dataframe tbody tr th:only-of-type {\n",
       "        vertical-align: middle;\n",
       "    }\n",
       "\n",
       "    .dataframe tbody tr th {\n",
       "        vertical-align: top;\n",
       "    }\n",
       "\n",
       "    .dataframe thead th {\n",
       "        text-align: right;\n",
       "    }\n",
       "</style>\n",
       "<table border=\"1\" class=\"dataframe\">\n",
       "  <thead>\n",
       "    <tr style=\"text-align: right;\">\n",
       "      <th></th>\n",
       "      <th>naliv_frac</th>\n",
       "      <th>naval_frac</th>\n",
       "      <th>onestype</th>\n",
       "      <th>skoroport_frac</th>\n",
       "      <th>twostype</th>\n",
       "      <th>zerostype</th>\n",
       "    </tr>\n",
       "  </thead>\n",
       "  <tbody>\n",
       "    <tr>\n",
       "      <th>0</th>\n",
       "      <td>0.0</td>\n",
       "      <td>0.841121</td>\n",
       "      <td>0.000000</td>\n",
       "      <td>0.0</td>\n",
       "      <td>0.122066</td>\n",
       "      <td>0.380282</td>\n",
       "    </tr>\n",
       "    <tr>\n",
       "      <th>1</th>\n",
       "      <td>0.0</td>\n",
       "      <td>0.898876</td>\n",
       "      <td>0.000000</td>\n",
       "      <td>0.0</td>\n",
       "      <td>0.089202</td>\n",
       "      <td>0.328638</td>\n",
       "    </tr>\n",
       "    <tr>\n",
       "      <th>2</th>\n",
       "      <td>0.0</td>\n",
       "      <td>0.560000</td>\n",
       "      <td>0.000000</td>\n",
       "      <td>0.0</td>\n",
       "      <td>0.220657</td>\n",
       "      <td>0.131455</td>\n",
       "    </tr>\n",
       "    <tr>\n",
       "      <th>3</th>\n",
       "      <td>0.0</td>\n",
       "      <td>0.440000</td>\n",
       "      <td>0.000000</td>\n",
       "      <td>0.0</td>\n",
       "      <td>0.206573</td>\n",
       "      <td>0.145540</td>\n",
       "    </tr>\n",
       "    <tr>\n",
       "      <th>4</th>\n",
       "      <td>0.0</td>\n",
       "      <td>0.635514</td>\n",
       "      <td>0.037559</td>\n",
       "      <td>0.0</td>\n",
       "      <td>0.286385</td>\n",
       "      <td>0.178404</td>\n",
       "    </tr>\n",
       "    <tr>\n",
       "      <th>...</th>\n",
       "      <td>...</td>\n",
       "      <td>...</td>\n",
       "      <td>...</td>\n",
       "      <td>...</td>\n",
       "      <td>...</td>\n",
       "      <td>...</td>\n",
       "    </tr>\n",
       "    <tr>\n",
       "      <th>33702</th>\n",
       "      <td>0.0</td>\n",
       "      <td>0.740000</td>\n",
       "      <td>0.000000</td>\n",
       "      <td>0.0</td>\n",
       "      <td>0.126761</td>\n",
       "      <td>0.342723</td>\n",
       "    </tr>\n",
       "    <tr>\n",
       "      <th>33703</th>\n",
       "      <td>0.0</td>\n",
       "      <td>0.709677</td>\n",
       "      <td>0.028475</td>\n",
       "      <td>0.0</td>\n",
       "      <td>0.208818</td>\n",
       "      <td>0.199326</td>\n",
       "    </tr>\n",
       "    <tr>\n",
       "      <th>33704</th>\n",
       "      <td>0.0</td>\n",
       "      <td>1.000000</td>\n",
       "      <td>0.000000</td>\n",
       "      <td>0.0</td>\n",
       "      <td>0.000000</td>\n",
       "      <td>0.347418</td>\n",
       "    </tr>\n",
       "    <tr>\n",
       "      <th>33705</th>\n",
       "      <td>0.0</td>\n",
       "      <td>1.000000</td>\n",
       "      <td>0.000000</td>\n",
       "      <td>0.0</td>\n",
       "      <td>0.107981</td>\n",
       "      <td>0.389671</td>\n",
       "    </tr>\n",
       "    <tr>\n",
       "      <th>33706</th>\n",
       "      <td>0.0</td>\n",
       "      <td>0.837209</td>\n",
       "      <td>0.197802</td>\n",
       "      <td>0.0</td>\n",
       "      <td>0.000000</td>\n",
       "      <td>0.038462</td>\n",
       "    </tr>\n",
       "  </tbody>\n",
       "</table>\n",
       "<p>33707 rows × 6 columns</p>\n",
       "</div>"
      ],
      "text/plain": [
       "       naliv_frac  naval_frac  onestype  skoroport_frac  twostype  zerostype\n",
       "0             0.0    0.841121  0.000000             0.0  0.122066   0.380282\n",
       "1             0.0    0.898876  0.000000             0.0  0.089202   0.328638\n",
       "2             0.0    0.560000  0.000000             0.0  0.220657   0.131455\n",
       "3             0.0    0.440000  0.000000             0.0  0.206573   0.145540\n",
       "4             0.0    0.635514  0.037559             0.0  0.286385   0.178404\n",
       "...           ...         ...       ...             ...       ...        ...\n",
       "33702         0.0    0.740000  0.000000             0.0  0.126761   0.342723\n",
       "33703         0.0    0.709677  0.028475             0.0  0.208818   0.199326\n",
       "33704         0.0    1.000000  0.000000             0.0  0.000000   0.347418\n",
       "33705         0.0    1.000000  0.000000             0.0  0.107981   0.389671\n",
       "33706         0.0    0.837209  0.197802             0.0  0.000000   0.038462\n",
       "\n",
       "[33707 rows x 6 columns]"
      ]
     },
     "execution_count": 368,
     "metadata": {},
     "output_type": "execute_result"
    }
   ],
   "source": [
    "danf_test"
   ]
  },
  {
   "cell_type": "code",
   "execution_count": null,
   "id": "1704cf83",
   "metadata": {},
   "outputs": [],
   "source": []
  },
  {
   "cell_type": "markdown",
   "id": "de121aea",
   "metadata": {},
   "source": [
    "#### Добавляем фичи из таблици wag_params"
   ]
  },
  {
   "cell_type": "code",
   "execution_count": 371,
   "id": "31c8d36b",
   "metadata": {},
   "outputs": [],
   "source": [
    "wag_params = pd.read_parquet('wag_params.parquet').convert_dtypes()\n",
    "\n",
    "cols_to_drop = ['srok_sl', 'date_build', 'date_iskl']\n",
    "\n",
    "wag_params = wag_params.drop(columns=cols_to_drop)\n",
    "\n",
    "cat_feat = wag_params.columns[1:].values\n",
    "\n",
    "params = targs.merge(wag_params, on = \"wagnum\", how = \"left\")[cat_feat].copy()\n",
    "\n",
    "for p in cat_feat:\n",
    "    params[p] = params[p].astype('category')"
   ]
  },
  {
   "cell_type": "code",
   "execution_count": 373,
   "id": "13415872",
   "metadata": {},
   "outputs": [],
   "source": [
    "params_test = test.merge(wag_params, on = \"wagnum\", how = \"left\")[cat_feat].copy()\n",
    "\n",
    "for p in cat_feat:\n",
    "    params_test[p] = params_test[p].astype('category')"
   ]
  },
  {
   "cell_type": "code",
   "execution_count": null,
   "id": "0baf329c",
   "metadata": {},
   "outputs": [],
   "source": []
  },
  {
   "cell_type": "code",
   "execution_count": 394,
   "id": "ff895d94",
   "metadata": {},
   "outputs": [],
   "source": [
    "mf_train = pd.concat([mff, ef, eff, nerep, params, own_feat, trems_counts, danf, lastreptab], axis = 1)\n",
    "mf_test = pd.concat([mff_test, ef_test, eff_test, nerep_test, params_test, own_feat_test, trems_counts_test, danf_test, lastreptab_test], axis = 1)"
   ]
  },
  {
   "cell_type": "code",
   "execution_count": 390,
   "id": "cbf958d3",
   "metadata": {},
   "outputs": [],
   "source": [
    "test = pd.read_csv('target/y_predict.csv')\n",
    "mf_train = pd.concat([targs[[\"wagnum\", \"month\"]], mf_train], axis = 1)\n",
    "mf_test = pd.concat([test[[\"wagnum\", \"month\"]], mf_test], axis = 1)"
   ]
  },
  {
   "cell_type": "markdown",
   "id": "fc99adff",
   "metadata": {},
   "source": [
    "#### Далее мы строим финальное решение\n",
    "\n",
    "#### В качестве алгоритма машинного обучения мы использовали бустинги из библиотеки LGBMClassifier, в финальном решение мы используем ансамбль из 7 бустингом с разными random_state, усредняя ответы для них\n",
    "\n",
    "#### Подбор гиперпараметров происходит в следующей секции"
   ]
  },
  {
   "cell_type": "code",
   "execution_count": 488,
   "id": "957c7834",
   "metadata": {},
   "outputs": [
    {
     "name": "stdout",
     "output_type": "stream",
     "text": [
      "[LightGBM] [Warning] num_threads is set=8, n_jobs=-1 will be ignored. Current value: num_threads=8\n",
      "[LightGBM] [Warning] num_threads is set=8, n_jobs=-1 will be ignored. Current value: num_threads=8\n",
      "[LightGBM] [Warning] num_threads is set=8, n_jobs=-1 will be ignored. Current value: num_threads=8\n",
      "[LightGBM] [Warning] num_threads is set=8, n_jobs=-1 will be ignored. Current value: num_threads=8\n",
      "[LightGBM] [Warning] num_threads is set=8, n_jobs=-1 will be ignored. Current value: num_threads=8\n",
      "[LightGBM] [Warning] num_threads is set=8, n_jobs=-1 will be ignored. Current value: num_threads=8\n",
      "[LightGBM] [Warning] num_threads is set=8, n_jobs=-1 will be ignored. Current value: num_threads=8\n"
     ]
    }
   ],
   "source": [
    "y_pred_day = []\n",
    "for i in range(7):\n",
    "    model_day = LGBMClassifier(is_unbalance=True, num_threads = 8, force_row_wise=True, **{'n_estimators': 10000, \n",
    "     'learning_rate': 0.013404981239009836 / 2, \n",
    "     'min_split_gain': 0.03842333239584914, \n",
    "     'max_depth': -1, \n",
    "     'max_cat_threshold': 32, \n",
    "     'cat_l2': 68.60685058667403,\n",
    "     'random_state': i})\n",
    "\n",
    "    model_day.fit(mf_train, targs.target_day)\n",
    "    y_pred_day.append(model_day.predict(mf_test))\n",
    "\n",
    "y_pred_day = np.concatenate([i.reshape(-1,1) for i in y_pred_day], axis=1)"
   ]
  },
  {
   "cell_type": "code",
   "execution_count": 489,
   "id": "a0b48b29",
   "metadata": {},
   "outputs": [],
   "source": [
    "new_ans = y_pred_day.sum(axis=1).copy()\n",
    "new_ans[y_pred_day.sum(axis=1).copy() > 3] = 1\n",
    "new_ans[y_pred_day.sum(axis=1).copy() <= 3] = 0\n",
    "y_pred_day = new_ans"
   ]
  },
  {
   "cell_type": "code",
   "execution_count": null,
   "id": "8a3fca49",
   "metadata": {},
   "outputs": [
    {
     "name": "stdout",
     "output_type": "stream",
     "text": [
      "[LightGBM] [Warning] num_threads is set=8, n_jobs=-1 will be ignored. Current value: num_threads=8\n",
      "[LightGBM] [Warning] num_threads is set=8, n_jobs=-1 will be ignored. Current value: num_threads=8\n",
      "[LightGBM] [Warning] num_threads is set=8, n_jobs=-1 will be ignored. Current value: num_threads=8\n",
      "[LightGBM] [Warning] num_threads is set=8, n_jobs=-1 will be ignored. Current value: num_threads=8\n"
     ]
    }
   ],
   "source": [
    "y_pred_month = []\n",
    "for i in range(7):\n",
    "    model_month = LGBMClassifier(is_unbalance=True, num_threads = 8, force_row_wise=True, **{'n_estimators': 10000, \n",
    "     'learning_rate': 0.024922405732354058 / 2, \n",
    "     'min_split_gain': 0.03126564532038549, \n",
    "     'max_depth': 10, \n",
    "     'max_cat_threshold': 128, \n",
    "     'cat_l2': 55.69886937210401,\n",
    "     'random_state': i})\n",
    "\n",
    "    model_month.fit(mf_train, targs.target_month)\n",
    "    y_pred_month.append(model_month.predict(mf_test))\n",
    "\n",
    "y_pred_month = np.concatenate([i.reshape(-1,1) for i in y_pred_month], axis=1)"
   ]
  },
  {
   "cell_type": "code",
   "execution_count": null,
   "id": "6836b7e2",
   "metadata": {},
   "outputs": [],
   "source": [
    "new_ans = y_pred_month.sum(axis=1).copy()\n",
    "new_ans[y_pred_month.sum(axis=1).copy() > 3] = 1\n",
    "new_ans[y_pred_month.sum(axis=1).copy() <= 3] = 0\n",
    "y_pred_month = new_ans"
   ]
  },
  {
   "cell_type": "code",
   "execution_count": null,
   "id": "e72b67a7",
   "metadata": {},
   "outputs": [],
   "source": [
    "submit = pd.read_csv('target/y_predict_submit_example.csv')\n",
    "submit.target_month = y_pred_month\n",
    "submit.target_day = y_pred_day\n",
    "submit.to_csv('submit3.csv', index=False)"
   ]
  },
  {
   "cell_type": "markdown",
   "id": "06bf1fcb",
   "metadata": {},
   "source": [
    "#### Здесь мы перебирали гиперпараметры с помощью optuna\n",
    "#### В качестве валидационной выборки мы использовали данные за февраль"
   ]
  },
  {
   "cell_type": "code",
   "execution_count": 404,
   "id": "6219dfba",
   "metadata": {},
   "outputs": [],
   "source": [
    "data_mask = feat.month.apply(lambda x:int(x[5:7])) != 8"
   ]
  },
  {
   "cell_type": "code",
   "execution_count": null,
   "id": "252b2303",
   "metadata": {},
   "outputs": [],
   "source": [
    "train_mask = (feat.month.apply(lambda x:int(x[5:7]))!= 8)&(feat.month.apply(lambda x:int(x[5:7]))!= 2)\n",
    "test_mask = feat.month.apply(lambda x:int(x[5:7])) == 2"
   ]
  },
  {
   "cell_type": "code",
   "execution_count": null,
   "id": "ef2be8e0",
   "metadata": {},
   "outputs": [],
   "source": [
    "X_train = mf[train_mask]\n",
    "y_train = targs[train_mask].target_month"
   ]
  },
  {
   "cell_type": "code",
   "execution_count": null,
   "id": "611a5f35",
   "metadata": {},
   "outputs": [],
   "source": [
    "X_test = mf[test_mask]\n",
    "y_test = targs[test_mask].target_month"
   ]
  },
  {
   "cell_type": "code",
   "execution_count": 408,
   "id": "f276c2ea",
   "metadata": {},
   "outputs": [],
   "source": [
    "X = mf[data_mask]\n",
    "y = targs[data_mask].target_month.values"
   ]
  },
  {
   "cell_type": "code",
   "execution_count": 413,
   "id": "6401bda5",
   "metadata": {},
   "outputs": [
    {
     "name": "stderr",
     "output_type": "stream",
     "text": [
      "[I 2023-11-12 07:54:56,033] A new study created in memory with name: LGBM Classifier\n"
     ]
    },
    {
     "name": "stdout",
     "output_type": "stream",
     "text": [
      "[LightGBM] [Warning] num_threads is set=6, n_jobs=-1 will be ignored. Current value: num_threads=6\n",
      "[LightGBM] [Warning] num_threads is set=6, n_jobs=-1 will be ignored. Current value: num_threads=6\n",
      "[LightGBM] [Warning] num_threads is set=6, n_jobs=-1 will be ignored. Current value: num_threads=6\n",
      "[LightGBM] [Warning] num_threads is set=6, n_jobs=-1 will be ignored. Current value: num_threads=6\n",
      "[LightGBM] [Warning] num_threads is set=6, n_jobs=-1 will be ignored. Current value: num_threads=6\n"
     ]
    },
    {
     "name": "stderr",
     "output_type": "stream",
     "text": [
      "[I 2023-11-12 07:55:15,866] Trial 0 finished with value: 0.6860678544480908 and parameters: {'n_estimators': 500, 'learning_rate': 0.2424515371972734, 'min_split_gain': 0.02862180166588827, 'max_depth': 8, 'max_cat_threshold': 32, 'cat_l2': 51.395900406164415}. Best is trial 0 with value: 0.6860678544480908.\n"
     ]
    },
    {
     "name": "stdout",
     "output_type": "stream",
     "text": [
      "[LightGBM] [Warning] num_threads is set=6, n_jobs=-1 will be ignored. Current value: num_threads=6\n",
      "[LightGBM] [Warning] num_threads is set=6, n_jobs=-1 will be ignored. Current value: num_threads=6\n",
      "[LightGBM] [Warning] num_threads is set=6, n_jobs=-1 will be ignored. Current value: num_threads=6\n",
      "[LightGBM] [Warning] num_threads is set=6, n_jobs=-1 will be ignored. Current value: num_threads=6\n",
      "[LightGBM] [Warning] num_threads is set=6, n_jobs=-1 will be ignored. Current value: num_threads=6\n"
     ]
    },
    {
     "name": "stderr",
     "output_type": "stream",
     "text": [
      "[I 2023-11-12 07:55:34,723] Trial 1 finished with value: 0.5841128933778891 and parameters: {'n_estimators': 500, 'learning_rate': 0.021264367707282423, 'min_split_gain': 0.05720465530652167, 'max_depth': 5, 'max_cat_threshold': 64, 'cat_l2': 56.976424177648845}. Best is trial 0 with value: 0.6860678544480908.\n"
     ]
    },
    {
     "name": "stdout",
     "output_type": "stream",
     "text": [
      "[LightGBM] [Warning] num_threads is set=6, n_jobs=-1 will be ignored. Current value: num_threads=6\n",
      "[LightGBM] [Warning] num_threads is set=6, n_jobs=-1 will be ignored. Current value: num_threads=6\n",
      "[LightGBM] [Warning] num_threads is set=6, n_jobs=-1 will be ignored. Current value: num_threads=6\n",
      "[LightGBM] [Warning] num_threads is set=6, n_jobs=-1 will be ignored. Current value: num_threads=6\n",
      "[LightGBM] [Warning] num_threads is set=6, n_jobs=-1 will be ignored. Current value: num_threads=6\n"
     ]
    },
    {
     "name": "stderr",
     "output_type": "stream",
     "text": [
      "[I 2023-11-12 07:55:47,740] Trial 2 finished with value: 0.6305560569279554 and parameters: {'n_estimators': 500, 'learning_rate': 0.24400749018113124, 'min_split_gain': 0.01932492318276946, 'max_depth': 3, 'max_cat_threshold': 32, 'cat_l2': 87.52038471015027}. Best is trial 0 with value: 0.6860678544480908.\n"
     ]
    },
    {
     "name": "stdout",
     "output_type": "stream",
     "text": [
      "[LightGBM] [Warning] num_threads is set=6, n_jobs=-1 will be ignored. Current value: num_threads=6\n",
      "[LightGBM] [Warning] num_threads is set=6, n_jobs=-1 will be ignored. Current value: num_threads=6\n",
      "[LightGBM] [Warning] num_threads is set=6, n_jobs=-1 will be ignored. Current value: num_threads=6\n",
      "[LightGBM] [Warning] num_threads is set=6, n_jobs=-1 will be ignored. Current value: num_threads=6\n",
      "[LightGBM] [Warning] num_threads is set=6, n_jobs=-1 will be ignored. Current value: num_threads=6\n"
     ]
    },
    {
     "name": "stderr",
     "output_type": "stream",
     "text": [
      "[I 2023-11-12 07:56:11,472] Trial 3 finished with value: 0.6653335735766988 and parameters: {'n_estimators': 500, 'learning_rate': 0.07359513773373297, 'min_split_gain': 0.07227081365075748, 'max_depth': 10, 'max_cat_threshold': 128, 'cat_l2': 38.378164154485425}. Best is trial 0 with value: 0.6860678544480908.\n"
     ]
    },
    {
     "name": "stdout",
     "output_type": "stream",
     "text": [
      "[LightGBM] [Warning] num_threads is set=6, n_jobs=-1 will be ignored. Current value: num_threads=6\n",
      "[LightGBM] [Warning] num_threads is set=6, n_jobs=-1 will be ignored. Current value: num_threads=6\n",
      "[LightGBM] [Warning] num_threads is set=6, n_jobs=-1 will be ignored. Current value: num_threads=6\n",
      "[LightGBM] [Warning] num_threads is set=6, n_jobs=-1 will be ignored. Current value: num_threads=6\n",
      "[LightGBM] [Warning] num_threads is set=6, n_jobs=-1 will be ignored. Current value: num_threads=6\n"
     ]
    },
    {
     "name": "stderr",
     "output_type": "stream",
     "text": [
      "[I 2023-11-12 07:56:25,350] Trial 4 finished with value: 0.6394792899126136 and parameters: {'n_estimators': 500, 'learning_rate': 0.2485947758123082, 'min_split_gain': 0.04177050498346374, 'max_depth': 3, 'max_cat_threshold': 64, 'cat_l2': 65.19538928404138}. Best is trial 0 with value: 0.6860678544480908.\n"
     ]
    },
    {
     "name": "stdout",
     "output_type": "stream",
     "text": [
      "[LightGBM] [Warning] num_threads is set=6, n_jobs=-1 will be ignored. Current value: num_threads=6\n",
      "[LightGBM] [Warning] num_threads is set=6, n_jobs=-1 will be ignored. Current value: num_threads=6\n",
      "[LightGBM] [Warning] num_threads is set=6, n_jobs=-1 will be ignored. Current value: num_threads=6\n",
      "[LightGBM] [Warning] num_threads is set=6, n_jobs=-1 will be ignored. Current value: num_threads=6\n",
      "[LightGBM] [Warning] num_threads is set=6, n_jobs=-1 will be ignored. Current value: num_threads=6\n"
     ]
    },
    {
     "name": "stderr",
     "output_type": "stream",
     "text": [
      "[I 2023-11-12 07:56:41,228] Trial 5 finished with value: 0.6475331194409701 and parameters: {'n_estimators': 500, 'learning_rate': 0.17464837156594812, 'min_split_gain': 0.016409189340524957, 'max_depth': 4, 'max_cat_threshold': 32, 'cat_l2': 16.12380233904613}. Best is trial 0 with value: 0.6860678544480908.\n"
     ]
    },
    {
     "name": "stdout",
     "output_type": "stream",
     "text": [
      "[LightGBM] [Warning] num_threads is set=6, n_jobs=-1 will be ignored. Current value: num_threads=6\n",
      "[LightGBM] [Warning] num_threads is set=6, n_jobs=-1 will be ignored. Current value: num_threads=6\n",
      "[LightGBM] [Warning] num_threads is set=6, n_jobs=-1 will be ignored. Current value: num_threads=6\n",
      "[LightGBM] [Warning] num_threads is set=6, n_jobs=-1 will be ignored. Current value: num_threads=6\n",
      "[LightGBM] [Warning] num_threads is set=6, n_jobs=-1 will be ignored. Current value: num_threads=6\n"
     ]
    },
    {
     "name": "stderr",
     "output_type": "stream",
     "text": [
      "[I 2023-11-12 07:56:57,600] Trial 6 finished with value: 0.6422242651706542 and parameters: {'n_estimators': 500, 'learning_rate': 0.1190276629921124, 'min_split_gain': 0.0016256939086238154, 'max_depth': 4, 'max_cat_threshold': 64, 'cat_l2': 13.51802012369669}. Best is trial 0 with value: 0.6860678544480908.\n"
     ]
    },
    {
     "name": "stdout",
     "output_type": "stream",
     "text": [
      "[LightGBM] [Warning] num_threads is set=6, n_jobs=-1 will be ignored. Current value: num_threads=6\n",
      "[LightGBM] [Warning] num_threads is set=6, n_jobs=-1 will be ignored. Current value: num_threads=6\n",
      "[LightGBM] [Warning] num_threads is set=6, n_jobs=-1 will be ignored. Current value: num_threads=6\n",
      "[LightGBM] [Warning] num_threads is set=6, n_jobs=-1 will be ignored. Current value: num_threads=6\n",
      "[LightGBM] [Warning] num_threads is set=6, n_jobs=-1 will be ignored. Current value: num_threads=6\n"
     ]
    },
    {
     "name": "stderr",
     "output_type": "stream",
     "text": [
      "[I 2023-11-12 07:57:11,886] Trial 7 finished with value: 0.6368735560335496 and parameters: {'n_estimators': 500, 'learning_rate': 0.18611162489328562, 'min_split_gain': 0.044772872781817685, 'max_depth': 3, 'max_cat_threshold': 128, 'cat_l2': 62.75539869525877}. Best is trial 0 with value: 0.6860678544480908.\n"
     ]
    },
    {
     "name": "stdout",
     "output_type": "stream",
     "text": [
      "[LightGBM] [Warning] num_threads is set=6, n_jobs=-1 will be ignored. Current value: num_threads=6\n",
      "[LightGBM] [Warning] num_threads is set=6, n_jobs=-1 will be ignored. Current value: num_threads=6\n",
      "[LightGBM] [Warning] num_threads is set=6, n_jobs=-1 will be ignored. Current value: num_threads=6\n",
      "[LightGBM] [Warning] num_threads is set=6, n_jobs=-1 will be ignored. Current value: num_threads=6\n",
      "[LightGBM] [Warning] num_threads is set=6, n_jobs=-1 will be ignored. Current value: num_threads=6\n"
     ]
    },
    {
     "name": "stderr",
     "output_type": "stream",
     "text": [
      "[I 2023-11-12 07:57:33,090] Trial 8 finished with value: 0.6796406573930751 and parameters: {'n_estimators': 500, 'learning_rate': 0.16244452548145874, 'min_split_gain': 0.06352146415676417, 'max_depth': 8, 'max_cat_threshold': 16, 'cat_l2': 88.46044162808883}. Best is trial 0 with value: 0.6860678544480908.\n"
     ]
    },
    {
     "name": "stdout",
     "output_type": "stream",
     "text": [
      "[LightGBM] [Warning] num_threads is set=6, n_jobs=-1 will be ignored. Current value: num_threads=6\n",
      "[LightGBM] [Warning] num_threads is set=6, n_jobs=-1 will be ignored. Current value: num_threads=6\n",
      "[LightGBM] [Warning] num_threads is set=6, n_jobs=-1 will be ignored. Current value: num_threads=6\n",
      "[LightGBM] [Warning] num_threads is set=6, n_jobs=-1 will be ignored. Current value: num_threads=6\n",
      "[LightGBM] [Warning] num_threads is set=6, n_jobs=-1 will be ignored. Current value: num_threads=6\n"
     ]
    },
    {
     "name": "stderr",
     "output_type": "stream",
     "text": [
      "[I 2023-11-12 07:57:53,967] Trial 9 finished with value: 0.6856237554901575 and parameters: {'n_estimators': 500, 'learning_rate': 0.23046899300222434, 'min_split_gain': 0.030822390957075587, 'max_depth': 8, 'max_cat_threshold': 32, 'cat_l2': 42.69189033278756}. Best is trial 0 with value: 0.6860678544480908.\n"
     ]
    },
    {
     "name": "stdout",
     "output_type": "stream",
     "text": [
      "[LightGBM] [Warning] num_threads is set=6, n_jobs=-1 will be ignored. Current value: num_threads=6\n",
      "[LightGBM] [Warning] num_threads is set=6, n_jobs=-1 will be ignored. Current value: num_threads=6\n",
      "[LightGBM] [Warning] num_threads is set=6, n_jobs=-1 will be ignored. Current value: num_threads=6\n",
      "[LightGBM] [Warning] num_threads is set=6, n_jobs=-1 will be ignored. Current value: num_threads=6\n",
      "[LightGBM] [Warning] num_threads is set=6, n_jobs=-1 will be ignored. Current value: num_threads=6\n"
     ]
    },
    {
     "name": "stderr",
     "output_type": "stream",
     "text": [
      "[I 2023-11-12 07:58:13,917] Trial 10 finished with value: 0.6764533712159588 and parameters: {'n_estimators': 500, 'learning_rate': 0.2941185203028027, 'min_split_gain': 0.0956452978781506, 'max_depth': 6, 'max_cat_threshold': 8, 'cat_l2': 32.92757509858584}. Best is trial 0 with value: 0.6860678544480908.\n"
     ]
    },
    {
     "name": "stdout",
     "output_type": "stream",
     "text": [
      "[LightGBM] [Warning] num_threads is set=6, n_jobs=-1 will be ignored. Current value: num_threads=6\n",
      "[LightGBM] [Warning] num_threads is set=6, n_jobs=-1 will be ignored. Current value: num_threads=6\n",
      "[LightGBM] [Warning] num_threads is set=6, n_jobs=-1 will be ignored. Current value: num_threads=6\n",
      "[LightGBM] [Warning] num_threads is set=6, n_jobs=-1 will be ignored. Current value: num_threads=6\n",
      "[LightGBM] [Warning] num_threads is set=6, n_jobs=-1 will be ignored. Current value: num_threads=6\n"
     ]
    },
    {
     "name": "stderr",
     "output_type": "stream",
     "text": [
      "[I 2023-11-12 07:58:34,326] Trial 11 finished with value: 0.6888316297879802 and parameters: {'n_estimators': 500, 'learning_rate': 0.23063435869415547, 'min_split_gain': 0.03260632043082122, 'max_depth': 8, 'max_cat_threshold': 32, 'cat_l2': 41.37900059325428}. Best is trial 11 with value: 0.6888316297879802.\n"
     ]
    },
    {
     "name": "stdout",
     "output_type": "stream",
     "text": [
      "[LightGBM] [Warning] num_threads is set=6, n_jobs=-1 will be ignored. Current value: num_threads=6\n",
      "[LightGBM] [Warning] num_threads is set=6, n_jobs=-1 will be ignored. Current value: num_threads=6\n",
      "[LightGBM] [Warning] num_threads is set=6, n_jobs=-1 will be ignored. Current value: num_threads=6\n",
      "[LightGBM] [Warning] num_threads is set=6, n_jobs=-1 will be ignored. Current value: num_threads=6\n",
      "[LightGBM] [Warning] num_threads is set=6, n_jobs=-1 will be ignored. Current value: num_threads=6\n"
     ]
    },
    {
     "name": "stderr",
     "output_type": "stream",
     "text": [
      "[I 2023-11-12 07:58:54,680] Trial 12 finished with value: 0.6849626040034172 and parameters: {'n_estimators': 500, 'learning_rate': 0.2926359600884957, 'min_split_gain': 0.028363515546753683, 'max_depth': -1, 'max_cat_threshold': 32, 'cat_l2': 50.711521872268435}. Best is trial 11 with value: 0.6888316297879802.\n"
     ]
    },
    {
     "name": "stdout",
     "output_type": "stream",
     "text": [
      "[LightGBM] [Warning] num_threads is set=6, n_jobs=-1 will be ignored. Current value: num_threads=6\n",
      "[LightGBM] [Warning] num_threads is set=6, n_jobs=-1 will be ignored. Current value: num_threads=6\n",
      "[LightGBM] [Warning] num_threads is set=6, n_jobs=-1 will be ignored. Current value: num_threads=6\n",
      "[LightGBM] [Warning] num_threads is set=6, n_jobs=-1 will be ignored. Current value: num_threads=6\n",
      "[LightGBM] [Warning] num_threads is set=6, n_jobs=-1 will be ignored. Current value: num_threads=6\n"
     ]
    },
    {
     "name": "stderr",
     "output_type": "stream",
     "text": [
      "[I 2023-11-12 07:59:14,876] Trial 13 finished with value: 0.6841891128487437 and parameters: {'n_estimators': 500, 'learning_rate': 0.21823064903933306, 'min_split_gain': 0.037897258354798125, 'max_depth': 8, 'max_cat_threshold': 32, 'cat_l2': 27.97267878949862}. Best is trial 11 with value: 0.6888316297879802.\n"
     ]
    },
    {
     "name": "stdout",
     "output_type": "stream",
     "text": [
      "[LightGBM] [Warning] num_threads is set=6, n_jobs=-1 will be ignored. Current value: num_threads=6\n",
      "[LightGBM] [Warning] num_threads is set=6, n_jobs=-1 will be ignored. Current value: num_threads=6\n",
      "[LightGBM] [Warning] num_threads is set=6, n_jobs=-1 will be ignored. Current value: num_threads=6\n",
      "[LightGBM] [Warning] num_threads is set=6, n_jobs=-1 will be ignored. Current value: num_threads=6\n",
      "[LightGBM] [Warning] num_threads is set=6, n_jobs=-1 will be ignored. Current value: num_threads=6\n"
     ]
    },
    {
     "name": "stderr",
     "output_type": "stream",
     "text": [
      "[I 2023-11-12 07:59:35,660] Trial 14 finished with value: 0.6860093148275033 and parameters: {'n_estimators': 500, 'learning_rate': 0.20293726140097793, 'min_split_gain': 0.011563838616216182, 'max_depth': 8, 'max_cat_threshold': 16, 'cat_l2': 5.066637859048264}. Best is trial 11 with value: 0.6888316297879802.\n"
     ]
    },
    {
     "name": "stdout",
     "output_type": "stream",
     "text": [
      "[LightGBM] [Warning] num_threads is set=6, n_jobs=-1 will be ignored. Current value: num_threads=6\n",
      "[LightGBM] [Warning] num_threads is set=6, n_jobs=-1 will be ignored. Current value: num_threads=6\n",
      "[LightGBM] [Warning] num_threads is set=6, n_jobs=-1 will be ignored. Current value: num_threads=6\n",
      "[LightGBM] [Warning] num_threads is set=6, n_jobs=-1 will be ignored. Current value: num_threads=6\n",
      "[LightGBM] [Warning] num_threads is set=6, n_jobs=-1 will be ignored. Current value: num_threads=6\n"
     ]
    },
    {
     "name": "stderr",
     "output_type": "stream",
     "text": [
      "[I 2023-11-12 07:59:55,749] Trial 15 finished with value: 0.67406560103313 and parameters: {'n_estimators': 500, 'learning_rate': 0.26031449361602577, 'min_split_gain': 0.03395454802980872, 'max_depth': 8, 'max_cat_threshold': 8, 'cat_l2': 72.8854748025808}. Best is trial 11 with value: 0.6888316297879802.\n"
     ]
    },
    {
     "name": "stdout",
     "output_type": "stream",
     "text": [
      "[LightGBM] [Warning] num_threads is set=6, n_jobs=-1 will be ignored. Current value: num_threads=6\n",
      "[LightGBM] [Warning] num_threads is set=6, n_jobs=-1 will be ignored. Current value: num_threads=6\n",
      "[LightGBM] [Warning] num_threads is set=6, n_jobs=-1 will be ignored. Current value: num_threads=6\n",
      "[LightGBM] [Warning] num_threads is set=6, n_jobs=-1 will be ignored. Current value: num_threads=6\n",
      "[LightGBM] [Warning] num_threads is set=6, n_jobs=-1 will be ignored. Current value: num_threads=6\n"
     ]
    },
    {
     "name": "stderr",
     "output_type": "stream",
     "text": [
      "[I 2023-11-12 08:00:16,342] Trial 16 finished with value: 0.686593762814422 and parameters: {'n_estimators': 500, 'learning_rate': 0.20277644951341064, 'min_split_gain': 0.04951630644370222, 'max_depth': -1, 'max_cat_threshold': 32, 'cat_l2': 51.76088143323739}. Best is trial 11 with value: 0.6888316297879802.\n"
     ]
    },
    {
     "name": "stdout",
     "output_type": "stream",
     "text": [
      "[LightGBM] [Warning] num_threads is set=6, n_jobs=-1 will be ignored. Current value: num_threads=6\n",
      "[LightGBM] [Warning] num_threads is set=6, n_jobs=-1 will be ignored. Current value: num_threads=6\n",
      "[LightGBM] [Warning] num_threads is set=6, n_jobs=-1 will be ignored. Current value: num_threads=6\n",
      "[LightGBM] [Warning] num_threads is set=6, n_jobs=-1 will be ignored. Current value: num_threads=6\n",
      "[LightGBM] [Warning] num_threads is set=6, n_jobs=-1 will be ignored. Current value: num_threads=6\n"
     ]
    },
    {
     "name": "stderr",
     "output_type": "stream",
     "text": [
      "[I 2023-11-12 08:00:36,649] Trial 17 finished with value: 0.6859036554002367 and parameters: {'n_estimators': 500, 'learning_rate': 0.2017576994517553, 'min_split_gain': 0.04897375619206084, 'max_depth': -1, 'max_cat_threshold': 32, 'cat_l2': 42.93801489319048}. Best is trial 11 with value: 0.6888316297879802.\n"
     ]
    },
    {
     "name": "stdout",
     "output_type": "stream",
     "text": [
      "[LightGBM] [Warning] num_threads is set=6, n_jobs=-1 will be ignored. Current value: num_threads=6\n",
      "[LightGBM] [Warning] num_threads is set=6, n_jobs=-1 will be ignored. Current value: num_threads=6\n",
      "[LightGBM] [Warning] num_threads is set=6, n_jobs=-1 will be ignored. Current value: num_threads=6\n",
      "[LightGBM] [Warning] num_threads is set=6, n_jobs=-1 will be ignored. Current value: num_threads=6\n",
      "[LightGBM] [Warning] num_threads is set=6, n_jobs=-1 will be ignored. Current value: num_threads=6\n"
     ]
    },
    {
     "name": "stderr",
     "output_type": "stream",
     "text": [
      "[I 2023-11-12 08:00:57,807] Trial 18 finished with value: 0.6828730661077103 and parameters: {'n_estimators': 500, 'learning_rate': 0.1350182486144956, 'min_split_gain': 0.05370974180250212, 'max_depth': -1, 'max_cat_threshold': 32, 'cat_l2': 75.87187171965351}. Best is trial 11 with value: 0.6888316297879802.\n"
     ]
    },
    {
     "name": "stdout",
     "output_type": "stream",
     "text": [
      "[LightGBM] [Warning] num_threads is set=6, n_jobs=-1 will be ignored. Current value: num_threads=6\n",
      "[LightGBM] [Warning] num_threads is set=6, n_jobs=-1 will be ignored. Current value: num_threads=6\n",
      "[LightGBM] [Warning] num_threads is set=6, n_jobs=-1 will be ignored. Current value: num_threads=6\n",
      "[LightGBM] [Warning] num_threads is set=6, n_jobs=-1 will be ignored. Current value: num_threads=6\n",
      "[LightGBM] [Warning] num_threads is set=6, n_jobs=-1 will be ignored. Current value: num_threads=6\n"
     ]
    },
    {
     "name": "stderr",
     "output_type": "stream",
     "text": [
      "[I 2023-11-12 08:01:16,451] Trial 19 finished with value: 0.642383648664115 and parameters: {'n_estimators': 500, 'learning_rate': 0.15551354693140068, 'min_split_gain': 0.06764018645036919, 'max_depth': 5, 'max_cat_threshold': 8, 'cat_l2': 99.83321887202999}. Best is trial 11 with value: 0.6888316297879802.\n"
     ]
    },
    {
     "name": "stdout",
     "output_type": "stream",
     "text": [
      "[LightGBM] [Warning] num_threads is set=6, n_jobs=-1 will be ignored. Current value: num_threads=6\n",
      "[LightGBM] [Warning] num_threads is set=6, n_jobs=-1 will be ignored. Current value: num_threads=6\n",
      "[LightGBM] [Warning] num_threads is set=6, n_jobs=-1 will be ignored. Current value: num_threads=6\n",
      "[LightGBM] [Warning] num_threads is set=6, n_jobs=-1 will be ignored. Current value: num_threads=6\n",
      "[LightGBM] [Warning] num_threads is set=6, n_jobs=-1 will be ignored. Current value: num_threads=6\n"
     ]
    },
    {
     "name": "stderr",
     "output_type": "stream",
     "text": [
      "[I 2023-11-12 08:01:37,824] Trial 20 finished with value: 0.6877750484863788 and parameters: {'n_estimators': 500, 'learning_rate': 0.2030751768275744, 'min_split_gain': 0.04559873397987039, 'max_depth': 10, 'max_cat_threshold': 128, 'cat_l2': 26.14741733214893}. Best is trial 11 with value: 0.6888316297879802.\n"
     ]
    },
    {
     "name": "stdout",
     "output_type": "stream",
     "text": [
      "[LightGBM] [Warning] num_threads is set=6, n_jobs=-1 will be ignored. Current value: num_threads=6\n",
      "[LightGBM] [Warning] num_threads is set=6, n_jobs=-1 will be ignored. Current value: num_threads=6\n",
      "[LightGBM] [Warning] num_threads is set=6, n_jobs=-1 will be ignored. Current value: num_threads=6\n",
      "[LightGBM] [Warning] num_threads is set=6, n_jobs=-1 will be ignored. Current value: num_threads=6\n",
      "[LightGBM] [Warning] num_threads is set=6, n_jobs=-1 will be ignored. Current value: num_threads=6\n"
     ]
    },
    {
     "name": "stderr",
     "output_type": "stream",
     "text": [
      "[I 2023-11-12 08:01:59,061] Trial 21 finished with value: 0.6836759352263269 and parameters: {'n_estimators': 500, 'learning_rate': 0.20693302026373703, 'min_split_gain': 0.04452090266177759, 'max_depth': 10, 'max_cat_threshold': 128, 'cat_l2': 26.259810951090653}. Best is trial 11 with value: 0.6888316297879802.\n"
     ]
    },
    {
     "name": "stdout",
     "output_type": "stream",
     "text": [
      "[LightGBM] [Warning] num_threads is set=6, n_jobs=-1 will be ignored. Current value: num_threads=6\n",
      "[LightGBM] [Warning] num_threads is set=6, n_jobs=-1 will be ignored. Current value: num_threads=6\n",
      "[LightGBM] [Warning] num_threads is set=6, n_jobs=-1 will be ignored. Current value: num_threads=6\n",
      "[LightGBM] [Warning] num_threads is set=6, n_jobs=-1 will be ignored. Current value: num_threads=6\n",
      "[LightGBM] [Warning] num_threads is set=6, n_jobs=-1 will be ignored. Current value: num_threads=6\n"
     ]
    },
    {
     "name": "stderr",
     "output_type": "stream",
     "text": [
      "[I 2023-11-12 08:02:20,811] Trial 22 finished with value: 0.6847343860640074 and parameters: {'n_estimators': 500, 'learning_rate': 0.1818316623297704, 'min_split_gain': 0.0549356554180636, 'max_depth': 10, 'max_cat_threshold': 128, 'cat_l2': 47.2785787872373}. Best is trial 11 with value: 0.6888316297879802.\n"
     ]
    },
    {
     "name": "stdout",
     "output_type": "stream",
     "text": [
      "[LightGBM] [Warning] num_threads is set=6, n_jobs=-1 will be ignored. Current value: num_threads=6\n",
      "[LightGBM] [Warning] num_threads is set=6, n_jobs=-1 will be ignored. Current value: num_threads=6\n",
      "[LightGBM] [Warning] num_threads is set=6, n_jobs=-1 will be ignored. Current value: num_threads=6\n",
      "[LightGBM] [Warning] num_threads is set=6, n_jobs=-1 will be ignored. Current value: num_threads=6\n",
      "[LightGBM] [Warning] num_threads is set=6, n_jobs=-1 will be ignored. Current value: num_threads=6\n"
     ]
    },
    {
     "name": "stderr",
     "output_type": "stream",
     "text": [
      "[I 2023-11-12 08:02:43,063] Trial 23 finished with value: 0.6826350930085188 and parameters: {'n_estimators': 500, 'learning_rate': 0.21908610926756217, 'min_split_gain': 0.037766315670612394, 'max_depth': 6, 'max_cat_threshold': 128, 'cat_l2': 35.4200114944217}. Best is trial 11 with value: 0.6888316297879802.\n"
     ]
    },
    {
     "name": "stdout",
     "output_type": "stream",
     "text": [
      "[LightGBM] [Warning] num_threads is set=6, n_jobs=-1 will be ignored. Current value: num_threads=6\n",
      "[LightGBM] [Warning] num_threads is set=6, n_jobs=-1 will be ignored. Current value: num_threads=6\n",
      "[LightGBM] [Warning] num_threads is set=6, n_jobs=-1 will be ignored. Current value: num_threads=6\n",
      "[LightGBM] [Warning] num_threads is set=6, n_jobs=-1 will be ignored. Current value: num_threads=6\n",
      "[LightGBM] [Warning] num_threads is set=6, n_jobs=-1 will be ignored. Current value: num_threads=6\n"
     ]
    },
    {
     "name": "stderr",
     "output_type": "stream",
     "text": [
      "[I 2023-11-12 08:03:03,716] Trial 24 finished with value: 0.685886055876051 and parameters: {'n_estimators': 500, 'learning_rate': 0.26899697785342425, 'min_split_gain': 0.023921686564139913, 'max_depth': 10, 'max_cat_threshold': 16, 'cat_l2': 25.752726082095936}. Best is trial 11 with value: 0.6888316297879802.\n"
     ]
    },
    {
     "name": "stdout",
     "output_type": "stream",
     "text": [
      "[LightGBM] [Warning] num_threads is set=6, n_jobs=-1 will be ignored. Current value: num_threads=6\n",
      "[LightGBM] [Warning] num_threads is set=6, n_jobs=-1 will be ignored. Current value: num_threads=6\n",
      "[LightGBM] [Warning] num_threads is set=6, n_jobs=-1 will be ignored. Current value: num_threads=6\n",
      "[LightGBM] [Warning] num_threads is set=6, n_jobs=-1 will be ignored. Current value: num_threads=6\n",
      "[LightGBM] [Warning] num_threads is set=6, n_jobs=-1 will be ignored. Current value: num_threads=6\n"
     ]
    },
    {
     "name": "stderr",
     "output_type": "stream",
     "text": [
      "[I 2023-11-12 08:03:25,097] Trial 25 finished with value: 0.6853720170173592 and parameters: {'n_estimators': 500, 'learning_rate': 0.22290156224298688, 'min_split_gain': 0.048254211395048166, 'max_depth': -1, 'max_cat_threshold': 128, 'cat_l2': 43.945484460564685}. Best is trial 11 with value: 0.6888316297879802.\n"
     ]
    },
    {
     "name": "stdout",
     "output_type": "stream",
     "text": [
      "[LightGBM] [Warning] num_threads is set=6, n_jobs=-1 will be ignored. Current value: num_threads=6\n",
      "[LightGBM] [Warning] num_threads is set=6, n_jobs=-1 will be ignored. Current value: num_threads=6\n",
      "[LightGBM] [Warning] num_threads is set=6, n_jobs=-1 will be ignored. Current value: num_threads=6\n",
      "[LightGBM] [Warning] num_threads is set=6, n_jobs=-1 will be ignored. Current value: num_threads=6\n",
      "[LightGBM] [Warning] num_threads is set=6, n_jobs=-1 will be ignored. Current value: num_threads=6\n"
     ]
    },
    {
     "name": "stderr",
     "output_type": "stream",
     "text": [
      "[I 2023-11-12 08:03:45,323] Trial 26 finished with value: 0.6866398622787038 and parameters: {'n_estimators': 500, 'learning_rate': 0.19221219615912033, 'min_split_gain': 0.03816178636930292, 'max_depth': 10, 'max_cat_threshold': 32, 'cat_l2': 56.66777910677314}. Best is trial 11 with value: 0.6888316297879802.\n"
     ]
    },
    {
     "name": "stdout",
     "output_type": "stream",
     "text": [
      "[LightGBM] [Warning] num_threads is set=6, n_jobs=-1 will be ignored. Current value: num_threads=6\n",
      "[LightGBM] [Warning] num_threads is set=6, n_jobs=-1 will be ignored. Current value: num_threads=6\n",
      "[LightGBM] [Warning] num_threads is set=6, n_jobs=-1 will be ignored. Current value: num_threads=6\n",
      "[LightGBM] [Warning] num_threads is set=6, n_jobs=-1 will be ignored. Current value: num_threads=6\n",
      "[LightGBM] [Warning] num_threads is set=6, n_jobs=-1 will be ignored. Current value: num_threads=6\n"
     ]
    },
    {
     "name": "stderr",
     "output_type": "stream",
     "text": [
      "[I 2023-11-12 08:04:06,236] Trial 27 finished with value: 0.6850527950692663 and parameters: {'n_estimators': 500, 'learning_rate': 0.1796900247237887, 'min_split_gain': 0.03538123957254733, 'max_depth': 10, 'max_cat_threshold': 32, 'cat_l2': 37.06452954049576}. Best is trial 11 with value: 0.6888316297879802.\n"
     ]
    },
    {
     "name": "stdout",
     "output_type": "stream",
     "text": [
      "[LightGBM] [Warning] num_threads is set=6, n_jobs=-1 will be ignored. Current value: num_threads=6\n",
      "[LightGBM] [Warning] num_threads is set=6, n_jobs=-1 will be ignored. Current value: num_threads=6\n",
      "[LightGBM] [Warning] num_threads is set=6, n_jobs=-1 will be ignored. Current value: num_threads=6\n",
      "[LightGBM] [Warning] num_threads is set=6, n_jobs=-1 will be ignored. Current value: num_threads=6\n",
      "[LightGBM] [Warning] num_threads is set=6, n_jobs=-1 will be ignored. Current value: num_threads=6\n"
     ]
    },
    {
     "name": "stderr",
     "output_type": "stream",
     "text": [
      "[I 2023-11-12 08:04:27,976] Trial 28 finished with value: 0.6883363341473114 and parameters: {'n_estimators': 500, 'learning_rate': 0.2668739132273037, 'min_split_gain': 0.024860349482894346, 'max_depth': 10, 'max_cat_threshold': 128, 'cat_l2': 57.86025358121932}. Best is trial 11 with value: 0.6888316297879802.\n"
     ]
    },
    {
     "name": "stdout",
     "output_type": "stream",
     "text": [
      "[LightGBM] [Warning] num_threads is set=6, n_jobs=-1 will be ignored. Current value: num_threads=6\n",
      "[LightGBM] [Warning] num_threads is set=6, n_jobs=-1 will be ignored. Current value: num_threads=6\n",
      "[LightGBM] [Warning] num_threads is set=6, n_jobs=-1 will be ignored. Current value: num_threads=6\n",
      "[LightGBM] [Warning] num_threads is set=6, n_jobs=-1 will be ignored. Current value: num_threads=6\n",
      "[LightGBM] [Warning] num_threads is set=6, n_jobs=-1 will be ignored. Current value: num_threads=6\n"
     ]
    },
    {
     "name": "stderr",
     "output_type": "stream",
     "text": [
      "[I 2023-11-12 08:04:49,700] Trial 29 finished with value: 0.6850963456979773 and parameters: {'n_estimators': 500, 'learning_rate': 0.2715328051527559, 'min_split_gain': 0.026638076293729412, 'max_depth': 10, 'max_cat_threshold': 128, 'cat_l2': 45.50685729096079}. Best is trial 11 with value: 0.6888316297879802.\n"
     ]
    },
    {
     "name": "stdout",
     "output_type": "stream",
     "text": [
      "[LightGBM] [Warning] num_threads is set=6, n_jobs=-1 will be ignored. Current value: num_threads=6\n",
      "[LightGBM] [Warning] num_threads is set=6, n_jobs=-1 will be ignored. Current value: num_threads=6\n",
      "[LightGBM] [Warning] num_threads is set=6, n_jobs=-1 will be ignored. Current value: num_threads=6\n",
      "[LightGBM] [Warning] num_threads is set=6, n_jobs=-1 will be ignored. Current value: num_threads=6\n",
      "[LightGBM] [Warning] num_threads is set=6, n_jobs=-1 will be ignored. Current value: num_threads=6\n"
     ]
    },
    {
     "name": "stderr",
     "output_type": "stream",
     "text": [
      "[I 2023-11-12 08:05:11,523] Trial 30 finished with value: 0.6849429259414302 and parameters: {'n_estimators': 500, 'learning_rate': 0.23351746772294044, 'min_split_gain': 0.022321699251720773, 'max_depth': 10, 'max_cat_threshold': 128, 'cat_l2': 31.12953399243125}. Best is trial 11 with value: 0.6888316297879802.\n"
     ]
    },
    {
     "name": "stdout",
     "output_type": "stream",
     "text": [
      "[LightGBM] [Warning] num_threads is set=6, n_jobs=-1 will be ignored. Current value: num_threads=6\n",
      "[LightGBM] [Warning] num_threads is set=6, n_jobs=-1 will be ignored. Current value: num_threads=6\n",
      "[LightGBM] [Warning] num_threads is set=6, n_jobs=-1 will be ignored. Current value: num_threads=6\n",
      "[LightGBM] [Warning] num_threads is set=6, n_jobs=-1 will be ignored. Current value: num_threads=6\n",
      "[LightGBM] [Warning] num_threads is set=6, n_jobs=-1 will be ignored. Current value: num_threads=6\n"
     ]
    },
    {
     "name": "stderr",
     "output_type": "stream",
     "text": [
      "[I 2023-11-12 08:05:32,758] Trial 31 finished with value: 0.6908604431032936 and parameters: {'n_estimators': 500, 'learning_rate': 0.24922405732354058, 'min_split_gain': 0.03126564532038549, 'max_depth': 10, 'max_cat_threshold': 128, 'cat_l2': 55.69886937210401}. Best is trial 31 with value: 0.6908604431032936.\n"
     ]
    },
    {
     "name": "stdout",
     "output_type": "stream",
     "text": [
      "[LightGBM] [Warning] num_threads is set=6, n_jobs=-1 will be ignored. Current value: num_threads=6\n",
      "[LightGBM] [Warning] num_threads is set=6, n_jobs=-1 will be ignored. Current value: num_threads=6\n",
      "[LightGBM] [Warning] num_threads is set=6, n_jobs=-1 will be ignored. Current value: num_threads=6\n",
      "[LightGBM] [Warning] num_threads is set=6, n_jobs=-1 will be ignored. Current value: num_threads=6\n",
      "[LightGBM] [Warning] num_threads is set=6, n_jobs=-1 will be ignored. Current value: num_threads=6\n"
     ]
    },
    {
     "name": "stderr",
     "output_type": "stream",
     "text": [
      "[I 2023-11-12 08:05:54,125] Trial 32 finished with value: 0.6847464492024867 and parameters: {'n_estimators': 500, 'learning_rate': 0.25182191217578437, 'min_split_gain': 0.0304949725012875, 'max_depth': 10, 'max_cat_threshold': 128, 'cat_l2': 54.40352304481588}. Best is trial 31 with value: 0.6908604431032936.\n"
     ]
    },
    {
     "name": "stdout",
     "output_type": "stream",
     "text": [
      "[LightGBM] [Warning] num_threads is set=6, n_jobs=-1 will be ignored. Current value: num_threads=6\n",
      "[LightGBM] [Warning] num_threads is set=6, n_jobs=-1 will be ignored. Current value: num_threads=6\n",
      "[LightGBM] [Warning] num_threads is set=6, n_jobs=-1 will be ignored. Current value: num_threads=6\n",
      "[LightGBM] [Warning] num_threads is set=6, n_jobs=-1 will be ignored. Current value: num_threads=6\n",
      "[LightGBM] [Warning] num_threads is set=6, n_jobs=-1 will be ignored. Current value: num_threads=6\n"
     ]
    },
    {
     "name": "stderr",
     "output_type": "stream",
     "text": [
      "[I 2023-11-12 08:06:14,944] Trial 33 finished with value: 0.6847661775599188 and parameters: {'n_estimators': 500, 'learning_rate': 0.2480624100726809, 'min_split_gain': 0.01565288932844889, 'max_depth': 5, 'max_cat_threshold': 128, 'cat_l2': 57.40972683401317}. Best is trial 31 with value: 0.6908604431032936.\n"
     ]
    },
    {
     "name": "stdout",
     "output_type": "stream",
     "text": [
      "[LightGBM] [Warning] num_threads is set=6, n_jobs=-1 will be ignored. Current value: num_threads=6\n",
      "[LightGBM] [Warning] num_threads is set=6, n_jobs=-1 will be ignored. Current value: num_threads=6\n",
      "[LightGBM] [Warning] num_threads is set=6, n_jobs=-1 will be ignored. Current value: num_threads=6\n",
      "[LightGBM] [Warning] num_threads is set=6, n_jobs=-1 will be ignored. Current value: num_threads=6\n",
      "[LightGBM] [Warning] num_threads is set=6, n_jobs=-1 will be ignored. Current value: num_threads=6\n"
     ]
    },
    {
     "name": "stderr",
     "output_type": "stream",
     "text": [
      "[I 2023-11-12 08:06:35,761] Trial 34 finished with value: 0.686453917660242 and parameters: {'n_estimators': 500, 'learning_rate': 0.27474266717793877, 'min_split_gain': 0.024337668468409443, 'max_depth': 10, 'max_cat_threshold': 128, 'cat_l2': 39.45242853221886}. Best is trial 31 with value: 0.6908604431032936.\n"
     ]
    },
    {
     "name": "stdout",
     "output_type": "stream",
     "text": [
      "[LightGBM] [Warning] num_threads is set=6, n_jobs=-1 will be ignored. Current value: num_threads=6\n",
      "[LightGBM] [Warning] num_threads is set=6, n_jobs=-1 will be ignored. Current value: num_threads=6\n",
      "[LightGBM] [Warning] num_threads is set=6, n_jobs=-1 will be ignored. Current value: num_threads=6\n",
      "[LightGBM] [Warning] num_threads is set=6, n_jobs=-1 will be ignored. Current value: num_threads=6\n",
      "[LightGBM] [Warning] num_threads is set=6, n_jobs=-1 will be ignored. Current value: num_threads=6\n"
     ]
    },
    {
     "name": "stderr",
     "output_type": "stream",
     "text": [
      "[I 2023-11-12 08:06:55,883] Trial 35 finished with value: 0.6903773532478027 and parameters: {'n_estimators': 500, 'learning_rate': 0.23522873793241608, 'min_split_gain': 0.03308027298166509, 'max_depth': 10, 'max_cat_threshold': 64, 'cat_l2': 49.30582178324301}. Best is trial 31 with value: 0.6908604431032936.\n"
     ]
    },
    {
     "name": "stdout",
     "output_type": "stream",
     "text": [
      "[LightGBM] [Warning] num_threads is set=6, n_jobs=-1 will be ignored. Current value: num_threads=6\n",
      "[LightGBM] [Warning] num_threads is set=6, n_jobs=-1 will be ignored. Current value: num_threads=6\n",
      "[LightGBM] [Warning] num_threads is set=6, n_jobs=-1 will be ignored. Current value: num_threads=6\n",
      "[LightGBM] [Warning] num_threads is set=6, n_jobs=-1 will be ignored. Current value: num_threads=6\n",
      "[LightGBM] [Warning] num_threads is set=6, n_jobs=-1 will be ignored. Current value: num_threads=6\n"
     ]
    },
    {
     "name": "stderr",
     "output_type": "stream",
     "text": [
      "[I 2023-11-12 08:07:12,225] Trial 36 finished with value: 0.6663331004449585 and parameters: {'n_estimators': 500, 'learning_rate': 0.24397406977727487, 'min_split_gain': 0.03306961481297351, 'max_depth': 4, 'max_cat_threshold': 64, 'cat_l2': 49.86513637883123}. Best is trial 31 with value: 0.6908604431032936.\n"
     ]
    },
    {
     "name": "stdout",
     "output_type": "stream",
     "text": [
      "[LightGBM] [Warning] num_threads is set=6, n_jobs=-1 will be ignored. Current value: num_threads=6\n",
      "[LightGBM] [Warning] num_threads is set=6, n_jobs=-1 will be ignored. Current value: num_threads=6\n",
      "[LightGBM] [Warning] num_threads is set=6, n_jobs=-1 will be ignored. Current value: num_threads=6\n",
      "[LightGBM] [Warning] num_threads is set=6, n_jobs=-1 will be ignored. Current value: num_threads=6\n",
      "[LightGBM] [Warning] num_threads is set=6, n_jobs=-1 will be ignored. Current value: num_threads=6\n"
     ]
    },
    {
     "name": "stderr",
     "output_type": "stream",
     "text": [
      "[I 2023-11-12 08:07:25,581] Trial 37 finished with value: 0.6372290030065869 and parameters: {'n_estimators': 500, 'learning_rate': 0.23578214480494486, 'min_split_gain': 0.018447140999849045, 'max_depth': 3, 'max_cat_threshold': 64, 'cat_l2': 61.941990284141404}. Best is trial 31 with value: 0.6908604431032936.\n"
     ]
    },
    {
     "name": "stdout",
     "output_type": "stream",
     "text": [
      "[LightGBM] [Warning] num_threads is set=6, n_jobs=-1 will be ignored. Current value: num_threads=6\n",
      "[LightGBM] [Warning] num_threads is set=6, n_jobs=-1 will be ignored. Current value: num_threads=6\n",
      "[LightGBM] [Warning] num_threads is set=6, n_jobs=-1 will be ignored. Current value: num_threads=6\n",
      "[LightGBM] [Warning] num_threads is set=6, n_jobs=-1 will be ignored. Current value: num_threads=6\n",
      "[LightGBM] [Warning] num_threads is set=6, n_jobs=-1 will be ignored. Current value: num_threads=6\n"
     ]
    },
    {
     "name": "stderr",
     "output_type": "stream",
     "text": [
      "[I 2023-11-12 08:07:45,657] Trial 38 finished with value: 0.6854224250422934 and parameters: {'n_estimators': 500, 'learning_rate': 0.27863343227517356, 'min_split_gain': 0.0405731757133321, 'max_depth': 6, 'max_cat_threshold': 64, 'cat_l2': 48.80348010503195}. Best is trial 31 with value: 0.6908604431032936.\n"
     ]
    },
    {
     "name": "stdout",
     "output_type": "stream",
     "text": [
      "[LightGBM] [Warning] num_threads is set=6, n_jobs=-1 will be ignored. Current value: num_threads=6\n",
      "[LightGBM] [Warning] num_threads is set=6, n_jobs=-1 will be ignored. Current value: num_threads=6\n",
      "[LightGBM] [Warning] num_threads is set=6, n_jobs=-1 will be ignored. Current value: num_threads=6\n",
      "[LightGBM] [Warning] num_threads is set=6, n_jobs=-1 will be ignored. Current value: num_threads=6\n",
      "[LightGBM] [Warning] num_threads is set=6, n_jobs=-1 will be ignored. Current value: num_threads=6\n"
     ]
    },
    {
     "name": "stderr",
     "output_type": "stream",
     "text": [
      "[I 2023-11-12 08:08:05,581] Trial 39 finished with value: 0.6809370248370659 and parameters: {'n_estimators': 500, 'learning_rate': 0.2535932361319173, 'min_split_gain': 0.010524342503326432, 'max_depth': 10, 'max_cat_threshold': 64, 'cat_l2': 57.52026771018552}. Best is trial 31 with value: 0.6908604431032936.\n"
     ]
    },
    {
     "name": "stdout",
     "output_type": "stream",
     "text": [
      "[LightGBM] [Warning] num_threads is set=6, n_jobs=-1 will be ignored. Current value: num_threads=6\n",
      "[LightGBM] [Warning] num_threads is set=6, n_jobs=-1 will be ignored. Current value: num_threads=6\n",
      "[LightGBM] [Warning] num_threads is set=6, n_jobs=-1 will be ignored. Current value: num_threads=6\n",
      "[LightGBM] [Warning] num_threads is set=6, n_jobs=-1 will be ignored. Current value: num_threads=6\n",
      "[LightGBM] [Warning] num_threads is set=6, n_jobs=-1 will be ignored. Current value: num_threads=6\n"
     ]
    },
    {
     "name": "stderr",
     "output_type": "stream",
     "text": [
      "[I 2023-11-12 08:08:25,437] Trial 40 finished with value: 0.6861363901837978 and parameters: {'n_estimators': 500, 'learning_rate': 0.28468040621751023, 'min_split_gain': 0.028764077937874104, 'max_depth': 8, 'max_cat_threshold': 64, 'cat_l2': 64.81936510731106}. Best is trial 31 with value: 0.6908604431032936.\n"
     ]
    },
    {
     "name": "stdout",
     "output_type": "stream",
     "text": [
      "[LightGBM] [Warning] num_threads is set=6, n_jobs=-1 will be ignored. Current value: num_threads=6\n",
      "[LightGBM] [Warning] num_threads is set=6, n_jobs=-1 will be ignored. Current value: num_threads=6\n",
      "[LightGBM] [Warning] num_threads is set=6, n_jobs=-1 will be ignored. Current value: num_threads=6\n",
      "[LightGBM] [Warning] num_threads is set=6, n_jobs=-1 will be ignored. Current value: num_threads=6\n",
      "[LightGBM] [Warning] num_threads is set=6, n_jobs=-1 will be ignored. Current value: num_threads=6\n"
     ]
    },
    {
     "name": "stderr",
     "output_type": "stream",
     "text": [
      "[I 2023-11-12 08:08:46,284] Trial 41 finished with value: 0.6849564924099454 and parameters: {'n_estimators': 500, 'learning_rate': 0.2630018297129145, 'min_split_gain': 0.042713330381671785, 'max_depth': 10, 'max_cat_threshold': 128, 'cat_l2': 38.77774417877672}. Best is trial 31 with value: 0.6908604431032936.\n"
     ]
    },
    {
     "name": "stdout",
     "output_type": "stream",
     "text": [
      "[LightGBM] [Warning] num_threads is set=6, n_jobs=-1 will be ignored. Current value: num_threads=6\n",
      "[LightGBM] [Warning] num_threads is set=6, n_jobs=-1 will be ignored. Current value: num_threads=6\n",
      "[LightGBM] [Warning] num_threads is set=6, n_jobs=-1 will be ignored. Current value: num_threads=6\n",
      "[LightGBM] [Warning] num_threads is set=6, n_jobs=-1 will be ignored. Current value: num_threads=6\n",
      "[LightGBM] [Warning] num_threads is set=6, n_jobs=-1 will be ignored. Current value: num_threads=6\n"
     ]
    },
    {
     "name": "stderr",
     "output_type": "stream",
     "text": [
      "[I 2023-11-12 08:09:07,833] Trial 42 finished with value: 0.6865713264703474 and parameters: {'n_estimators': 500, 'learning_rate': 0.23366670391613745, 'min_split_gain': 0.034296996394270474, 'max_depth': 10, 'max_cat_threshold': 128, 'cat_l2': 51.515775794964824}. Best is trial 31 with value: 0.6908604431032936.\n"
     ]
    },
    {
     "name": "stdout",
     "output_type": "stream",
     "text": [
      "[LightGBM] [Warning] num_threads is set=6, n_jobs=-1 will be ignored. Current value: num_threads=6\n",
      "[LightGBM] [Warning] num_threads is set=6, n_jobs=-1 will be ignored. Current value: num_threads=6\n",
      "[LightGBM] [Warning] num_threads is set=6, n_jobs=-1 will be ignored. Current value: num_threads=6\n",
      "[LightGBM] [Warning] num_threads is set=6, n_jobs=-1 will be ignored. Current value: num_threads=6\n",
      "[LightGBM] [Warning] num_threads is set=6, n_jobs=-1 will be ignored. Current value: num_threads=6\n"
     ]
    },
    {
     "name": "stderr",
     "output_type": "stream",
     "text": [
      "[I 2023-11-12 08:09:25,436] Trial 43 finished with value: 0.6739807879727541 and parameters: {'n_estimators': 500, 'learning_rate': 0.29937087400462914, 'min_split_gain': 0.02650071865976559, 'max_depth': 4, 'max_cat_threshold': 128, 'cat_l2': 42.04013470764524}. Best is trial 31 with value: 0.6908604431032936.\n"
     ]
    },
    {
     "name": "stdout",
     "output_type": "stream",
     "text": [
      "[LightGBM] [Warning] num_threads is set=6, n_jobs=-1 will be ignored. Current value: num_threads=6\n",
      "[LightGBM] [Warning] num_threads is set=6, n_jobs=-1 will be ignored. Current value: num_threads=6\n",
      "[LightGBM] [Warning] num_threads is set=6, n_jobs=-1 will be ignored. Current value: num_threads=6\n",
      "[LightGBM] [Warning] num_threads is set=6, n_jobs=-1 will be ignored. Current value: num_threads=6\n",
      "[LightGBM] [Warning] num_threads is set=6, n_jobs=-1 will be ignored. Current value: num_threads=6\n"
     ]
    },
    {
     "name": "stderr",
     "output_type": "stream",
     "text": [
      "[I 2023-11-12 08:09:46,038] Trial 44 finished with value: 0.6853424558141417 and parameters: {'n_estimators': 500, 'learning_rate': 0.258669642450316, 'min_split_gain': 0.04225927472066242, 'max_depth': 10, 'max_cat_threshold': 16, 'cat_l2': 46.97873205933173}. Best is trial 31 with value: 0.6908604431032936.\n"
     ]
    },
    {
     "name": "stdout",
     "output_type": "stream",
     "text": [
      "[LightGBM] [Warning] num_threads is set=6, n_jobs=-1 will be ignored. Current value: num_threads=6\n",
      "[LightGBM] [Warning] num_threads is set=6, n_jobs=-1 will be ignored. Current value: num_threads=6\n",
      "[LightGBM] [Warning] num_threads is set=6, n_jobs=-1 will be ignored. Current value: num_threads=6\n",
      "[LightGBM] [Warning] num_threads is set=6, n_jobs=-1 will be ignored. Current value: num_threads=6\n",
      "[LightGBM] [Warning] num_threads is set=6, n_jobs=-1 will be ignored. Current value: num_threads=6\n"
     ]
    },
    {
     "name": "stderr",
     "output_type": "stream",
     "text": [
      "[I 2023-11-12 08:09:59,100] Trial 45 finished with value: 0.5964419383660295 and parameters: {'n_estimators': 500, 'learning_rate': 0.22005626360630157, 'min_split_gain': 0.021634375337918357, 'max_depth': 3, 'max_cat_threshold': 8, 'cat_l2': 60.53187757356105}. Best is trial 31 with value: 0.6908604431032936.\n"
     ]
    },
    {
     "name": "stdout",
     "output_type": "stream",
     "text": [
      "[LightGBM] [Warning] num_threads is set=6, n_jobs=-1 will be ignored. Current value: num_threads=6\n",
      "[LightGBM] [Warning] num_threads is set=6, n_jobs=-1 will be ignored. Current value: num_threads=6\n",
      "[LightGBM] [Warning] num_threads is set=6, n_jobs=-1 will be ignored. Current value: num_threads=6\n",
      "[LightGBM] [Warning] num_threads is set=6, n_jobs=-1 will be ignored. Current value: num_threads=6\n",
      "[LightGBM] [Warning] num_threads is set=6, n_jobs=-1 will be ignored. Current value: num_threads=6\n"
     ]
    },
    {
     "name": "stderr",
     "output_type": "stream",
     "text": [
      "[I 2023-11-12 08:10:18,731] Trial 46 finished with value: 0.6842572693265572 and parameters: {'n_estimators': 500, 'learning_rate': 0.24415306709113882, 'min_split_gain': 0.03033694971000647, 'max_depth': 5, 'max_cat_threshold': 64, 'cat_l2': 66.98535730841117}. Best is trial 31 with value: 0.6908604431032936.\n"
     ]
    },
    {
     "name": "stdout",
     "output_type": "stream",
     "text": [
      "[LightGBM] [Warning] num_threads is set=6, n_jobs=-1 will be ignored. Current value: num_threads=6\n",
      "[LightGBM] [Warning] num_threads is set=6, n_jobs=-1 will be ignored. Current value: num_threads=6\n",
      "[LightGBM] [Warning] num_threads is set=6, n_jobs=-1 will be ignored. Current value: num_threads=6\n",
      "[LightGBM] [Warning] num_threads is set=6, n_jobs=-1 will be ignored. Current value: num_threads=6\n",
      "[LightGBM] [Warning] num_threads is set=6, n_jobs=-1 will be ignored. Current value: num_threads=6\n"
     ]
    },
    {
     "name": "stderr",
     "output_type": "stream",
     "text": [
      "[I 2023-11-12 08:10:40,096] Trial 47 finished with value: 0.6837970401013098 and parameters: {'n_estimators': 500, 'learning_rate': 0.28309599963649246, 'min_split_gain': 0.03746490295254025, 'max_depth': 8, 'max_cat_threshold': 128, 'cat_l2': 54.08378351841454}. Best is trial 31 with value: 0.6908604431032936.\n"
     ]
    },
    {
     "name": "stdout",
     "output_type": "stream",
     "text": [
      "[LightGBM] [Warning] num_threads is set=6, n_jobs=-1 will be ignored. Current value: num_threads=6\n",
      "[LightGBM] [Warning] num_threads is set=6, n_jobs=-1 will be ignored. Current value: num_threads=6\n",
      "[LightGBM] [Warning] num_threads is set=6, n_jobs=-1 will be ignored. Current value: num_threads=6\n",
      "[LightGBM] [Warning] num_threads is set=6, n_jobs=-1 will be ignored. Current value: num_threads=6\n",
      "[LightGBM] [Warning] num_threads is set=6, n_jobs=-1 will be ignored. Current value: num_threads=6\n"
     ]
    },
    {
     "name": "stderr",
     "output_type": "stream",
     "text": [
      "[I 2023-11-12 08:11:01,136] Trial 48 finished with value: 0.6848375045392261 and parameters: {'n_estimators': 500, 'learning_rate': 0.23325467607171008, 'min_split_gain': 0.04554216295482416, 'max_depth': 10, 'max_cat_threshold': 128, 'cat_l2': 31.64065838786004}. Best is trial 31 with value: 0.6908604431032936.\n"
     ]
    },
    {
     "name": "stdout",
     "output_type": "stream",
     "text": [
      "[LightGBM] [Warning] num_threads is set=6, n_jobs=-1 will be ignored. Current value: num_threads=6\n",
      "[LightGBM] [Warning] num_threads is set=6, n_jobs=-1 will be ignored. Current value: num_threads=6\n",
      "[LightGBM] [Warning] num_threads is set=6, n_jobs=-1 will be ignored. Current value: num_threads=6\n",
      "[LightGBM] [Warning] num_threads is set=6, n_jobs=-1 will be ignored. Current value: num_threads=6\n",
      "[LightGBM] [Warning] num_threads is set=6, n_jobs=-1 will be ignored. Current value: num_threads=6\n"
     ]
    },
    {
     "name": "stderr",
     "output_type": "stream",
     "text": [
      "[I 2023-11-12 08:11:21,758] Trial 49 finished with value: 0.6831696465176165 and parameters: {'n_estimators': 500, 'learning_rate': 0.21142650000055518, 'min_split_gain': 0.03160404502326519, 'max_depth': 8, 'max_cat_threshold': 64, 'cat_l2': 23.143621119195824}. Best is trial 31 with value: 0.6908604431032936.\n"
     ]
    },
    {
     "name": "stdout",
     "output_type": "stream",
     "text": [
      "[LightGBM] [Warning] num_threads is set=6, n_jobs=-1 will be ignored. Current value: num_threads=6\n",
      "[LightGBM] [Warning] num_threads is set=6, n_jobs=-1 will be ignored. Current value: num_threads=6\n",
      "[LightGBM] [Warning] num_threads is set=6, n_jobs=-1 will be ignored. Current value: num_threads=6\n",
      "[LightGBM] [Warning] num_threads is set=6, n_jobs=-1 will be ignored. Current value: num_threads=6\n",
      "[LightGBM] [Warning] num_threads is set=6, n_jobs=-1 will be ignored. Current value: num_threads=6\n"
     ]
    },
    {
     "name": "stderr",
     "output_type": "stream",
     "text": [
      "[I 2023-11-12 08:11:43,547] Trial 50 finished with value: 0.6822607641170617 and parameters: {'n_estimators': 500, 'learning_rate': 0.16730832795858858, 'min_split_gain': 0.05243885783092306, 'max_depth': 10, 'max_cat_threshold': 16, 'cat_l2': 41.50867957028911}. Best is trial 31 with value: 0.6908604431032936.\n"
     ]
    },
    {
     "name": "stdout",
     "output_type": "stream",
     "text": [
      "[LightGBM] [Warning] num_threads is set=6, n_jobs=-1 will be ignored. Current value: num_threads=6\n",
      "[LightGBM] [Warning] num_threads is set=6, n_jobs=-1 will be ignored. Current value: num_threads=6\n",
      "[LightGBM] [Warning] num_threads is set=6, n_jobs=-1 will be ignored. Current value: num_threads=6\n",
      "[LightGBM] [Warning] num_threads is set=6, n_jobs=-1 will be ignored. Current value: num_threads=6\n",
      "[LightGBM] [Warning] num_threads is set=6, n_jobs=-1 will be ignored. Current value: num_threads=6\n"
     ]
    },
    {
     "name": "stderr",
     "output_type": "stream",
     "text": [
      "[I 2023-11-12 08:12:03,931] Trial 51 finished with value: 0.6870804312771306 and parameters: {'n_estimators': 500, 'learning_rate': 0.1965417624180153, 'min_split_gain': 0.03928705091633662, 'max_depth': 10, 'max_cat_threshold': 32, 'cat_l2': 54.176400173285195}. Best is trial 31 with value: 0.6908604431032936.\n"
     ]
    },
    {
     "name": "stdout",
     "output_type": "stream",
     "text": [
      "[LightGBM] [Warning] num_threads is set=6, n_jobs=-1 will be ignored. Current value: num_threads=6\n",
      "[LightGBM] [Warning] num_threads is set=6, n_jobs=-1 will be ignored. Current value: num_threads=6\n",
      "[LightGBM] [Warning] num_threads is set=6, n_jobs=-1 will be ignored. Current value: num_threads=6\n",
      "[LightGBM] [Warning] num_threads is set=6, n_jobs=-1 will be ignored. Current value: num_threads=6\n",
      "[LightGBM] [Warning] num_threads is set=6, n_jobs=-1 will be ignored. Current value: num_threads=6\n"
     ]
    },
    {
     "name": "stderr",
     "output_type": "stream",
     "text": [
      "[I 2023-11-12 08:12:23,832] Trial 52 finished with value: 0.6835125859160193 and parameters: {'n_estimators': 500, 'learning_rate': 0.1900065376707153, 'min_split_gain': 0.04010570373263653, 'max_depth': 10, 'max_cat_threshold': 32, 'cat_l2': 52.033199169494395}. Best is trial 31 with value: 0.6908604431032936.\n"
     ]
    },
    {
     "name": "stdout",
     "output_type": "stream",
     "text": [
      "[LightGBM] [Warning] num_threads is set=6, n_jobs=-1 will be ignored. Current value: num_threads=6\n",
      "[LightGBM] [Warning] num_threads is set=6, n_jobs=-1 will be ignored. Current value: num_threads=6\n",
      "[LightGBM] [Warning] num_threads is set=6, n_jobs=-1 will be ignored. Current value: num_threads=6\n",
      "[LightGBM] [Warning] num_threads is set=6, n_jobs=-1 will be ignored. Current value: num_threads=6\n",
      "[LightGBM] [Warning] num_threads is set=6, n_jobs=-1 will be ignored. Current value: num_threads=6\n"
     ]
    },
    {
     "name": "stderr",
     "output_type": "stream",
     "text": [
      "[I 2023-11-12 08:12:43,469] Trial 53 finished with value: 0.6890083267964284 and parameters: {'n_estimators': 500, 'learning_rate': 0.22609850714123206, 'min_split_gain': 0.035016698890970636, 'max_depth': 10, 'max_cat_threshold': 32, 'cat_l2': 47.3158103097262}. Best is trial 31 with value: 0.6908604431032936.\n"
     ]
    },
    {
     "name": "stdout",
     "output_type": "stream",
     "text": [
      "[LightGBM] [Warning] num_threads is set=6, n_jobs=-1 will be ignored. Current value: num_threads=6\n",
      "[LightGBM] [Warning] num_threads is set=6, n_jobs=-1 will be ignored. Current value: num_threads=6\n",
      "[LightGBM] [Warning] num_threads is set=6, n_jobs=-1 will be ignored. Current value: num_threads=6\n",
      "[LightGBM] [Warning] num_threads is set=6, n_jobs=-1 will be ignored. Current value: num_threads=6\n",
      "[LightGBM] [Warning] num_threads is set=6, n_jobs=-1 will be ignored. Current value: num_threads=6\n"
     ]
    },
    {
     "name": "stderr",
     "output_type": "stream",
     "text": [
      "[I 2023-11-12 08:13:03,152] Trial 54 finished with value: 0.6872062260071989 and parameters: {'n_estimators': 500, 'learning_rate': 0.22452416149779536, 'min_split_gain': 0.03455535951854757, 'max_depth': 10, 'max_cat_threshold': 32, 'cat_l2': 47.1980278431471}. Best is trial 31 with value: 0.6908604431032936.\n"
     ]
    },
    {
     "name": "stdout",
     "output_type": "stream",
     "text": [
      "[LightGBM] [Warning] num_threads is set=6, n_jobs=-1 will be ignored. Current value: num_threads=6\n",
      "[LightGBM] [Warning] num_threads is set=6, n_jobs=-1 will be ignored. Current value: num_threads=6\n",
      "[LightGBM] [Warning] num_threads is set=6, n_jobs=-1 will be ignored. Current value: num_threads=6\n",
      "[LightGBM] [Warning] num_threads is set=6, n_jobs=-1 will be ignored. Current value: num_threads=6\n",
      "[LightGBM] [Warning] num_threads is set=6, n_jobs=-1 will be ignored. Current value: num_threads=6\n"
     ]
    },
    {
     "name": "stderr",
     "output_type": "stream",
     "text": [
      "[I 2023-11-12 08:13:22,871] Trial 55 finished with value: 0.6850754290068245 and parameters: {'n_estimators': 500, 'learning_rate': 0.21303614326123163, 'min_split_gain': 0.026595222755241066, 'max_depth': 6, 'max_cat_threshold': 32, 'cat_l2': 34.07444635735972}. Best is trial 31 with value: 0.6908604431032936.\n"
     ]
    },
    {
     "name": "stdout",
     "output_type": "stream",
     "text": [
      "[LightGBM] [Warning] num_threads is set=6, n_jobs=-1 will be ignored. Current value: num_threads=6\n",
      "[LightGBM] [Warning] num_threads is set=6, n_jobs=-1 will be ignored. Current value: num_threads=6\n",
      "[LightGBM] [Warning] num_threads is set=6, n_jobs=-1 will be ignored. Current value: num_threads=6\n",
      "[LightGBM] [Warning] num_threads is set=6, n_jobs=-1 will be ignored. Current value: num_threads=6\n",
      "[LightGBM] [Warning] num_threads is set=6, n_jobs=-1 will be ignored. Current value: num_threads=6\n"
     ]
    },
    {
     "name": "stderr",
     "output_type": "stream",
     "text": [
      "[I 2023-11-12 08:13:42,549] Trial 56 finished with value: 0.6748240719106449 and parameters: {'n_estimators': 500, 'learning_rate': 0.2652735061860572, 'min_split_gain': 0.046996165711338196, 'max_depth': 8, 'max_cat_threshold': 8, 'cat_l2': 44.81699819463889}. Best is trial 31 with value: 0.6908604431032936.\n"
     ]
    },
    {
     "name": "stdout",
     "output_type": "stream",
     "text": [
      "[LightGBM] [Warning] num_threads is set=6, n_jobs=-1 will be ignored. Current value: num_threads=6\n",
      "[LightGBM] [Warning] num_threads is set=6, n_jobs=-1 will be ignored. Current value: num_threads=6\n",
      "[LightGBM] [Warning] num_threads is set=6, n_jobs=-1 will be ignored. Current value: num_threads=6\n",
      "[LightGBM] [Warning] num_threads is set=6, n_jobs=-1 will be ignored. Current value: num_threads=6\n",
      "[LightGBM] [Warning] num_threads is set=6, n_jobs=-1 will be ignored. Current value: num_threads=6\n"
     ]
    },
    {
     "name": "stderr",
     "output_type": "stream",
     "text": [
      "[I 2023-11-12 08:13:58,216] Trial 57 finished with value: 0.6596890093709031 and parameters: {'n_estimators': 500, 'learning_rate': 0.24574007324799108, 'min_split_gain': 0.030448216767598985, 'max_depth': 4, 'max_cat_threshold': 32, 'cat_l2': 38.48381521242359}. Best is trial 31 with value: 0.6908604431032936.\n"
     ]
    },
    {
     "name": "stdout",
     "output_type": "stream",
     "text": [
      "[LightGBM] [Warning] num_threads is set=6, n_jobs=-1 will be ignored. Current value: num_threads=6\n",
      "[LightGBM] [Warning] num_threads is set=6, n_jobs=-1 will be ignored. Current value: num_threads=6\n",
      "[LightGBM] [Warning] num_threads is set=6, n_jobs=-1 will be ignored. Current value: num_threads=6\n",
      "[LightGBM] [Warning] num_threads is set=6, n_jobs=-1 will be ignored. Current value: num_threads=6\n",
      "[LightGBM] [Warning] num_threads is set=6, n_jobs=-1 will be ignored. Current value: num_threads=6\n"
     ]
    },
    {
     "name": "stderr",
     "output_type": "stream",
     "text": [
      "[I 2023-11-12 08:14:19,508] Trial 58 finished with value: 0.6870879651684995 and parameters: {'n_estimators': 500, 'learning_rate': 0.2552372109978243, 'min_split_gain': 0.035611754153855875, 'max_depth': 10, 'max_cat_threshold': 128, 'cat_l2': 49.18209189309184}. Best is trial 31 with value: 0.6908604431032936.\n"
     ]
    },
    {
     "name": "stdout",
     "output_type": "stream",
     "text": [
      "[LightGBM] [Warning] num_threads is set=6, n_jobs=-1 will be ignored. Current value: num_threads=6\n",
      "[LightGBM] [Warning] num_threads is set=6, n_jobs=-1 will be ignored. Current value: num_threads=6\n",
      "[LightGBM] [Warning] num_threads is set=6, n_jobs=-1 will be ignored. Current value: num_threads=6\n",
      "[LightGBM] [Warning] num_threads is set=6, n_jobs=-1 will be ignored. Current value: num_threads=6\n",
      "[LightGBM] [Warning] num_threads is set=6, n_jobs=-1 will be ignored. Current value: num_threads=6\n"
     ]
    },
    {
     "name": "stderr",
     "output_type": "stream",
     "text": [
      "[I 2023-11-12 08:14:32,597] Trial 59 finished with value: 0.6246958621354206 and parameters: {'n_estimators': 500, 'learning_rate': 0.21169794470823253, 'min_split_gain': 0.044813256928213696, 'max_depth': 3, 'max_cat_threshold': 32, 'cat_l2': 59.73437816558882}. Best is trial 31 with value: 0.6908604431032936.\n"
     ]
    },
    {
     "name": "stdout",
     "output_type": "stream",
     "text": [
      "[LightGBM] [Warning] num_threads is set=6, n_jobs=-1 will be ignored. Current value: num_threads=6\n",
      "[LightGBM] [Warning] num_threads is set=6, n_jobs=-1 will be ignored. Current value: num_threads=6\n",
      "[LightGBM] [Warning] num_threads is set=6, n_jobs=-1 will be ignored. Current value: num_threads=6\n",
      "[LightGBM] [Warning] num_threads is set=6, n_jobs=-1 will be ignored. Current value: num_threads=6\n",
      "[LightGBM] [Warning] num_threads is set=6, n_jobs=-1 will be ignored. Current value: num_threads=6\n"
     ]
    },
    {
     "name": "stderr",
     "output_type": "stream",
     "text": [
      "[I 2023-11-12 08:14:54,063] Trial 60 finished with value: 0.6838698695179044 and parameters: {'n_estimators': 500, 'learning_rate': 0.22576546461823302, 'min_split_gain': 0.019466482706143963, 'max_depth': 10, 'max_cat_threshold': 128, 'cat_l2': 42.737716775235825}. Best is trial 31 with value: 0.6908604431032936.\n"
     ]
    },
    {
     "name": "stdout",
     "output_type": "stream",
     "text": [
      "[LightGBM] [Warning] num_threads is set=6, n_jobs=-1 will be ignored. Current value: num_threads=6\n",
      "[LightGBM] [Warning] num_threads is set=6, n_jobs=-1 will be ignored. Current value: num_threads=6\n",
      "[LightGBM] [Warning] num_threads is set=6, n_jobs=-1 will be ignored. Current value: num_threads=6\n",
      "[LightGBM] [Warning] num_threads is set=6, n_jobs=-1 will be ignored. Current value: num_threads=6\n",
      "[LightGBM] [Warning] num_threads is set=6, n_jobs=-1 will be ignored. Current value: num_threads=6\n"
     ]
    },
    {
     "name": "stderr",
     "output_type": "stream",
     "text": [
      "[I 2023-11-12 08:15:14,772] Trial 61 finished with value: 0.6890726944371459 and parameters: {'n_estimators': 500, 'learning_rate': 0.2254252911931832, 'min_split_gain': 0.033889540314170116, 'max_depth': 10, 'max_cat_threshold': 32, 'cat_l2': 47.80815785855845}. Best is trial 31 with value: 0.6908604431032936.\n"
     ]
    },
    {
     "name": "stdout",
     "output_type": "stream",
     "text": [
      "[LightGBM] [Warning] num_threads is set=6, n_jobs=-1 will be ignored. Current value: num_threads=6\n",
      "[LightGBM] [Warning] num_threads is set=6, n_jobs=-1 will be ignored. Current value: num_threads=6\n",
      "[LightGBM] [Warning] num_threads is set=6, n_jobs=-1 will be ignored. Current value: num_threads=6\n",
      "[LightGBM] [Warning] num_threads is set=6, n_jobs=-1 will be ignored. Current value: num_threads=6\n",
      "[LightGBM] [Warning] num_threads is set=6, n_jobs=-1 will be ignored. Current value: num_threads=6\n"
     ]
    },
    {
     "name": "stderr",
     "output_type": "stream",
     "text": [
      "[I 2023-11-12 08:15:34,802] Trial 62 finished with value: 0.6875382221867425 and parameters: {'n_estimators': 500, 'learning_rate': 0.23949808302033038, 'min_split_gain': 0.03283951796337265, 'max_depth': 10, 'max_cat_threshold': 32, 'cat_l2': 45.43143860168316}. Best is trial 31 with value: 0.6908604431032936.\n"
     ]
    },
    {
     "name": "stdout",
     "output_type": "stream",
     "text": [
      "[LightGBM] [Warning] num_threads is set=6, n_jobs=-1 will be ignored. Current value: num_threads=6\n",
      "[LightGBM] [Warning] num_threads is set=6, n_jobs=-1 will be ignored. Current value: num_threads=6\n",
      "[LightGBM] [Warning] num_threads is set=6, n_jobs=-1 will be ignored. Current value: num_threads=6\n",
      "[LightGBM] [Warning] num_threads is set=6, n_jobs=-1 will be ignored. Current value: num_threads=6\n",
      "[LightGBM] [Warning] num_threads is set=6, n_jobs=-1 will be ignored. Current value: num_threads=6\n"
     ]
    },
    {
     "name": "stderr",
     "output_type": "stream",
     "text": [
      "[I 2023-11-12 08:15:55,164] Trial 63 finished with value: 0.68777687575231 and parameters: {'n_estimators': 500, 'learning_rate': 0.22796153439126915, 'min_split_gain': 0.04155398765340046, 'max_depth': 10, 'max_cat_threshold': 32, 'cat_l2': 55.507373601141}. Best is trial 31 with value: 0.6908604431032936.\n"
     ]
    },
    {
     "name": "stdout",
     "output_type": "stream",
     "text": [
      "[LightGBM] [Warning] num_threads is set=6, n_jobs=-1 will be ignored. Current value: num_threads=6\n",
      "[LightGBM] [Warning] num_threads is set=6, n_jobs=-1 will be ignored. Current value: num_threads=6\n",
      "[LightGBM] [Warning] num_threads is set=6, n_jobs=-1 will be ignored. Current value: num_threads=6\n",
      "[LightGBM] [Warning] num_threads is set=6, n_jobs=-1 will be ignored. Current value: num_threads=6\n",
      "[LightGBM] [Warning] num_threads is set=6, n_jobs=-1 will be ignored. Current value: num_threads=6\n"
     ]
    },
    {
     "name": "stderr",
     "output_type": "stream",
     "text": [
      "[I 2023-11-12 08:16:15,423] Trial 64 finished with value: 0.6884398910756395 and parameters: {'n_estimators': 500, 'learning_rate': 0.26270849426482606, 'min_split_gain': 0.028289323238869363, 'max_depth': 10, 'max_cat_threshold': 32, 'cat_l2': 55.84510304025694}. Best is trial 31 with value: 0.6908604431032936.\n"
     ]
    },
    {
     "name": "stdout",
     "output_type": "stream",
     "text": [
      "[LightGBM] [Warning] num_threads is set=6, n_jobs=-1 will be ignored. Current value: num_threads=6\n",
      "[LightGBM] [Warning] num_threads is set=6, n_jobs=-1 will be ignored. Current value: num_threads=6\n",
      "[LightGBM] [Warning] num_threads is set=6, n_jobs=-1 will be ignored. Current value: num_threads=6\n",
      "[LightGBM] [Warning] num_threads is set=6, n_jobs=-1 will be ignored. Current value: num_threads=6\n",
      "[LightGBM] [Warning] num_threads is set=6, n_jobs=-1 will be ignored. Current value: num_threads=6\n"
     ]
    },
    {
     "name": "stderr",
     "output_type": "stream",
     "text": [
      "[I 2023-11-12 08:16:34,953] Trial 65 finished with value: 0.6831991903238717 and parameters: {'n_estimators': 500, 'learning_rate': 0.2652615636413784, 'min_split_gain': 0.02778458463458888, 'max_depth': 5, 'max_cat_threshold': 32, 'cat_l2': 51.92029926018643}. Best is trial 31 with value: 0.6908604431032936.\n"
     ]
    },
    {
     "name": "stdout",
     "output_type": "stream",
     "text": [
      "[LightGBM] [Warning] num_threads is set=6, n_jobs=-1 will be ignored. Current value: num_threads=6\n",
      "[LightGBM] [Warning] num_threads is set=6, n_jobs=-1 will be ignored. Current value: num_threads=6\n",
      "[LightGBM] [Warning] num_threads is set=6, n_jobs=-1 will be ignored. Current value: num_threads=6\n",
      "[LightGBM] [Warning] num_threads is set=6, n_jobs=-1 will be ignored. Current value: num_threads=6\n",
      "[LightGBM] [Warning] num_threads is set=6, n_jobs=-1 will be ignored. Current value: num_threads=6\n"
     ]
    },
    {
     "name": "stderr",
     "output_type": "stream",
     "text": [
      "[I 2023-11-12 08:16:55,440] Trial 66 finished with value: 0.6691687010471652 and parameters: {'n_estimators': 500, 'learning_rate': 0.2873595331546329, 'min_split_gain': 0.02421493309308701, 'max_depth': -1, 'max_cat_threshold': 32, 'cat_l2': 58.40866743025603}. Best is trial 31 with value: 0.6908604431032936.\n"
     ]
    },
    {
     "name": "stdout",
     "output_type": "stream",
     "text": [
      "[LightGBM] [Warning] num_threads is set=6, n_jobs=-1 will be ignored. Current value: num_threads=6\n",
      "[LightGBM] [Warning] num_threads is set=6, n_jobs=-1 will be ignored. Current value: num_threads=6\n",
      "[LightGBM] [Warning] num_threads is set=6, n_jobs=-1 will be ignored. Current value: num_threads=6\n",
      "[LightGBM] [Warning] num_threads is set=6, n_jobs=-1 will be ignored. Current value: num_threads=6\n",
      "[LightGBM] [Warning] num_threads is set=6, n_jobs=-1 will be ignored. Current value: num_threads=6\n"
     ]
    },
    {
     "name": "stderr",
     "output_type": "stream",
     "text": [
      "[I 2023-11-12 08:17:15,516] Trial 67 finished with value: 0.689001962538061 and parameters: {'n_estimators': 500, 'learning_rate': 0.24982572609502535, 'min_split_gain': 0.028390983718812837, 'max_depth': 10, 'max_cat_threshold': 32, 'cat_l2': 49.428529443848134}. Best is trial 31 with value: 0.6908604431032936.\n"
     ]
    },
    {
     "name": "stdout",
     "output_type": "stream",
     "text": [
      "[LightGBM] [Warning] num_threads is set=6, n_jobs=-1 will be ignored. Current value: num_threads=6\n",
      "[LightGBM] [Warning] num_threads is set=6, n_jobs=-1 will be ignored. Current value: num_threads=6\n",
      "[LightGBM] [Warning] num_threads is set=6, n_jobs=-1 will be ignored. Current value: num_threads=6\n",
      "[LightGBM] [Warning] num_threads is set=6, n_jobs=-1 will be ignored. Current value: num_threads=6\n",
      "[LightGBM] [Warning] num_threads is set=6, n_jobs=-1 will be ignored. Current value: num_threads=6\n"
     ]
    },
    {
     "name": "stderr",
     "output_type": "stream",
     "text": [
      "[I 2023-11-12 08:17:35,837] Trial 68 finished with value: 0.6882819831066217 and parameters: {'n_estimators': 500, 'learning_rate': 0.2511841039468706, 'min_split_gain': 0.03670654256701842, 'max_depth': 8, 'max_cat_threshold': 32, 'cat_l2': 48.93797049374438}. Best is trial 31 with value: 0.6908604431032936.\n"
     ]
    },
    {
     "name": "stdout",
     "output_type": "stream",
     "text": [
      "[LightGBM] [Warning] num_threads is set=6, n_jobs=-1 will be ignored. Current value: num_threads=6\n",
      "[LightGBM] [Warning] num_threads is set=6, n_jobs=-1 will be ignored. Current value: num_threads=6\n",
      "[LightGBM] [Warning] num_threads is set=6, n_jobs=-1 will be ignored. Current value: num_threads=6\n",
      "[LightGBM] [Warning] num_threads is set=6, n_jobs=-1 will be ignored. Current value: num_threads=6\n",
      "[LightGBM] [Warning] num_threads is set=6, n_jobs=-1 will be ignored. Current value: num_threads=6\n"
     ]
    },
    {
     "name": "stderr",
     "output_type": "stream",
     "text": [
      "[I 2023-11-12 08:17:55,940] Trial 69 finished with value: 0.6900588543139661 and parameters: {'n_estimators': 500, 'learning_rate': 0.2399922188126666, 'min_split_gain': 0.028885630081828897, 'max_depth': 10, 'max_cat_threshold': 32, 'cat_l2': 40.90237389807658}. Best is trial 31 with value: 0.6908604431032936.\n"
     ]
    },
    {
     "name": "stdout",
     "output_type": "stream",
     "text": [
      "[LightGBM] [Warning] num_threads is set=6, n_jobs=-1 will be ignored. Current value: num_threads=6\n",
      "[LightGBM] [Warning] num_threads is set=6, n_jobs=-1 will be ignored. Current value: num_threads=6\n",
      "[LightGBM] [Warning] num_threads is set=6, n_jobs=-1 will be ignored. Current value: num_threads=6\n",
      "[LightGBM] [Warning] num_threads is set=6, n_jobs=-1 will be ignored. Current value: num_threads=6\n",
      "[LightGBM] [Warning] num_threads is set=6, n_jobs=-1 will be ignored. Current value: num_threads=6\n"
     ]
    },
    {
     "name": "stderr",
     "output_type": "stream",
     "text": [
      "[I 2023-11-12 08:18:15,893] Trial 70 finished with value: 0.6860018214576069 and parameters: {'n_estimators': 500, 'learning_rate': 0.24257404117723202, 'min_split_gain': 0.03011226072914755, 'max_depth': 10, 'max_cat_threshold': 32, 'cat_l2': 35.58907701211593}. Best is trial 31 with value: 0.6908604431032936.\n"
     ]
    },
    {
     "name": "stdout",
     "output_type": "stream",
     "text": [
      "[LightGBM] [Warning] num_threads is set=6, n_jobs=-1 will be ignored. Current value: num_threads=6\n",
      "[LightGBM] [Warning] num_threads is set=6, n_jobs=-1 will be ignored. Current value: num_threads=6\n",
      "[LightGBM] [Warning] num_threads is set=6, n_jobs=-1 will be ignored. Current value: num_threads=6\n",
      "[LightGBM] [Warning] num_threads is set=6, n_jobs=-1 will be ignored. Current value: num_threads=6\n",
      "[LightGBM] [Warning] num_threads is set=6, n_jobs=-1 will be ignored. Current value: num_threads=6\n"
     ]
    },
    {
     "name": "stderr",
     "output_type": "stream",
     "text": [
      "[I 2023-11-12 08:18:35,692] Trial 71 finished with value: 0.6882547226083615 and parameters: {'n_estimators': 500, 'learning_rate': 0.25773113186662594, 'min_split_gain': 0.03309474796663936, 'max_depth': 10, 'max_cat_threshold': 32, 'cat_l2': 46.330390941101314}. Best is trial 31 with value: 0.6908604431032936.\n"
     ]
    },
    {
     "name": "stdout",
     "output_type": "stream",
     "text": [
      "[LightGBM] [Warning] num_threads is set=6, n_jobs=-1 will be ignored. Current value: num_threads=6\n",
      "[LightGBM] [Warning] num_threads is set=6, n_jobs=-1 will be ignored. Current value: num_threads=6\n",
      "[LightGBM] [Warning] num_threads is set=6, n_jobs=-1 will be ignored. Current value: num_threads=6\n",
      "[LightGBM] [Warning] num_threads is set=6, n_jobs=-1 will be ignored. Current value: num_threads=6\n",
      "[LightGBM] [Warning] num_threads is set=6, n_jobs=-1 will be ignored. Current value: num_threads=6\n"
     ]
    },
    {
     "name": "stderr",
     "output_type": "stream",
     "text": [
      "[I 2023-11-12 08:18:55,296] Trial 72 finished with value: 0.6873509434473166 and parameters: {'n_estimators': 500, 'learning_rate': 0.27403639116951295, 'min_split_gain': 0.02799631731259533, 'max_depth': 10, 'max_cat_threshold': 32, 'cat_l2': 40.21887889296812}. Best is trial 31 with value: 0.6908604431032936.\n"
     ]
    },
    {
     "name": "stdout",
     "output_type": "stream",
     "text": [
      "[LightGBM] [Warning] num_threads is set=6, n_jobs=-1 will be ignored. Current value: num_threads=6\n",
      "[LightGBM] [Warning] num_threads is set=6, n_jobs=-1 will be ignored. Current value: num_threads=6\n",
      "[LightGBM] [Warning] num_threads is set=6, n_jobs=-1 will be ignored. Current value: num_threads=6\n",
      "[LightGBM] [Warning] num_threads is set=6, n_jobs=-1 will be ignored. Current value: num_threads=6\n",
      "[LightGBM] [Warning] num_threads is set=6, n_jobs=-1 will be ignored. Current value: num_threads=6\n"
     ]
    },
    {
     "name": "stderr",
     "output_type": "stream",
     "text": [
      "[I 2023-11-12 08:19:14,943] Trial 73 finished with value: 0.6871444347774278 and parameters: {'n_estimators': 500, 'learning_rate': 0.23806752764245073, 'min_split_gain': 0.021224397184882008, 'max_depth': 10, 'max_cat_threshold': 32, 'cat_l2': 43.934588310375446}. Best is trial 31 with value: 0.6908604431032936.\n"
     ]
    },
    {
     "name": "stdout",
     "output_type": "stream",
     "text": [
      "[LightGBM] [Warning] num_threads is set=6, n_jobs=-1 will be ignored. Current value: num_threads=6\n",
      "[LightGBM] [Warning] num_threads is set=6, n_jobs=-1 will be ignored. Current value: num_threads=6\n",
      "[LightGBM] [Warning] num_threads is set=6, n_jobs=-1 will be ignored. Current value: num_threads=6\n",
      "[LightGBM] [Warning] num_threads is set=6, n_jobs=-1 will be ignored. Current value: num_threads=6\n",
      "[LightGBM] [Warning] num_threads is set=6, n_jobs=-1 will be ignored. Current value: num_threads=6\n"
     ]
    },
    {
     "name": "stderr",
     "output_type": "stream",
     "text": [
      "[I 2023-11-12 08:19:34,537] Trial 74 finished with value: 0.6887672140015644 and parameters: {'n_estimators': 500, 'learning_rate': 0.21892128848636672, 'min_split_gain': 0.03801286735873887, 'max_depth': 10, 'max_cat_threshold': 32, 'cat_l2': 54.4609261815213}. Best is trial 31 with value: 0.6908604431032936.\n"
     ]
    },
    {
     "name": "stdout",
     "output_type": "stream",
     "text": [
      "[LightGBM] [Warning] num_threads is set=6, n_jobs=-1 will be ignored. Current value: num_threads=6\n",
      "[LightGBM] [Warning] num_threads is set=6, n_jobs=-1 will be ignored. Current value: num_threads=6\n",
      "[LightGBM] [Warning] num_threads is set=6, n_jobs=-1 will be ignored. Current value: num_threads=6\n",
      "[LightGBM] [Warning] num_threads is set=6, n_jobs=-1 will be ignored. Current value: num_threads=6\n",
      "[LightGBM] [Warning] num_threads is set=6, n_jobs=-1 will be ignored. Current value: num_threads=6\n"
     ]
    },
    {
     "name": "stderr",
     "output_type": "stream",
     "text": [
      "[I 2023-11-12 08:19:54,448] Trial 75 finished with value: 0.6866697593777125 and parameters: {'n_estimators': 500, 'learning_rate': 0.22987966414697378, 'min_split_gain': 0.03799102676781065, 'max_depth': 10, 'max_cat_threshold': 32, 'cat_l2': 49.77830324712888}. Best is trial 31 with value: 0.6908604431032936.\n"
     ]
    },
    {
     "name": "stdout",
     "output_type": "stream",
     "text": [
      "[LightGBM] [Warning] num_threads is set=6, n_jobs=-1 will be ignored. Current value: num_threads=6\n",
      "[LightGBM] [Warning] num_threads is set=6, n_jobs=-1 will be ignored. Current value: num_threads=6\n",
      "[LightGBM] [Warning] num_threads is set=6, n_jobs=-1 will be ignored. Current value: num_threads=6\n",
      "[LightGBM] [Warning] num_threads is set=6, n_jobs=-1 will be ignored. Current value: num_threads=6\n",
      "[LightGBM] [Warning] num_threads is set=6, n_jobs=-1 will be ignored. Current value: num_threads=6\n"
     ]
    },
    {
     "name": "stderr",
     "output_type": "stream",
     "text": [
      "[I 2023-11-12 08:20:14,304] Trial 76 finished with value: 0.685071573765684 and parameters: {'n_estimators': 500, 'learning_rate': 0.21908875892284543, 'min_split_gain': 0.035317972374839496, 'max_depth': 6, 'max_cat_threshold': 32, 'cat_l2': 52.15649981666092}. Best is trial 31 with value: 0.6908604431032936.\n"
     ]
    },
    {
     "name": "stdout",
     "output_type": "stream",
     "text": [
      "[LightGBM] [Warning] num_threads is set=6, n_jobs=-1 will be ignored. Current value: num_threads=6\n",
      "[LightGBM] [Warning] num_threads is set=6, n_jobs=-1 will be ignored. Current value: num_threads=6\n",
      "[LightGBM] [Warning] num_threads is set=6, n_jobs=-1 will be ignored. Current value: num_threads=6\n",
      "[LightGBM] [Warning] num_threads is set=6, n_jobs=-1 will be ignored. Current value: num_threads=6\n",
      "[LightGBM] [Warning] num_threads is set=6, n_jobs=-1 will be ignored. Current value: num_threads=6\n"
     ]
    },
    {
     "name": "stderr",
     "output_type": "stream",
     "text": [
      "[I 2023-11-12 08:20:34,620] Trial 77 finished with value: 0.6870646289451706 and parameters: {'n_estimators': 500, 'learning_rate': 0.2011011320026631, 'min_split_gain': 0.0327480885017443, 'max_depth': 10, 'max_cat_threshold': 32, 'cat_l2': 40.79931283864566}. Best is trial 31 with value: 0.6908604431032936.\n"
     ]
    },
    {
     "name": "stdout",
     "output_type": "stream",
     "text": [
      "[LightGBM] [Warning] num_threads is set=6, n_jobs=-1 will be ignored. Current value: num_threads=6\n",
      "[LightGBM] [Warning] num_threads is set=6, n_jobs=-1 will be ignored. Current value: num_threads=6\n",
      "[LightGBM] [Warning] num_threads is set=6, n_jobs=-1 will be ignored. Current value: num_threads=6\n",
      "[LightGBM] [Warning] num_threads is set=6, n_jobs=-1 will be ignored. Current value: num_threads=6\n",
      "[LightGBM] [Warning] num_threads is set=6, n_jobs=-1 will be ignored. Current value: num_threads=6\n"
     ]
    },
    {
     "name": "stderr",
     "output_type": "stream",
     "text": [
      "[I 2023-11-12 08:20:55,307] Trial 78 finished with value: 0.6727022345418903 and parameters: {'n_estimators': 500, 'learning_rate': 0.21424566299721892, 'min_split_gain': 0.04011040562785125, 'max_depth': 8, 'max_cat_threshold': 8, 'cat_l2': 47.7758009638346}. Best is trial 31 with value: 0.6908604431032936.\n"
     ]
    },
    {
     "name": "stdout",
     "output_type": "stream",
     "text": [
      "[LightGBM] [Warning] num_threads is set=6, n_jobs=-1 will be ignored. Current value: num_threads=6\n",
      "[LightGBM] [Warning] num_threads is set=6, n_jobs=-1 will be ignored. Current value: num_threads=6\n",
      "[LightGBM] [Warning] num_threads is set=6, n_jobs=-1 will be ignored. Current value: num_threads=6\n",
      "[LightGBM] [Warning] num_threads is set=6, n_jobs=-1 will be ignored. Current value: num_threads=6\n",
      "[LightGBM] [Warning] num_threads is set=6, n_jobs=-1 will be ignored. Current value: num_threads=6\n"
     ]
    },
    {
     "name": "stderr",
     "output_type": "stream",
     "text": [
      "[I 2023-11-12 08:21:16,396] Trial 79 finished with value: 0.6851011539545164 and parameters: {'n_estimators': 500, 'learning_rate': 0.2497142460869285, 'min_split_gain': 0.03647413965834458, 'max_depth': -1, 'max_cat_threshold': 16, 'cat_l2': 36.55047947728208}. Best is trial 31 with value: 0.6908604431032936.\n"
     ]
    },
    {
     "name": "stdout",
     "output_type": "stream",
     "text": [
      "[LightGBM] [Warning] num_threads is set=6, n_jobs=-1 will be ignored. Current value: num_threads=6\n",
      "[LightGBM] [Warning] num_threads is set=6, n_jobs=-1 will be ignored. Current value: num_threads=6\n",
      "[LightGBM] [Warning] num_threads is set=6, n_jobs=-1 will be ignored. Current value: num_threads=6\n",
      "[LightGBM] [Warning] num_threads is set=6, n_jobs=-1 will be ignored. Current value: num_threads=6\n",
      "[LightGBM] [Warning] num_threads is set=6, n_jobs=-1 will be ignored. Current value: num_threads=6\n"
     ]
    },
    {
     "name": "stderr",
     "output_type": "stream",
     "text": [
      "[I 2023-11-12 08:21:32,265] Trial 80 finished with value: 0.6660251246882829 and parameters: {'n_estimators': 500, 'learning_rate': 0.23761502391676564, 'min_split_gain': 0.04315390970424694, 'max_depth': 4, 'max_cat_threshold': 64, 'cat_l2': 43.80775100403931}. Best is trial 31 with value: 0.6908604431032936.\n"
     ]
    },
    {
     "name": "stdout",
     "output_type": "stream",
     "text": [
      "[LightGBM] [Warning] num_threads is set=6, n_jobs=-1 will be ignored. Current value: num_threads=6\n",
      "[LightGBM] [Warning] num_threads is set=6, n_jobs=-1 will be ignored. Current value: num_threads=6\n",
      "[LightGBM] [Warning] num_threads is set=6, n_jobs=-1 will be ignored. Current value: num_threads=6\n",
      "[LightGBM] [Warning] num_threads is set=6, n_jobs=-1 will be ignored. Current value: num_threads=6\n",
      "[LightGBM] [Warning] num_threads is set=6, n_jobs=-1 will be ignored. Current value: num_threads=6\n"
     ]
    },
    {
     "name": "stderr",
     "output_type": "stream",
     "text": [
      "[I 2023-11-12 08:21:52,551] Trial 81 finished with value: 0.6872810042687784 and parameters: {'n_estimators': 500, 'learning_rate': 0.2291409655820343, 'min_split_gain': 0.02860359049807236, 'max_depth': 10, 'max_cat_threshold': 32, 'cat_l2': 55.07193464842077}. Best is trial 31 with value: 0.6908604431032936.\n"
     ]
    },
    {
     "name": "stdout",
     "output_type": "stream",
     "text": [
      "[LightGBM] [Warning] num_threads is set=6, n_jobs=-1 will be ignored. Current value: num_threads=6\n",
      "[LightGBM] [Warning] num_threads is set=6, n_jobs=-1 will be ignored. Current value: num_threads=6\n",
      "[LightGBM] [Warning] num_threads is set=6, n_jobs=-1 will be ignored. Current value: num_threads=6\n",
      "[LightGBM] [Warning] num_threads is set=6, n_jobs=-1 will be ignored. Current value: num_threads=6\n",
      "[LightGBM] [Warning] num_threads is set=6, n_jobs=-1 will be ignored. Current value: num_threads=6\n"
     ]
    },
    {
     "name": "stderr",
     "output_type": "stream",
     "text": [
      "[I 2023-11-12 08:22:12,626] Trial 82 finished with value: 0.6833095638262108 and parameters: {'n_estimators': 500, 'learning_rate': 0.2587821870656838, 'min_split_gain': 0.025457271353127902, 'max_depth': 10, 'max_cat_threshold': 32, 'cat_l2': 54.03121056407595}. Best is trial 31 with value: 0.6908604431032936.\n"
     ]
    },
    {
     "name": "stdout",
     "output_type": "stream",
     "text": [
      "[LightGBM] [Warning] num_threads is set=6, n_jobs=-1 will be ignored. Current value: num_threads=6\n",
      "[LightGBM] [Warning] num_threads is set=6, n_jobs=-1 will be ignored. Current value: num_threads=6\n",
      "[LightGBM] [Warning] num_threads is set=6, n_jobs=-1 will be ignored. Current value: num_threads=6\n",
      "[LightGBM] [Warning] num_threads is set=6, n_jobs=-1 will be ignored. Current value: num_threads=6\n",
      "[LightGBM] [Warning] num_threads is set=6, n_jobs=-1 will be ignored. Current value: num_threads=6\n"
     ]
    },
    {
     "name": "stderr",
     "output_type": "stream",
     "text": [
      "[I 2023-11-12 08:22:32,213] Trial 83 finished with value: 0.6858704511218432 and parameters: {'n_estimators': 500, 'learning_rate': 0.24529907600948683, 'min_split_gain': 0.03138935156517045, 'max_depth': 10, 'max_cat_threshold': 32, 'cat_l2': 50.334511769826}. Best is trial 31 with value: 0.6908604431032936.\n"
     ]
    },
    {
     "name": "stdout",
     "output_type": "stream",
     "text": [
      "[LightGBM] [Warning] num_threads is set=6, n_jobs=-1 will be ignored. Current value: num_threads=6\n",
      "[LightGBM] [Warning] num_threads is set=6, n_jobs=-1 will be ignored. Current value: num_threads=6\n",
      "[LightGBM] [Warning] num_threads is set=6, n_jobs=-1 will be ignored. Current value: num_threads=6\n",
      "[LightGBM] [Warning] num_threads is set=6, n_jobs=-1 will be ignored. Current value: num_threads=6\n",
      "[LightGBM] [Warning] num_threads is set=6, n_jobs=-1 will be ignored. Current value: num_threads=6\n"
     ]
    },
    {
     "name": "stderr",
     "output_type": "stream",
     "text": [
      "[I 2023-11-12 08:22:51,892] Trial 84 finished with value: 0.6890096739824143 and parameters: {'n_estimators': 500, 'learning_rate': 0.2712083045394424, 'min_split_gain': 0.028802642055411463, 'max_depth': 10, 'max_cat_threshold': 32, 'cat_l2': 56.821912025413084}. Best is trial 31 with value: 0.6908604431032936.\n"
     ]
    },
    {
     "name": "stdout",
     "output_type": "stream",
     "text": [
      "[LightGBM] [Warning] num_threads is set=6, n_jobs=-1 will be ignored. Current value: num_threads=6\n",
      "[LightGBM] [Warning] num_threads is set=6, n_jobs=-1 will be ignored. Current value: num_threads=6\n",
      "[LightGBM] [Warning] num_threads is set=6, n_jobs=-1 will be ignored. Current value: num_threads=6\n",
      "[LightGBM] [Warning] num_threads is set=6, n_jobs=-1 will be ignored. Current value: num_threads=6\n",
      "[LightGBM] [Warning] num_threads is set=6, n_jobs=-1 will be ignored. Current value: num_threads=6\n"
     ]
    },
    {
     "name": "stderr",
     "output_type": "stream",
     "text": [
      "[I 2023-11-12 08:23:11,359] Trial 85 finished with value: 0.6850388174782395 and parameters: {'n_estimators': 500, 'learning_rate': 0.22249693558832812, 'min_split_gain': 0.023928406853461308, 'max_depth': 10, 'max_cat_threshold': 32, 'cat_l2': 45.46155257300546}. Best is trial 31 with value: 0.6908604431032936.\n"
     ]
    },
    {
     "name": "stdout",
     "output_type": "stream",
     "text": [
      "[LightGBM] [Warning] num_threads is set=6, n_jobs=-1 will be ignored. Current value: num_threads=6\n",
      "[LightGBM] [Warning] num_threads is set=6, n_jobs=-1 will be ignored. Current value: num_threads=6\n",
      "[LightGBM] [Warning] num_threads is set=6, n_jobs=-1 will be ignored. Current value: num_threads=6\n",
      "[LightGBM] [Warning] num_threads is set=6, n_jobs=-1 will be ignored. Current value: num_threads=6\n",
      "[LightGBM] [Warning] num_threads is set=6, n_jobs=-1 will be ignored. Current value: num_threads=6\n"
     ]
    },
    {
     "name": "stderr",
     "output_type": "stream",
     "text": [
      "[I 2023-11-12 08:23:24,354] Trial 86 finished with value: 0.6252850090710655 and parameters: {'n_estimators': 500, 'learning_rate': 0.206363334952048, 'min_split_gain': 0.0340967331014372, 'max_depth': 3, 'max_cat_threshold': 32, 'cat_l2': 47.899955478089836}. Best is trial 31 with value: 0.6908604431032936.\n"
     ]
    },
    {
     "name": "stdout",
     "output_type": "stream",
     "text": [
      "[LightGBM] [Warning] num_threads is set=6, n_jobs=-1 will be ignored. Current value: num_threads=6\n",
      "[LightGBM] [Warning] num_threads is set=6, n_jobs=-1 will be ignored. Current value: num_threads=6\n",
      "[LightGBM] [Warning] num_threads is set=6, n_jobs=-1 will be ignored. Current value: num_threads=6\n",
      "[LightGBM] [Warning] num_threads is set=6, n_jobs=-1 will be ignored. Current value: num_threads=6\n",
      "[LightGBM] [Warning] num_threads is set=6, n_jobs=-1 will be ignored. Current value: num_threads=6\n"
     ]
    },
    {
     "name": "stderr",
     "output_type": "stream",
     "text": [
      "[I 2023-11-12 08:23:44,352] Trial 87 finished with value: 0.6843998569078256 and parameters: {'n_estimators': 500, 'learning_rate': 0.27709193848636127, 'min_split_gain': 0.031282583776497515, 'max_depth': 10, 'max_cat_threshold': 64, 'cat_l2': 52.907085080155696}. Best is trial 31 with value: 0.6908604431032936.\n"
     ]
    },
    {
     "name": "stdout",
     "output_type": "stream",
     "text": [
      "[LightGBM] [Warning] num_threads is set=6, n_jobs=-1 will be ignored. Current value: num_threads=6\n",
      "[LightGBM] [Warning] num_threads is set=6, n_jobs=-1 will be ignored. Current value: num_threads=6\n",
      "[LightGBM] [Warning] num_threads is set=6, n_jobs=-1 will be ignored. Current value: num_threads=6\n",
      "[LightGBM] [Warning] num_threads is set=6, n_jobs=-1 will be ignored. Current value: num_threads=6\n",
      "[LightGBM] [Warning] num_threads is set=6, n_jobs=-1 will be ignored. Current value: num_threads=6\n"
     ]
    },
    {
     "name": "stderr",
     "output_type": "stream",
     "text": [
      "[I 2023-11-12 08:24:03,182] Trial 88 finished with value: 0.6783074742883776 and parameters: {'n_estimators': 500, 'learning_rate': 0.23778628667105395, 'min_split_gain': 0.03863277641214161, 'max_depth': 5, 'max_cat_threshold': 32, 'cat_l2': 60.726914347843845}. Best is trial 31 with value: 0.6908604431032936.\n"
     ]
    },
    {
     "name": "stdout",
     "output_type": "stream",
     "text": [
      "[LightGBM] [Warning] num_threads is set=6, n_jobs=-1 will be ignored. Current value: num_threads=6\n",
      "[LightGBM] [Warning] num_threads is set=6, n_jobs=-1 will be ignored. Current value: num_threads=6\n",
      "[LightGBM] [Warning] num_threads is set=6, n_jobs=-1 will be ignored. Current value: num_threads=6\n"
     ]
    },
    {
     "name": "stderr",
     "output_type": "stream",
     "text": [
      "[W 2023-11-12 08:24:15,286] Trial 89 failed with parameters: {'n_estimators': 500, 'learning_rate': 0.27093410663966183, 'min_split_gain': 0.035938970211483005, 'max_depth': 10, 'max_cat_threshold': 32, 'cat_l2': 40.637649698069765} because of the following error: KeyboardInterrupt().\n",
      "Traceback (most recent call last):\n",
      "  File \"C:\\Anaconda3\\lib\\site-packages\\optuna\\study\\_optimize.py\", line 200, in _run_trial\n",
      "    value_or_values = func(trial)\n",
      "  File \"C:\\Users\\Егор\\AppData\\Local\\Temp\\ipykernel_14824\\4251613687.py\", line 33, in objective\n",
      "    for ti, di in StratifiedKFold(n_splits=5, shuffle=True).split(X, y):\n",
      "  File \"C:\\Anaconda3\\lib\\site-packages\\sklearn\\model_selection\\_split.py\", line 352, in split\n",
      "    for train, test in super().split(X, y, groups):\n",
      "  File \"C:\\Anaconda3\\lib\\site-packages\\sklearn\\model_selection\\_split.py\", line 87, in split\n",
      "    test_index = indices[test_index]\n",
      "KeyboardInterrupt\n",
      "[W 2023-11-12 08:24:15,309] Trial 89 failed with value None.\n"
     ]
    },
    {
     "ename": "KeyboardInterrupt",
     "evalue": "",
     "output_type": "error",
     "traceback": [
      "\u001b[1;31m---------------------------------------------------------------------------\u001b[0m",
      "\u001b[1;31mKeyboardInterrupt\u001b[0m                         Traceback (most recent call last)",
      "Cell \u001b[1;32mIn[413], line 60\u001b[0m\n\u001b[0;32m     56\u001b[0m     \u001b[38;5;28;01mreturn\u001b[39;00m np\u001b[38;5;241m.\u001b[39mmean(cvr)\n\u001b[0;32m     59\u001b[0m study \u001b[38;5;241m=\u001b[39m optuna\u001b[38;5;241m.\u001b[39mcreate_study(direction\u001b[38;5;241m=\u001b[39m\u001b[38;5;124m\"\u001b[39m\u001b[38;5;124mmaximize\u001b[39m\u001b[38;5;124m\"\u001b[39m, study_name\u001b[38;5;241m=\u001b[39m\u001b[38;5;124m\"\u001b[39m\u001b[38;5;124mLGBM Classifier\u001b[39m\u001b[38;5;124m\"\u001b[39m)\n\u001b[1;32m---> 60\u001b[0m \u001b[43mstudy\u001b[49m\u001b[38;5;241;43m.\u001b[39;49m\u001b[43moptimize\u001b[49m\u001b[43m(\u001b[49m\u001b[43mobjective\u001b[49m\u001b[43m,\u001b[49m\u001b[43m \u001b[49m\u001b[43mn_trials\u001b[49m\u001b[38;5;241;43m=\u001b[39;49m\u001b[38;5;241;43m100\u001b[39;49m\u001b[43m)\u001b[49m\n",
      "File \u001b[1;32mC:\\Anaconda3\\lib\\site-packages\\optuna\\study\\study.py:451\u001b[0m, in \u001b[0;36mStudy.optimize\u001b[1;34m(self, func, n_trials, timeout, n_jobs, catch, callbacks, gc_after_trial, show_progress_bar)\u001b[0m\n\u001b[0;32m    348\u001b[0m \u001b[38;5;28;01mdef\u001b[39;00m \u001b[38;5;21moptimize\u001b[39m(\n\u001b[0;32m    349\u001b[0m     \u001b[38;5;28mself\u001b[39m,\n\u001b[0;32m    350\u001b[0m     func: ObjectiveFuncType,\n\u001b[1;32m   (...)\u001b[0m\n\u001b[0;32m    357\u001b[0m     show_progress_bar: \u001b[38;5;28mbool\u001b[39m \u001b[38;5;241m=\u001b[39m \u001b[38;5;28;01mFalse\u001b[39;00m,\n\u001b[0;32m    358\u001b[0m ) \u001b[38;5;241m-\u001b[39m\u001b[38;5;241m>\u001b[39m \u001b[38;5;28;01mNone\u001b[39;00m:\n\u001b[0;32m    359\u001b[0m \u001b[38;5;250m    \u001b[39m\u001b[38;5;124;03m\"\"\"Optimize an objective function.\u001b[39;00m\n\u001b[0;32m    360\u001b[0m \n\u001b[0;32m    361\u001b[0m \u001b[38;5;124;03m    Optimization is done by choosing a suitable set of hyperparameter values from a given\u001b[39;00m\n\u001b[1;32m   (...)\u001b[0m\n\u001b[0;32m    449\u001b[0m \u001b[38;5;124;03m            If nested invocation of this method occurs.\u001b[39;00m\n\u001b[0;32m    450\u001b[0m \u001b[38;5;124;03m    \"\"\"\u001b[39;00m\n\u001b[1;32m--> 451\u001b[0m     \u001b[43m_optimize\u001b[49m\u001b[43m(\u001b[49m\n\u001b[0;32m    452\u001b[0m \u001b[43m        \u001b[49m\u001b[43mstudy\u001b[49m\u001b[38;5;241;43m=\u001b[39;49m\u001b[38;5;28;43mself\u001b[39;49m\u001b[43m,\u001b[49m\n\u001b[0;32m    453\u001b[0m \u001b[43m        \u001b[49m\u001b[43mfunc\u001b[49m\u001b[38;5;241;43m=\u001b[39;49m\u001b[43mfunc\u001b[49m\u001b[43m,\u001b[49m\n\u001b[0;32m    454\u001b[0m \u001b[43m        \u001b[49m\u001b[43mn_trials\u001b[49m\u001b[38;5;241;43m=\u001b[39;49m\u001b[43mn_trials\u001b[49m\u001b[43m,\u001b[49m\n\u001b[0;32m    455\u001b[0m \u001b[43m        \u001b[49m\u001b[43mtimeout\u001b[49m\u001b[38;5;241;43m=\u001b[39;49m\u001b[43mtimeout\u001b[49m\u001b[43m,\u001b[49m\n\u001b[0;32m    456\u001b[0m \u001b[43m        \u001b[49m\u001b[43mn_jobs\u001b[49m\u001b[38;5;241;43m=\u001b[39;49m\u001b[43mn_jobs\u001b[49m\u001b[43m,\u001b[49m\n\u001b[0;32m    457\u001b[0m \u001b[43m        \u001b[49m\u001b[43mcatch\u001b[49m\u001b[38;5;241;43m=\u001b[39;49m\u001b[38;5;28;43mtuple\u001b[39;49m\u001b[43m(\u001b[49m\u001b[43mcatch\u001b[49m\u001b[43m)\u001b[49m\u001b[43m \u001b[49m\u001b[38;5;28;43;01mif\u001b[39;49;00m\u001b[43m \u001b[49m\u001b[38;5;28;43misinstance\u001b[39;49m\u001b[43m(\u001b[49m\u001b[43mcatch\u001b[49m\u001b[43m,\u001b[49m\u001b[43m \u001b[49m\u001b[43mIterable\u001b[49m\u001b[43m)\u001b[49m\u001b[43m \u001b[49m\u001b[38;5;28;43;01melse\u001b[39;49;00m\u001b[43m \u001b[49m\u001b[43m(\u001b[49m\u001b[43mcatch\u001b[49m\u001b[43m,\u001b[49m\u001b[43m)\u001b[49m\u001b[43m,\u001b[49m\n\u001b[0;32m    458\u001b[0m \u001b[43m        \u001b[49m\u001b[43mcallbacks\u001b[49m\u001b[38;5;241;43m=\u001b[39;49m\u001b[43mcallbacks\u001b[49m\u001b[43m,\u001b[49m\n\u001b[0;32m    459\u001b[0m \u001b[43m        \u001b[49m\u001b[43mgc_after_trial\u001b[49m\u001b[38;5;241;43m=\u001b[39;49m\u001b[43mgc_after_trial\u001b[49m\u001b[43m,\u001b[49m\n\u001b[0;32m    460\u001b[0m \u001b[43m        \u001b[49m\u001b[43mshow_progress_bar\u001b[49m\u001b[38;5;241;43m=\u001b[39;49m\u001b[43mshow_progress_bar\u001b[49m\u001b[43m,\u001b[49m\n\u001b[0;32m    461\u001b[0m \u001b[43m    \u001b[49m\u001b[43m)\u001b[49m\n",
      "File \u001b[1;32mC:\\Anaconda3\\lib\\site-packages\\optuna\\study\\_optimize.py:66\u001b[0m, in \u001b[0;36m_optimize\u001b[1;34m(study, func, n_trials, timeout, n_jobs, catch, callbacks, gc_after_trial, show_progress_bar)\u001b[0m\n\u001b[0;32m     64\u001b[0m \u001b[38;5;28;01mtry\u001b[39;00m:\n\u001b[0;32m     65\u001b[0m     \u001b[38;5;28;01mif\u001b[39;00m n_jobs \u001b[38;5;241m==\u001b[39m \u001b[38;5;241m1\u001b[39m:\n\u001b[1;32m---> 66\u001b[0m         \u001b[43m_optimize_sequential\u001b[49m\u001b[43m(\u001b[49m\n\u001b[0;32m     67\u001b[0m \u001b[43m            \u001b[49m\u001b[43mstudy\u001b[49m\u001b[43m,\u001b[49m\n\u001b[0;32m     68\u001b[0m \u001b[43m            \u001b[49m\u001b[43mfunc\u001b[49m\u001b[43m,\u001b[49m\n\u001b[0;32m     69\u001b[0m \u001b[43m            \u001b[49m\u001b[43mn_trials\u001b[49m\u001b[43m,\u001b[49m\n\u001b[0;32m     70\u001b[0m \u001b[43m            \u001b[49m\u001b[43mtimeout\u001b[49m\u001b[43m,\u001b[49m\n\u001b[0;32m     71\u001b[0m \u001b[43m            \u001b[49m\u001b[43mcatch\u001b[49m\u001b[43m,\u001b[49m\n\u001b[0;32m     72\u001b[0m \u001b[43m            \u001b[49m\u001b[43mcallbacks\u001b[49m\u001b[43m,\u001b[49m\n\u001b[0;32m     73\u001b[0m \u001b[43m            \u001b[49m\u001b[43mgc_after_trial\u001b[49m\u001b[43m,\u001b[49m\n\u001b[0;32m     74\u001b[0m \u001b[43m            \u001b[49m\u001b[43mreseed_sampler_rng\u001b[49m\u001b[38;5;241;43m=\u001b[39;49m\u001b[38;5;28;43;01mFalse\u001b[39;49;00m\u001b[43m,\u001b[49m\n\u001b[0;32m     75\u001b[0m \u001b[43m            \u001b[49m\u001b[43mtime_start\u001b[49m\u001b[38;5;241;43m=\u001b[39;49m\u001b[38;5;28;43;01mNone\u001b[39;49;00m\u001b[43m,\u001b[49m\n\u001b[0;32m     76\u001b[0m \u001b[43m            \u001b[49m\u001b[43mprogress_bar\u001b[49m\u001b[38;5;241;43m=\u001b[39;49m\u001b[43mprogress_bar\u001b[49m\u001b[43m,\u001b[49m\n\u001b[0;32m     77\u001b[0m \u001b[43m        \u001b[49m\u001b[43m)\u001b[49m\n\u001b[0;32m     78\u001b[0m     \u001b[38;5;28;01melse\u001b[39;00m:\n\u001b[0;32m     79\u001b[0m         \u001b[38;5;28;01mif\u001b[39;00m n_jobs \u001b[38;5;241m==\u001b[39m \u001b[38;5;241m-\u001b[39m\u001b[38;5;241m1\u001b[39m:\n",
      "File \u001b[1;32mC:\\Anaconda3\\lib\\site-packages\\optuna\\study\\_optimize.py:163\u001b[0m, in \u001b[0;36m_optimize_sequential\u001b[1;34m(study, func, n_trials, timeout, catch, callbacks, gc_after_trial, reseed_sampler_rng, time_start, progress_bar)\u001b[0m\n\u001b[0;32m    160\u001b[0m         \u001b[38;5;28;01mbreak\u001b[39;00m\n\u001b[0;32m    162\u001b[0m \u001b[38;5;28;01mtry\u001b[39;00m:\n\u001b[1;32m--> 163\u001b[0m     frozen_trial \u001b[38;5;241m=\u001b[39m \u001b[43m_run_trial\u001b[49m\u001b[43m(\u001b[49m\u001b[43mstudy\u001b[49m\u001b[43m,\u001b[49m\u001b[43m \u001b[49m\u001b[43mfunc\u001b[49m\u001b[43m,\u001b[49m\u001b[43m \u001b[49m\u001b[43mcatch\u001b[49m\u001b[43m)\u001b[49m\n\u001b[0;32m    164\u001b[0m \u001b[38;5;28;01mfinally\u001b[39;00m:\n\u001b[0;32m    165\u001b[0m     \u001b[38;5;66;03m# The following line mitigates memory problems that can be occurred in some\u001b[39;00m\n\u001b[0;32m    166\u001b[0m     \u001b[38;5;66;03m# environments (e.g., services that use computing containers such as GitHub Actions).\u001b[39;00m\n\u001b[0;32m    167\u001b[0m     \u001b[38;5;66;03m# Please refer to the following PR for further details:\u001b[39;00m\n\u001b[0;32m    168\u001b[0m     \u001b[38;5;66;03m# https://github.com/optuna/optuna/pull/325.\u001b[39;00m\n\u001b[0;32m    169\u001b[0m     \u001b[38;5;28;01mif\u001b[39;00m gc_after_trial:\n",
      "File \u001b[1;32mC:\\Anaconda3\\lib\\site-packages\\optuna\\study\\_optimize.py:251\u001b[0m, in \u001b[0;36m_run_trial\u001b[1;34m(study, func, catch)\u001b[0m\n\u001b[0;32m    244\u001b[0m         \u001b[38;5;28;01massert\u001b[39;00m \u001b[38;5;28;01mFalse\u001b[39;00m, \u001b[38;5;124m\"\u001b[39m\u001b[38;5;124mShould not reach.\u001b[39m\u001b[38;5;124m\"\u001b[39m\n\u001b[0;32m    246\u001b[0m \u001b[38;5;28;01mif\u001b[39;00m (\n\u001b[0;32m    247\u001b[0m     frozen_trial\u001b[38;5;241m.\u001b[39mstate \u001b[38;5;241m==\u001b[39m TrialState\u001b[38;5;241m.\u001b[39mFAIL\n\u001b[0;32m    248\u001b[0m     \u001b[38;5;129;01mand\u001b[39;00m func_err \u001b[38;5;129;01mis\u001b[39;00m \u001b[38;5;129;01mnot\u001b[39;00m \u001b[38;5;28;01mNone\u001b[39;00m\n\u001b[0;32m    249\u001b[0m     \u001b[38;5;129;01mand\u001b[39;00m \u001b[38;5;129;01mnot\u001b[39;00m \u001b[38;5;28misinstance\u001b[39m(func_err, catch)\n\u001b[0;32m    250\u001b[0m ):\n\u001b[1;32m--> 251\u001b[0m     \u001b[38;5;28;01mraise\u001b[39;00m func_err\n\u001b[0;32m    252\u001b[0m \u001b[38;5;28;01mreturn\u001b[39;00m frozen_trial\n",
      "File \u001b[1;32mC:\\Anaconda3\\lib\\site-packages\\optuna\\study\\_optimize.py:200\u001b[0m, in \u001b[0;36m_run_trial\u001b[1;34m(study, func, catch)\u001b[0m\n\u001b[0;32m    198\u001b[0m \u001b[38;5;28;01mwith\u001b[39;00m get_heartbeat_thread(trial\u001b[38;5;241m.\u001b[39m_trial_id, study\u001b[38;5;241m.\u001b[39m_storage):\n\u001b[0;32m    199\u001b[0m     \u001b[38;5;28;01mtry\u001b[39;00m:\n\u001b[1;32m--> 200\u001b[0m         value_or_values \u001b[38;5;241m=\u001b[39m \u001b[43mfunc\u001b[49m\u001b[43m(\u001b[49m\u001b[43mtrial\u001b[49m\u001b[43m)\u001b[49m\n\u001b[0;32m    201\u001b[0m     \u001b[38;5;28;01mexcept\u001b[39;00m exceptions\u001b[38;5;241m.\u001b[39mTrialPruned \u001b[38;5;28;01mas\u001b[39;00m e:\n\u001b[0;32m    202\u001b[0m         \u001b[38;5;66;03m# TODO(mamu): Handle multi-objective cases.\u001b[39;00m\n\u001b[0;32m    203\u001b[0m         state \u001b[38;5;241m=\u001b[39m TrialState\u001b[38;5;241m.\u001b[39mPRUNED\n",
      "Cell \u001b[1;32mIn[413], line 33\u001b[0m, in \u001b[0;36mobjective\u001b[1;34m(trial)\u001b[0m\n\u001b[0;32m     30\u001b[0m lgbm \u001b[38;5;241m=\u001b[39m LGBMClassifier(is_unbalance\u001b[38;5;241m=\u001b[39m\u001b[38;5;28;01mTrue\u001b[39;00m, num_threads \u001b[38;5;241m=\u001b[39m \u001b[38;5;241m6\u001b[39m, force_row_wise\u001b[38;5;241m=\u001b[39m\u001b[38;5;28;01mTrue\u001b[39;00m, \u001b[38;5;241m*\u001b[39m\u001b[38;5;241m*\u001b[39mparam_grid)\n\u001b[0;32m     31\u001b[0m cvr \u001b[38;5;241m=\u001b[39m []\n\u001b[1;32m---> 33\u001b[0m \u001b[38;5;28;01mfor\u001b[39;00m ti, di \u001b[38;5;129;01min\u001b[39;00m StratifiedKFold(n_splits\u001b[38;5;241m=\u001b[39m\u001b[38;5;241m5\u001b[39m, shuffle\u001b[38;5;241m=\u001b[39m\u001b[38;5;28;01mTrue\u001b[39;00m)\u001b[38;5;241m.\u001b[39msplit(X, y):\n\u001b[0;32m     34\u001b[0m     Xt \u001b[38;5;241m=\u001b[39m X\u001b[38;5;241m.\u001b[39miloc[ti]\n\u001b[0;32m     35\u001b[0m     \u001b[38;5;66;03m#print(ti)\u001b[39;00m\n",
      "File \u001b[1;32mC:\\Anaconda3\\lib\\site-packages\\sklearn\\model_selection\\_split.py:352\u001b[0m, in \u001b[0;36m_BaseKFold.split\u001b[1;34m(self, X, y, groups)\u001b[0m\n\u001b[0;32m    344\u001b[0m \u001b[38;5;28;01mif\u001b[39;00m \u001b[38;5;28mself\u001b[39m\u001b[38;5;241m.\u001b[39mn_splits \u001b[38;5;241m>\u001b[39m n_samples:\n\u001b[0;32m    345\u001b[0m     \u001b[38;5;28;01mraise\u001b[39;00m \u001b[38;5;167;01mValueError\u001b[39;00m(\n\u001b[0;32m    346\u001b[0m         (\n\u001b[0;32m    347\u001b[0m             \u001b[38;5;124m\"\u001b[39m\u001b[38;5;124mCannot have number of splits n_splits=\u001b[39m\u001b[38;5;132;01m{0}\u001b[39;00m\u001b[38;5;124m greater\u001b[39m\u001b[38;5;124m\"\u001b[39m\n\u001b[0;32m    348\u001b[0m             \u001b[38;5;124m\"\u001b[39m\u001b[38;5;124m than the number of samples: n_samples=\u001b[39m\u001b[38;5;132;01m{1}\u001b[39;00m\u001b[38;5;124m.\u001b[39m\u001b[38;5;124m\"\u001b[39m\n\u001b[0;32m    349\u001b[0m         )\u001b[38;5;241m.\u001b[39mformat(\u001b[38;5;28mself\u001b[39m\u001b[38;5;241m.\u001b[39mn_splits, n_samples)\n\u001b[0;32m    350\u001b[0m     )\n\u001b[1;32m--> 352\u001b[0m \u001b[38;5;28;01mfor\u001b[39;00m train, test \u001b[38;5;129;01min\u001b[39;00m \u001b[38;5;28msuper\u001b[39m()\u001b[38;5;241m.\u001b[39msplit(X, y, groups):\n\u001b[0;32m    353\u001b[0m     \u001b[38;5;28;01myield\u001b[39;00m train, test\n",
      "File \u001b[1;32mC:\\Anaconda3\\lib\\site-packages\\sklearn\\model_selection\\_split.py:87\u001b[0m, in \u001b[0;36mBaseCrossValidator.split\u001b[1;34m(self, X, y, groups)\u001b[0m\n\u001b[0;32m     85\u001b[0m \u001b[38;5;28;01mfor\u001b[39;00m test_index \u001b[38;5;129;01min\u001b[39;00m \u001b[38;5;28mself\u001b[39m\u001b[38;5;241m.\u001b[39m_iter_test_masks(X, y, groups):\n\u001b[0;32m     86\u001b[0m     train_index \u001b[38;5;241m=\u001b[39m indices[np\u001b[38;5;241m.\u001b[39mlogical_not(test_index)]\n\u001b[1;32m---> 87\u001b[0m     test_index \u001b[38;5;241m=\u001b[39m \u001b[43mindices\u001b[49m\u001b[43m[\u001b[49m\u001b[43mtest_index\u001b[49m\u001b[43m]\u001b[49m\n\u001b[0;32m     88\u001b[0m     \u001b[38;5;28;01myield\u001b[39;00m train_index, test_index\n",
      "\u001b[1;31mKeyboardInterrupt\u001b[0m: "
     ]
    }
   ],
   "source": [
    "import optuna\n",
    "import numpy as np\n",
    "#from optuna.integration import LightGBMPruningCallback\n",
    "from sklearn.model_selection import StratifiedKFold\n",
    "\n",
    "def objective(trial):\n",
    "    param_grid = {\n",
    "        # \"device_type\": trial.suggest_categorical(\"device_type\", ['gpu']),\n",
    "        \"n_estimators\": trial.suggest_categorical(\"n_estimators\", [500]),\n",
    "        \"learning_rate\": trial.suggest_float(\"learning_rate\", 0.01, 0.3),\n",
    "        #\"num_leaves\": trial.suggest_int(\"num_leaves\", 20, 300, step=20),\n",
    "        #\"min_child_samples\": trial.suggest_int(\"min_child_samples\", 5, 100, step=5),\n",
    "        #\"lambda_l1\": trial.suggest_int(\"lambda_l1\", 0, 100, step=5),\n",
    "        #\"lambda_l2\": trial.suggest_int(\"lambda_l2\", 0, 100, step=5),\n",
    "        \"min_split_gain\": trial.suggest_float(\"min_split_gain\", 0, 0.1),\n",
    "        #\"subsample\": trial.suggest_float(\n",
    "        #    \"subsample\", 0.2, 0.95, step=0.1\n",
    "        #),\n",
    "        #\"subsample_freq\": trial.suggest_categorical(\"subsample_freq\", [1]),\n",
    "        #\"colsample_bytree\": trial.suggest_float(\n",
    "        #    \"colsample_bytree\", 0.2, 0.95, step=0.1\n",
    "        #),\n",
    "        \"max_depth\": trial.suggest_categorical(\"max_depth\", [-1, 3, 4, 5, 6, 8, 10]),\n",
    "        \"max_cat_threshold\": trial.suggest_categorical(\"max_cat_threshold\", [8, 16, 32, 64, 128]), \n",
    "        \"cat_l2\": trial.suggest_float(\"cat_l2\", 5.0, 100.0)\n",
    "        \n",
    "    }\n",
    "    \n",
    "    \n",
    "    lgbm = LGBMClassifier(is_unbalance=True, num_threads = 6, force_row_wise=True, **param_grid)\n",
    "    cvr = []\n",
    "    \n",
    "    for ti, di in StratifiedKFold(n_splits=5, shuffle=True).split(X, y):\n",
    "        Xt = X.iloc[ti]\n",
    "        #print(ti)\n",
    "        yt = y[ti]\n",
    "        \n",
    "        Xd = X.iloc[di]\n",
    "        yd = y[di]\n",
    "        \n",
    "        lgbm.fit(\n",
    "            Xt,\n",
    "            yt\n",
    "        )\n",
    "        \n",
    "\n",
    "        #lgbm.fit(Xt, yt, sample_weight = sample_weights[ti])\n",
    "\n",
    "        ypred = lgbm.predict(Xd)\n",
    "        \n",
    "        \n",
    "        cvr.append(f1_score(yd, ypred))\n",
    "\n",
    "        #print(confusion_matrix(yd, [int(x) if x>=0 else 0 for x in np.round(ypred)]))\n",
    "\n",
    "    return np.mean(cvr)\n",
    "\n",
    "\n",
    "study = optuna.create_study(direction=\"maximize\", study_name=\"LGBM Classifier\")\n",
    "study.optimize(objective, n_trials=100)"
   ]
  },
  {
   "cell_type": "code",
   "execution_count": 268,
   "id": "a7892d6c",
   "metadata": {},
   "outputs": [
    {
     "data": {
      "text/plain": [
       "{'n_estimators': 500,\n",
       " 'learning_rate': 0.1653879638699648,\n",
       " 'num_leaves': 60,\n",
       " 'max_depth': 8,\n",
       " 'max_cat_threshold': 32,\n",
       " 'cat_l2': 25.2041278553189}"
      ]
     },
     "execution_count": 268,
     "metadata": {},
     "output_type": "execute_result"
    }
   ],
   "source": [
    "study.best_params"
   ]
  },
  {
   "cell_type": "code",
   "execution_count": 310,
   "id": "4367727d",
   "metadata": {},
   "outputs": [
    {
     "data": {
      "text/html": [
       "<style>#sk-container-id-20 {color: black;background-color: white;}#sk-container-id-20 pre{padding: 0;}#sk-container-id-20 div.sk-toggleable {background-color: white;}#sk-container-id-20 label.sk-toggleable__label {cursor: pointer;display: block;width: 100%;margin-bottom: 0;padding: 0.3em;box-sizing: border-box;text-align: center;}#sk-container-id-20 label.sk-toggleable__label-arrow:before {content: \"▸\";float: left;margin-right: 0.25em;color: #696969;}#sk-container-id-20 label.sk-toggleable__label-arrow:hover:before {color: black;}#sk-container-id-20 div.sk-estimator:hover label.sk-toggleable__label-arrow:before {color: black;}#sk-container-id-20 div.sk-toggleable__content {max-height: 0;max-width: 0;overflow: hidden;text-align: left;background-color: #f0f8ff;}#sk-container-id-20 div.sk-toggleable__content pre {margin: 0.2em;color: black;border-radius: 0.25em;background-color: #f0f8ff;}#sk-container-id-20 input.sk-toggleable__control:checked~div.sk-toggleable__content {max-height: 200px;max-width: 100%;overflow: auto;}#sk-container-id-20 input.sk-toggleable__control:checked~label.sk-toggleable__label-arrow:before {content: \"▾\";}#sk-container-id-20 div.sk-estimator input.sk-toggleable__control:checked~label.sk-toggleable__label {background-color: #d4ebff;}#sk-container-id-20 div.sk-label input.sk-toggleable__control:checked~label.sk-toggleable__label {background-color: #d4ebff;}#sk-container-id-20 input.sk-hidden--visually {border: 0;clip: rect(1px 1px 1px 1px);clip: rect(1px, 1px, 1px, 1px);height: 1px;margin: -1px;overflow: hidden;padding: 0;position: absolute;width: 1px;}#sk-container-id-20 div.sk-estimator {font-family: monospace;background-color: #f0f8ff;border: 1px dotted black;border-radius: 0.25em;box-sizing: border-box;margin-bottom: 0.5em;}#sk-container-id-20 div.sk-estimator:hover {background-color: #d4ebff;}#sk-container-id-20 div.sk-parallel-item::after {content: \"\";width: 100%;border-bottom: 1px solid gray;flex-grow: 1;}#sk-container-id-20 div.sk-label:hover label.sk-toggleable__label {background-color: #d4ebff;}#sk-container-id-20 div.sk-serial::before {content: \"\";position: absolute;border-left: 1px solid gray;box-sizing: border-box;top: 0;bottom: 0;left: 50%;z-index: 0;}#sk-container-id-20 div.sk-serial {display: flex;flex-direction: column;align-items: center;background-color: white;padding-right: 0.2em;padding-left: 0.2em;position: relative;}#sk-container-id-20 div.sk-item {position: relative;z-index: 1;}#sk-container-id-20 div.sk-parallel {display: flex;align-items: stretch;justify-content: center;background-color: white;position: relative;}#sk-container-id-20 div.sk-item::before, #sk-container-id-20 div.sk-parallel-item::before {content: \"\";position: absolute;border-left: 1px solid gray;box-sizing: border-box;top: 0;bottom: 0;left: 50%;z-index: -1;}#sk-container-id-20 div.sk-parallel-item {display: flex;flex-direction: column;z-index: 1;position: relative;background-color: white;}#sk-container-id-20 div.sk-parallel-item:first-child::after {align-self: flex-end;width: 50%;}#sk-container-id-20 div.sk-parallel-item:last-child::after {align-self: flex-start;width: 50%;}#sk-container-id-20 div.sk-parallel-item:only-child::after {width: 0;}#sk-container-id-20 div.sk-dashed-wrapped {border: 1px dashed gray;margin: 0 0.4em 0.5em 0.4em;box-sizing: border-box;padding-bottom: 0.4em;background-color: white;}#sk-container-id-20 div.sk-label label {font-family: monospace;font-weight: bold;display: inline-block;line-height: 1.2em;}#sk-container-id-20 div.sk-label-container {text-align: center;}#sk-container-id-20 div.sk-container {/* jupyter's `normalize.less` sets `[hidden] { display: none; }` but bootstrap.min.css set `[hidden] { display: none !important; }` so we also need the `!important` here to be able to override the default hidden behavior on the sphinx rendered scikit-learn.org. See: https://github.com/scikit-learn/scikit-learn/issues/21755 */display: inline-block !important;position: relative;}#sk-container-id-20 div.sk-text-repr-fallback {display: none;}</style><div id=\"sk-container-id-20\" class=\"sk-top-container\"><div class=\"sk-text-repr-fallback\"><pre>LGBMClassifier(cat_l2=68.60685058667403, force_row_wise=True, is_unbalance=True,\n",
       "               learning_rate=0.13404981239009836, max_cat_threshold=32,\n",
       "               min_split_gain=0.03842333239584914, n_estimators=500,\n",
       "               num_threads=8, seed=77)</pre><b>In a Jupyter environment, please rerun this cell to show the HTML representation or trust the notebook. <br />On GitHub, the HTML representation is unable to render, please try loading this page with nbviewer.org.</b></div><div class=\"sk-container\" hidden><div class=\"sk-item\"><div class=\"sk-estimator sk-toggleable\"><input class=\"sk-toggleable__control sk-hidden--visually\" id=\"sk-estimator-id-20\" type=\"checkbox\" checked><label for=\"sk-estimator-id-20\" class=\"sk-toggleable__label sk-toggleable__label-arrow\">LGBMClassifier</label><div class=\"sk-toggleable__content\"><pre>LGBMClassifier(cat_l2=68.60685058667403, force_row_wise=True, is_unbalance=True,\n",
       "               learning_rate=0.13404981239009836, max_cat_threshold=32,\n",
       "               min_split_gain=0.03842333239584914, n_estimators=500,\n",
       "               num_threads=8, seed=77)</pre></div></div></div></div></div>"
      ],
      "text/plain": [
       "LGBMClassifier(cat_l2=68.60685058667403, force_row_wise=True, is_unbalance=True,\n",
       "               learning_rate=0.13404981239009836, max_cat_threshold=32,\n",
       "               min_split_gain=0.03842333239584914, n_estimators=500,\n",
       "               num_threads=8, seed=77)"
      ]
     },
     "execution_count": 310,
     "metadata": {},
     "output_type": "execute_result"
    }
   ],
   "source": [
    "lgbm = LGBMClassifier(is_unbalance=True, num_threads = 8, force_row_wise=True, seed = 77, **{'n_estimators': 500, \n",
    " 'learning_rate': 0.13404981239009836, \n",
    " 'min_split_gain': 0.03842333239584914, \n",
    " 'max_depth': -1, \n",
    " 'max_cat_threshold': 32, \n",
    " 'cat_l2': 68.60685058667403})\n",
    "\n",
    "lgbm.fit(X_train, y_train)"
   ]
  },
  {
   "cell_type": "code",
   "execution_count": 260,
   "id": "2e980373",
   "metadata": {},
   "outputs": [],
   "source": [
    "y_pred = lgbm.predict(X_test)"
   ]
  },
  {
   "cell_type": "code",
   "execution_count": 311,
   "id": "598fc39c",
   "metadata": {},
   "outputs": [
    {
     "data": {
      "text/plain": [
       "0.5083333333333333"
      ]
     },
     "execution_count": 311,
     "metadata": {},
     "output_type": "execute_result"
    }
   ],
   "source": [
    "from sklearn.metrics import f1_score\n",
    "f1_score(y_test, y_pred)"
   ]
  },
  {
   "cell_type": "code",
   "execution_count": 228,
   "id": "452a205a",
   "metadata": {},
   "outputs": [
    {
     "data": {
      "text/plain": [
       "[('probeg', 85000),\n",
       " ('time_before_srok_sl', 73727),\n",
       " ('age', 70465),\n",
       " ('under_load_percent', 66132),\n",
       " ('last_month_std', 62623),\n",
       " ('under_load_dist', 53323),\n",
       " ('time_before_remont', 49907),\n",
       " ('nearrepair', 41690),\n",
       " ('under_load_days', 39959),\n",
       " ('last_month_run', 36222),\n",
       " ('last_month_mean', 32189),\n",
       " ('cur_st_send', 28207),\n",
       " ('num_small_repairs', 13870),\n",
       " ('cur_st_dest', 10195),\n",
       " ('tormoz', 6178),\n",
       " ('kod_remont', 5781),\n",
       " ('kuzov', 5037),\n",
       " ('tara', 3113),\n",
       " ('ownertype', 2773),\n",
       " ('manage_type', 2388),\n",
       " ('rod_id', 1572),\n",
       " ('stat_remont', 1437),\n",
       " ('kod_vrab_tr_rems', 1173),\n",
       " ('model', 1081),\n",
       " ('zavod_build', 455),\n",
       " ('cnsi_probeg_kr', 204),\n",
       " ('tipvozd', 155),\n",
       " ('tippogl', 134),\n",
       " ('gruz', 10),\n",
       " ('norma_km', 0),\n",
       " ('telega', 0),\n",
       " ('cnsi_probeg_dr', 0),\n",
       " ('cnsi_volumek', 0),\n",
       " ('cnsi_gruz_capacity', 0)]"
      ]
     },
     "execution_count": 228,
     "metadata": {},
     "output_type": "execute_result"
    }
   ],
   "source": [
    "sorted(list(zip(X_train.columns, lgbm.feature_importances_)), key=lambda x: x[1])[::-1]"
   ]
  },
  {
   "cell_type": "code",
   "execution_count": null,
   "id": "932b52e2",
   "metadata": {},
   "outputs": [],
   "source": []
  },
  {
   "cell_type": "code",
   "execution_count": null,
   "id": "cb87f877",
   "metadata": {},
   "outputs": [],
   "source": []
  }
 ],
 "metadata": {
  "kernelspec": {
   "display_name": "Python 3 (ipykernel)",
   "language": "python",
   "name": "python3"
  },
  "language_info": {
   "codemirror_mode": {
    "name": "ipython",
    "version": 3
   },
   "file_extension": ".py",
   "mimetype": "text/x-python",
   "name": "python",
   "nbconvert_exporter": "python",
   "pygments_lexer": "ipython3",
   "version": "3.11.3"
  }
 },
 "nbformat": 4,
 "nbformat_minor": 5
}
